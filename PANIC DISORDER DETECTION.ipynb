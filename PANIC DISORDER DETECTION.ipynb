{
 "cells": [
  {
   "cell_type": "markdown",
   "id": "7f000997-038b-4936-839c-345154e48403",
   "metadata": {},
   "source": [
    "# PANIC DISORDER DETECTION"
   ]
  },
  {
   "cell_type": "markdown",
   "id": "377d2fbb-d99a-41a4-9d98-153f83095ff7",
   "metadata": {},
   "source": [
    "# HELPS RESERACHERS TO INVESTIGATE DIAGNOSIS STATUS OVER THE DISORDER."
   ]
  },
  {
   "cell_type": "code",
   "execution_count": 1,
   "id": "75128051-ded3-4032-8241-3bebaf1abc77",
   "metadata": {},
   "outputs": [],
   "source": [
    "import warnings\n",
    "warnings.filterwarnings('ignore')\n",
    "import numpy as np\n",
    "import pandas as pd\n",
    "import matplotlib.pyplot as plt\n",
    "import seaborn as sns"
   ]
  },
  {
   "cell_type": "code",
   "execution_count": 2,
   "id": "010d72cd-094e-4c08-8fbd-0f702f80afd0",
   "metadata": {},
   "outputs": [
    {
     "data": {
      "text/html": [
       "<div>\n",
       "<style scoped>\n",
       "    .dataframe tbody tr th:only-of-type {\n",
       "        vertical-align: middle;\n",
       "    }\n",
       "\n",
       "    .dataframe tbody tr th {\n",
       "        vertical-align: top;\n",
       "    }\n",
       "\n",
       "    .dataframe thead th {\n",
       "        text-align: right;\n",
       "    }\n",
       "</style>\n",
       "<table border=\"1\" class=\"dataframe\">\n",
       "  <thead>\n",
       "    <tr style=\"text-align: right;\">\n",
       "      <th></th>\n",
       "      <th>Participant ID</th>\n",
       "      <th>Age</th>\n",
       "      <th>Gender</th>\n",
       "      <th>Family History</th>\n",
       "      <th>Personal History</th>\n",
       "      <th>Current Stressors</th>\n",
       "      <th>Symptoms</th>\n",
       "      <th>Severity</th>\n",
       "      <th>Impact on Life</th>\n",
       "      <th>Demographics</th>\n",
       "      <th>Medical History</th>\n",
       "      <th>Psychiatric History</th>\n",
       "      <th>Substance Use</th>\n",
       "      <th>Coping Mechanisms</th>\n",
       "      <th>Social Support</th>\n",
       "      <th>Lifestyle Factors</th>\n",
       "      <th>Panic Disorder Diagnosis</th>\n",
       "    </tr>\n",
       "  </thead>\n",
       "  <tbody>\n",
       "    <tr>\n",
       "      <th>0</th>\n",
       "      <td>1</td>\n",
       "      <td>38</td>\n",
       "      <td>Male</td>\n",
       "      <td>No</td>\n",
       "      <td>Yes</td>\n",
       "      <td>Moderate</td>\n",
       "      <td>Shortness of breath</td>\n",
       "      <td>Mild</td>\n",
       "      <td>Mild</td>\n",
       "      <td>Rural</td>\n",
       "      <td>Diabetes</td>\n",
       "      <td>Bipolar disorder</td>\n",
       "      <td>NaN</td>\n",
       "      <td>Socializing</td>\n",
       "      <td>High</td>\n",
       "      <td>Sleep quality</td>\n",
       "      <td>0</td>\n",
       "    </tr>\n",
       "    <tr>\n",
       "      <th>1</th>\n",
       "      <td>2</td>\n",
       "      <td>51</td>\n",
       "      <td>Male</td>\n",
       "      <td>No</td>\n",
       "      <td>No</td>\n",
       "      <td>High</td>\n",
       "      <td>Panic attacks</td>\n",
       "      <td>Mild</td>\n",
       "      <td>Mild</td>\n",
       "      <td>Urban</td>\n",
       "      <td>Asthma</td>\n",
       "      <td>Anxiety disorder</td>\n",
       "      <td>Drugs</td>\n",
       "      <td>Exercise</td>\n",
       "      <td>High</td>\n",
       "      <td>Sleep quality</td>\n",
       "      <td>0</td>\n",
       "    </tr>\n",
       "    <tr>\n",
       "      <th>2</th>\n",
       "      <td>3</td>\n",
       "      <td>32</td>\n",
       "      <td>Female</td>\n",
       "      <td>Yes</td>\n",
       "      <td>No</td>\n",
       "      <td>High</td>\n",
       "      <td>Panic attacks</td>\n",
       "      <td>Mild</td>\n",
       "      <td>Significant</td>\n",
       "      <td>Urban</td>\n",
       "      <td>Diabetes</td>\n",
       "      <td>Depressive disorder</td>\n",
       "      <td>NaN</td>\n",
       "      <td>Seeking therapy</td>\n",
       "      <td>Moderate</td>\n",
       "      <td>Exercise</td>\n",
       "      <td>0</td>\n",
       "    </tr>\n",
       "    <tr>\n",
       "      <th>3</th>\n",
       "      <td>4</td>\n",
       "      <td>64</td>\n",
       "      <td>Female</td>\n",
       "      <td>No</td>\n",
       "      <td>No</td>\n",
       "      <td>Moderate</td>\n",
       "      <td>Chest pain</td>\n",
       "      <td>Moderate</td>\n",
       "      <td>Moderate</td>\n",
       "      <td>Rural</td>\n",
       "      <td>Diabetes</td>\n",
       "      <td>NaN</td>\n",
       "      <td>NaN</td>\n",
       "      <td>Meditation</td>\n",
       "      <td>High</td>\n",
       "      <td>Exercise</td>\n",
       "      <td>0</td>\n",
       "    </tr>\n",
       "    <tr>\n",
       "      <th>4</th>\n",
       "      <td>5</td>\n",
       "      <td>31</td>\n",
       "      <td>Male</td>\n",
       "      <td>Yes</td>\n",
       "      <td>No</td>\n",
       "      <td>Moderate</td>\n",
       "      <td>Panic attacks</td>\n",
       "      <td>Mild</td>\n",
       "      <td>Moderate</td>\n",
       "      <td>Rural</td>\n",
       "      <td>Asthma</td>\n",
       "      <td>NaN</td>\n",
       "      <td>Drugs</td>\n",
       "      <td>Seeking therapy</td>\n",
       "      <td>Low</td>\n",
       "      <td>Sleep quality</td>\n",
       "      <td>0</td>\n",
       "    </tr>\n",
       "    <tr>\n",
       "      <th>...</th>\n",
       "      <td>...</td>\n",
       "      <td>...</td>\n",
       "      <td>...</td>\n",
       "      <td>...</td>\n",
       "      <td>...</td>\n",
       "      <td>...</td>\n",
       "      <td>...</td>\n",
       "      <td>...</td>\n",
       "      <td>...</td>\n",
       "      <td>...</td>\n",
       "      <td>...</td>\n",
       "      <td>...</td>\n",
       "      <td>...</td>\n",
       "      <td>...</td>\n",
       "      <td>...</td>\n",
       "      <td>...</td>\n",
       "      <td>...</td>\n",
       "    </tr>\n",
       "    <tr>\n",
       "      <th>99995</th>\n",
       "      <td>99996</td>\n",
       "      <td>22</td>\n",
       "      <td>Male</td>\n",
       "      <td>Yes</td>\n",
       "      <td>No</td>\n",
       "      <td>High</td>\n",
       "      <td>Chest pain</td>\n",
       "      <td>Mild</td>\n",
       "      <td>Mild</td>\n",
       "      <td>Rural</td>\n",
       "      <td>Heart disease</td>\n",
       "      <td>NaN</td>\n",
       "      <td>NaN</td>\n",
       "      <td>Socializing</td>\n",
       "      <td>Low</td>\n",
       "      <td>Diet</td>\n",
       "      <td>0</td>\n",
       "    </tr>\n",
       "    <tr>\n",
       "      <th>99996</th>\n",
       "      <td>99997</td>\n",
       "      <td>57</td>\n",
       "      <td>Female</td>\n",
       "      <td>No</td>\n",
       "      <td>Yes</td>\n",
       "      <td>Low</td>\n",
       "      <td>Panic attacks</td>\n",
       "      <td>Severe</td>\n",
       "      <td>Mild</td>\n",
       "      <td>Rural</td>\n",
       "      <td>Heart disease</td>\n",
       "      <td>Depressive disorder</td>\n",
       "      <td>NaN</td>\n",
       "      <td>Meditation</td>\n",
       "      <td>High</td>\n",
       "      <td>Diet</td>\n",
       "      <td>0</td>\n",
       "    </tr>\n",
       "    <tr>\n",
       "      <th>99997</th>\n",
       "      <td>99998</td>\n",
       "      <td>20</td>\n",
       "      <td>Male</td>\n",
       "      <td>Yes</td>\n",
       "      <td>No</td>\n",
       "      <td>Moderate</td>\n",
       "      <td>Panic attacks</td>\n",
       "      <td>Severe</td>\n",
       "      <td>Moderate</td>\n",
       "      <td>Rural</td>\n",
       "      <td>Heart disease</td>\n",
       "      <td>Bipolar disorder</td>\n",
       "      <td>NaN</td>\n",
       "      <td>Seeking therapy</td>\n",
       "      <td>Low</td>\n",
       "      <td>Exercise</td>\n",
       "      <td>0</td>\n",
       "    </tr>\n",
       "    <tr>\n",
       "      <th>99998</th>\n",
       "      <td>99999</td>\n",
       "      <td>56</td>\n",
       "      <td>Female</td>\n",
       "      <td>Yes</td>\n",
       "      <td>Yes</td>\n",
       "      <td>High</td>\n",
       "      <td>Chest pain</td>\n",
       "      <td>Severe</td>\n",
       "      <td>Mild</td>\n",
       "      <td>Rural</td>\n",
       "      <td>Diabetes</td>\n",
       "      <td>Anxiety disorder</td>\n",
       "      <td>Drugs</td>\n",
       "      <td>Socializing</td>\n",
       "      <td>High</td>\n",
       "      <td>Sleep quality</td>\n",
       "      <td>1</td>\n",
       "    </tr>\n",
       "    <tr>\n",
       "      <th>99999</th>\n",
       "      <td>100000</td>\n",
       "      <td>18</td>\n",
       "      <td>Male</td>\n",
       "      <td>No</td>\n",
       "      <td>No</td>\n",
       "      <td>Low</td>\n",
       "      <td>Panic attacks</td>\n",
       "      <td>Severe</td>\n",
       "      <td>Mild</td>\n",
       "      <td>Rural</td>\n",
       "      <td>Diabetes</td>\n",
       "      <td>NaN</td>\n",
       "      <td>NaN</td>\n",
       "      <td>Meditation</td>\n",
       "      <td>Moderate</td>\n",
       "      <td>Exercise</td>\n",
       "      <td>0</td>\n",
       "    </tr>\n",
       "  </tbody>\n",
       "</table>\n",
       "<p>100000 rows × 17 columns</p>\n",
       "</div>"
      ],
      "text/plain": [
       "       Participant ID  Age  Gender Family History Personal History  \\\n",
       "0                   1   38    Male             No              Yes   \n",
       "1                   2   51    Male             No               No   \n",
       "2                   3   32  Female            Yes               No   \n",
       "3                   4   64  Female             No               No   \n",
       "4                   5   31    Male            Yes               No   \n",
       "...               ...  ...     ...            ...              ...   \n",
       "99995           99996   22    Male            Yes               No   \n",
       "99996           99997   57  Female             No              Yes   \n",
       "99997           99998   20    Male            Yes               No   \n",
       "99998           99999   56  Female            Yes              Yes   \n",
       "99999          100000   18    Male             No               No   \n",
       "\n",
       "      Current Stressors             Symptoms  Severity Impact on Life  \\\n",
       "0              Moderate  Shortness of breath      Mild           Mild   \n",
       "1                  High        Panic attacks      Mild           Mild   \n",
       "2                  High        Panic attacks      Mild    Significant   \n",
       "3              Moderate           Chest pain  Moderate       Moderate   \n",
       "4              Moderate        Panic attacks      Mild       Moderate   \n",
       "...                 ...                  ...       ...            ...   \n",
       "99995              High           Chest pain      Mild           Mild   \n",
       "99996               Low        Panic attacks    Severe           Mild   \n",
       "99997          Moderate        Panic attacks    Severe       Moderate   \n",
       "99998              High           Chest pain    Severe           Mild   \n",
       "99999               Low        Panic attacks    Severe           Mild   \n",
       "\n",
       "      Demographics Medical History  Psychiatric History Substance Use  \\\n",
       "0            Rural        Diabetes     Bipolar disorder           NaN   \n",
       "1            Urban          Asthma     Anxiety disorder         Drugs   \n",
       "2            Urban        Diabetes  Depressive disorder           NaN   \n",
       "3            Rural        Diabetes                  NaN           NaN   \n",
       "4            Rural          Asthma                  NaN         Drugs   \n",
       "...            ...             ...                  ...           ...   \n",
       "99995        Rural   Heart disease                  NaN           NaN   \n",
       "99996        Rural   Heart disease  Depressive disorder           NaN   \n",
       "99997        Rural   Heart disease     Bipolar disorder           NaN   \n",
       "99998        Rural        Diabetes     Anxiety disorder         Drugs   \n",
       "99999        Rural        Diabetes                  NaN           NaN   \n",
       "\n",
       "      Coping Mechanisms Social Support Lifestyle Factors  \\\n",
       "0           Socializing           High     Sleep quality   \n",
       "1              Exercise           High     Sleep quality   \n",
       "2       Seeking therapy       Moderate          Exercise   \n",
       "3            Meditation           High          Exercise   \n",
       "4       Seeking therapy            Low     Sleep quality   \n",
       "...                 ...            ...               ...   \n",
       "99995       Socializing            Low              Diet   \n",
       "99996        Meditation           High              Diet   \n",
       "99997   Seeking therapy            Low          Exercise   \n",
       "99998       Socializing           High     Sleep quality   \n",
       "99999        Meditation       Moderate          Exercise   \n",
       "\n",
       "       Panic Disorder Diagnosis  \n",
       "0                             0  \n",
       "1                             0  \n",
       "2                             0  \n",
       "3                             0  \n",
       "4                             0  \n",
       "...                         ...  \n",
       "99995                         0  \n",
       "99996                         0  \n",
       "99997                         0  \n",
       "99998                         1  \n",
       "99999                         0  \n",
       "\n",
       "[100000 rows x 17 columns]"
      ]
     },
     "execution_count": 2,
     "metadata": {},
     "output_type": "execute_result"
    }
   ],
   "source": [
    "train=pd.read_csv(r\"C:\\Users\\RUTVIKA SONDEKAR\\Desktop\\project data\\panic_disorder_dataset_training.csv\")\n",
    "train"
   ]
  },
  {
   "cell_type": "code",
   "execution_count": 3,
   "id": "e55b313c-b1ab-4bfe-b140-fc659c3f2512",
   "metadata": {},
   "outputs": [
    {
     "data": {
      "text/plain": [
       "(100000, 17)"
      ]
     },
     "execution_count": 3,
     "metadata": {},
     "output_type": "execute_result"
    }
   ],
   "source": [
    "train.shape"
   ]
  },
  {
   "cell_type": "code",
   "execution_count": 4,
   "id": "cde9a686-c288-4e20-91a7-01113775699e",
   "metadata": {},
   "outputs": [
    {
     "data": {
      "text/plain": [
       "Panic Disorder Diagnosis\n",
       "0    95715\n",
       "1     4285\n",
       "Name: count, dtype: int64"
      ]
     },
     "execution_count": 4,
     "metadata": {},
     "output_type": "execute_result"
    }
   ],
   "source": [
    "train[\"Panic Disorder Diagnosis\"].value_counts()"
   ]
  },
  {
   "cell_type": "code",
   "execution_count": 5,
   "id": "be99ff4c-19c0-438b-a527-0120281c49c0",
   "metadata": {},
   "outputs": [
    {
     "data": {
      "text/html": [
       "<div>\n",
       "<style scoped>\n",
       "    .dataframe tbody tr th:only-of-type {\n",
       "        vertical-align: middle;\n",
       "    }\n",
       "\n",
       "    .dataframe tbody tr th {\n",
       "        vertical-align: top;\n",
       "    }\n",
       "\n",
       "    .dataframe thead th {\n",
       "        text-align: right;\n",
       "    }\n",
       "</style>\n",
       "<table border=\"1\" class=\"dataframe\">\n",
       "  <thead>\n",
       "    <tr style=\"text-align: right;\">\n",
       "      <th></th>\n",
       "      <th>Participant ID</th>\n",
       "      <th>Age</th>\n",
       "      <th>Panic Disorder Diagnosis</th>\n",
       "    </tr>\n",
       "  </thead>\n",
       "  <tbody>\n",
       "    <tr>\n",
       "      <th>count</th>\n",
       "      <td>100000.000000</td>\n",
       "      <td>100000.000000</td>\n",
       "      <td>100000.00000</td>\n",
       "    </tr>\n",
       "    <tr>\n",
       "      <th>mean</th>\n",
       "      <td>50000.500000</td>\n",
       "      <td>41.454300</td>\n",
       "      <td>0.04285</td>\n",
       "    </tr>\n",
       "    <tr>\n",
       "      <th>std</th>\n",
       "      <td>28867.657797</td>\n",
       "      <td>13.839204</td>\n",
       "      <td>0.20252</td>\n",
       "    </tr>\n",
       "    <tr>\n",
       "      <th>min</th>\n",
       "      <td>1.000000</td>\n",
       "      <td>18.000000</td>\n",
       "      <td>0.00000</td>\n",
       "    </tr>\n",
       "    <tr>\n",
       "      <th>25%</th>\n",
       "      <td>25000.750000</td>\n",
       "      <td>29.000000</td>\n",
       "      <td>0.00000</td>\n",
       "    </tr>\n",
       "    <tr>\n",
       "      <th>50%</th>\n",
       "      <td>50000.500000</td>\n",
       "      <td>41.000000</td>\n",
       "      <td>0.00000</td>\n",
       "    </tr>\n",
       "    <tr>\n",
       "      <th>75%</th>\n",
       "      <td>75000.250000</td>\n",
       "      <td>53.000000</td>\n",
       "      <td>0.00000</td>\n",
       "    </tr>\n",
       "    <tr>\n",
       "      <th>max</th>\n",
       "      <td>100000.000000</td>\n",
       "      <td>65.000000</td>\n",
       "      <td>1.00000</td>\n",
       "    </tr>\n",
       "  </tbody>\n",
       "</table>\n",
       "</div>"
      ],
      "text/plain": [
       "       Participant ID            Age  Panic Disorder Diagnosis\n",
       "count   100000.000000  100000.000000              100000.00000\n",
       "mean     50000.500000      41.454300                   0.04285\n",
       "std      28867.657797      13.839204                   0.20252\n",
       "min          1.000000      18.000000                   0.00000\n",
       "25%      25000.750000      29.000000                   0.00000\n",
       "50%      50000.500000      41.000000                   0.00000\n",
       "75%      75000.250000      53.000000                   0.00000\n",
       "max     100000.000000      65.000000                   1.00000"
      ]
     },
     "execution_count": 5,
     "metadata": {},
     "output_type": "execute_result"
    }
   ],
   "source": [
    "train.describe()"
   ]
  },
  {
   "cell_type": "code",
   "execution_count": 6,
   "id": "6254a192-d283-455d-9f23-d56e44a2c269",
   "metadata": {},
   "outputs": [
    {
     "data": {
      "text/html": [
       "<div>\n",
       "<style scoped>\n",
       "    .dataframe tbody tr th:only-of-type {\n",
       "        vertical-align: middle;\n",
       "    }\n",
       "\n",
       "    .dataframe tbody tr th {\n",
       "        vertical-align: top;\n",
       "    }\n",
       "\n",
       "    .dataframe thead th {\n",
       "        text-align: right;\n",
       "    }\n",
       "</style>\n",
       "<table border=\"1\" class=\"dataframe\">\n",
       "  <thead>\n",
       "    <tr style=\"text-align: right;\">\n",
       "      <th></th>\n",
       "      <th>Participant ID</th>\n",
       "      <th>Age</th>\n",
       "      <th>Gender</th>\n",
       "      <th>Family History</th>\n",
       "      <th>Personal History</th>\n",
       "      <th>Current Stressors</th>\n",
       "      <th>Symptoms</th>\n",
       "      <th>Severity</th>\n",
       "      <th>Impact on Life</th>\n",
       "      <th>Demographics</th>\n",
       "      <th>Medical History</th>\n",
       "      <th>Psychiatric History</th>\n",
       "      <th>Substance Use</th>\n",
       "      <th>Coping Mechanisms</th>\n",
       "      <th>Social Support</th>\n",
       "      <th>Lifestyle Factors</th>\n",
       "      <th>Panic Disorder Diagnosis</th>\n",
       "    </tr>\n",
       "  </thead>\n",
       "  <tbody>\n",
       "    <tr>\n",
       "      <th>0</th>\n",
       "      <td>1</td>\n",
       "      <td>38</td>\n",
       "      <td>Male</td>\n",
       "      <td>No</td>\n",
       "      <td>Yes</td>\n",
       "      <td>Moderate</td>\n",
       "      <td>Shortness of breath</td>\n",
       "      <td>Mild</td>\n",
       "      <td>Mild</td>\n",
       "      <td>Rural</td>\n",
       "      <td>Diabetes</td>\n",
       "      <td>Bipolar disorder</td>\n",
       "      <td>NaN</td>\n",
       "      <td>Socializing</td>\n",
       "      <td>High</td>\n",
       "      <td>Sleep quality</td>\n",
       "      <td>0</td>\n",
       "    </tr>\n",
       "    <tr>\n",
       "      <th>1</th>\n",
       "      <td>2</td>\n",
       "      <td>51</td>\n",
       "      <td>Male</td>\n",
       "      <td>No</td>\n",
       "      <td>No</td>\n",
       "      <td>High</td>\n",
       "      <td>Panic attacks</td>\n",
       "      <td>Mild</td>\n",
       "      <td>Mild</td>\n",
       "      <td>Urban</td>\n",
       "      <td>Asthma</td>\n",
       "      <td>Anxiety disorder</td>\n",
       "      <td>Drugs</td>\n",
       "      <td>Exercise</td>\n",
       "      <td>High</td>\n",
       "      <td>Sleep quality</td>\n",
       "      <td>0</td>\n",
       "    </tr>\n",
       "    <tr>\n",
       "      <th>2</th>\n",
       "      <td>3</td>\n",
       "      <td>32</td>\n",
       "      <td>Female</td>\n",
       "      <td>Yes</td>\n",
       "      <td>No</td>\n",
       "      <td>High</td>\n",
       "      <td>Panic attacks</td>\n",
       "      <td>Mild</td>\n",
       "      <td>Significant</td>\n",
       "      <td>Urban</td>\n",
       "      <td>Diabetes</td>\n",
       "      <td>Depressive disorder</td>\n",
       "      <td>NaN</td>\n",
       "      <td>Seeking therapy</td>\n",
       "      <td>Moderate</td>\n",
       "      <td>Exercise</td>\n",
       "      <td>0</td>\n",
       "    </tr>\n",
       "    <tr>\n",
       "      <th>3</th>\n",
       "      <td>4</td>\n",
       "      <td>64</td>\n",
       "      <td>Female</td>\n",
       "      <td>No</td>\n",
       "      <td>No</td>\n",
       "      <td>Moderate</td>\n",
       "      <td>Chest pain</td>\n",
       "      <td>Moderate</td>\n",
       "      <td>Moderate</td>\n",
       "      <td>Rural</td>\n",
       "      <td>Diabetes</td>\n",
       "      <td>NaN</td>\n",
       "      <td>NaN</td>\n",
       "      <td>Meditation</td>\n",
       "      <td>High</td>\n",
       "      <td>Exercise</td>\n",
       "      <td>0</td>\n",
       "    </tr>\n",
       "    <tr>\n",
       "      <th>4</th>\n",
       "      <td>5</td>\n",
       "      <td>31</td>\n",
       "      <td>Male</td>\n",
       "      <td>Yes</td>\n",
       "      <td>No</td>\n",
       "      <td>Moderate</td>\n",
       "      <td>Panic attacks</td>\n",
       "      <td>Mild</td>\n",
       "      <td>Moderate</td>\n",
       "      <td>Rural</td>\n",
       "      <td>Asthma</td>\n",
       "      <td>NaN</td>\n",
       "      <td>Drugs</td>\n",
       "      <td>Seeking therapy</td>\n",
       "      <td>Low</td>\n",
       "      <td>Sleep quality</td>\n",
       "      <td>0</td>\n",
       "    </tr>\n",
       "  </tbody>\n",
       "</table>\n",
       "</div>"
      ],
      "text/plain": [
       "   Participant ID  Age  Gender Family History Personal History  \\\n",
       "0               1   38    Male             No              Yes   \n",
       "1               2   51    Male             No               No   \n",
       "2               3   32  Female            Yes               No   \n",
       "3               4   64  Female             No               No   \n",
       "4               5   31    Male            Yes               No   \n",
       "\n",
       "  Current Stressors             Symptoms  Severity Impact on Life  \\\n",
       "0          Moderate  Shortness of breath      Mild           Mild   \n",
       "1              High        Panic attacks      Mild           Mild   \n",
       "2              High        Panic attacks      Mild    Significant   \n",
       "3          Moderate           Chest pain  Moderate       Moderate   \n",
       "4          Moderate        Panic attacks      Mild       Moderate   \n",
       "\n",
       "  Demographics Medical History  Psychiatric History Substance Use  \\\n",
       "0        Rural        Diabetes     Bipolar disorder           NaN   \n",
       "1        Urban          Asthma     Anxiety disorder         Drugs   \n",
       "2        Urban        Diabetes  Depressive disorder           NaN   \n",
       "3        Rural        Diabetes                  NaN           NaN   \n",
       "4        Rural          Asthma                  NaN         Drugs   \n",
       "\n",
       "  Coping Mechanisms Social Support Lifestyle Factors  Panic Disorder Diagnosis  \n",
       "0       Socializing           High     Sleep quality                         0  \n",
       "1          Exercise           High     Sleep quality                         0  \n",
       "2   Seeking therapy       Moderate          Exercise                         0  \n",
       "3        Meditation           High          Exercise                         0  \n",
       "4   Seeking therapy            Low     Sleep quality                         0  "
      ]
     },
     "execution_count": 6,
     "metadata": {},
     "output_type": "execute_result"
    }
   ],
   "source": [
    "train.head()"
   ]
  },
  {
   "cell_type": "code",
   "execution_count": 7,
   "id": "0ca73c0b-a0e5-4eae-9b7d-b45e2ad65628",
   "metadata": {},
   "outputs": [
    {
     "data": {
      "text/html": [
       "<div>\n",
       "<style scoped>\n",
       "    .dataframe tbody tr th:only-of-type {\n",
       "        vertical-align: middle;\n",
       "    }\n",
       "\n",
       "    .dataframe tbody tr th {\n",
       "        vertical-align: top;\n",
       "    }\n",
       "\n",
       "    .dataframe thead th {\n",
       "        text-align: right;\n",
       "    }\n",
       "</style>\n",
       "<table border=\"1\" class=\"dataframe\">\n",
       "  <thead>\n",
       "    <tr style=\"text-align: right;\">\n",
       "      <th></th>\n",
       "      <th>Participant ID</th>\n",
       "      <th>Age</th>\n",
       "      <th>Gender</th>\n",
       "      <th>Family History</th>\n",
       "      <th>Personal History</th>\n",
       "      <th>Current Stressors</th>\n",
       "      <th>Symptoms</th>\n",
       "      <th>Severity</th>\n",
       "      <th>Impact on Life</th>\n",
       "      <th>Demographics</th>\n",
       "      <th>Medical History</th>\n",
       "      <th>Psychiatric History</th>\n",
       "      <th>Substance Use</th>\n",
       "      <th>Coping Mechanisms</th>\n",
       "      <th>Social Support</th>\n",
       "      <th>Lifestyle Factors</th>\n",
       "      <th>Panic Disorder Diagnosis</th>\n",
       "    </tr>\n",
       "  </thead>\n",
       "  <tbody>\n",
       "    <tr>\n",
       "      <th>99995</th>\n",
       "      <td>99996</td>\n",
       "      <td>22</td>\n",
       "      <td>Male</td>\n",
       "      <td>Yes</td>\n",
       "      <td>No</td>\n",
       "      <td>High</td>\n",
       "      <td>Chest pain</td>\n",
       "      <td>Mild</td>\n",
       "      <td>Mild</td>\n",
       "      <td>Rural</td>\n",
       "      <td>Heart disease</td>\n",
       "      <td>NaN</td>\n",
       "      <td>NaN</td>\n",
       "      <td>Socializing</td>\n",
       "      <td>Low</td>\n",
       "      <td>Diet</td>\n",
       "      <td>0</td>\n",
       "    </tr>\n",
       "    <tr>\n",
       "      <th>99996</th>\n",
       "      <td>99997</td>\n",
       "      <td>57</td>\n",
       "      <td>Female</td>\n",
       "      <td>No</td>\n",
       "      <td>Yes</td>\n",
       "      <td>Low</td>\n",
       "      <td>Panic attacks</td>\n",
       "      <td>Severe</td>\n",
       "      <td>Mild</td>\n",
       "      <td>Rural</td>\n",
       "      <td>Heart disease</td>\n",
       "      <td>Depressive disorder</td>\n",
       "      <td>NaN</td>\n",
       "      <td>Meditation</td>\n",
       "      <td>High</td>\n",
       "      <td>Diet</td>\n",
       "      <td>0</td>\n",
       "    </tr>\n",
       "    <tr>\n",
       "      <th>99997</th>\n",
       "      <td>99998</td>\n",
       "      <td>20</td>\n",
       "      <td>Male</td>\n",
       "      <td>Yes</td>\n",
       "      <td>No</td>\n",
       "      <td>Moderate</td>\n",
       "      <td>Panic attacks</td>\n",
       "      <td>Severe</td>\n",
       "      <td>Moderate</td>\n",
       "      <td>Rural</td>\n",
       "      <td>Heart disease</td>\n",
       "      <td>Bipolar disorder</td>\n",
       "      <td>NaN</td>\n",
       "      <td>Seeking therapy</td>\n",
       "      <td>Low</td>\n",
       "      <td>Exercise</td>\n",
       "      <td>0</td>\n",
       "    </tr>\n",
       "    <tr>\n",
       "      <th>99998</th>\n",
       "      <td>99999</td>\n",
       "      <td>56</td>\n",
       "      <td>Female</td>\n",
       "      <td>Yes</td>\n",
       "      <td>Yes</td>\n",
       "      <td>High</td>\n",
       "      <td>Chest pain</td>\n",
       "      <td>Severe</td>\n",
       "      <td>Mild</td>\n",
       "      <td>Rural</td>\n",
       "      <td>Diabetes</td>\n",
       "      <td>Anxiety disorder</td>\n",
       "      <td>Drugs</td>\n",
       "      <td>Socializing</td>\n",
       "      <td>High</td>\n",
       "      <td>Sleep quality</td>\n",
       "      <td>1</td>\n",
       "    </tr>\n",
       "    <tr>\n",
       "      <th>99999</th>\n",
       "      <td>100000</td>\n",
       "      <td>18</td>\n",
       "      <td>Male</td>\n",
       "      <td>No</td>\n",
       "      <td>No</td>\n",
       "      <td>Low</td>\n",
       "      <td>Panic attacks</td>\n",
       "      <td>Severe</td>\n",
       "      <td>Mild</td>\n",
       "      <td>Rural</td>\n",
       "      <td>Diabetes</td>\n",
       "      <td>NaN</td>\n",
       "      <td>NaN</td>\n",
       "      <td>Meditation</td>\n",
       "      <td>Moderate</td>\n",
       "      <td>Exercise</td>\n",
       "      <td>0</td>\n",
       "    </tr>\n",
       "  </tbody>\n",
       "</table>\n",
       "</div>"
      ],
      "text/plain": [
       "       Participant ID  Age  Gender Family History Personal History  \\\n",
       "99995           99996   22    Male            Yes               No   \n",
       "99996           99997   57  Female             No              Yes   \n",
       "99997           99998   20    Male            Yes               No   \n",
       "99998           99999   56  Female            Yes              Yes   \n",
       "99999          100000   18    Male             No               No   \n",
       "\n",
       "      Current Stressors       Symptoms Severity Impact on Life Demographics  \\\n",
       "99995              High     Chest pain     Mild           Mild        Rural   \n",
       "99996               Low  Panic attacks   Severe           Mild        Rural   \n",
       "99997          Moderate  Panic attacks   Severe       Moderate        Rural   \n",
       "99998              High     Chest pain   Severe           Mild        Rural   \n",
       "99999               Low  Panic attacks   Severe           Mild        Rural   \n",
       "\n",
       "      Medical History  Psychiatric History Substance Use Coping Mechanisms  \\\n",
       "99995   Heart disease                  NaN           NaN       Socializing   \n",
       "99996   Heart disease  Depressive disorder           NaN        Meditation   \n",
       "99997   Heart disease     Bipolar disorder           NaN   Seeking therapy   \n",
       "99998        Diabetes     Anxiety disorder         Drugs       Socializing   \n",
       "99999        Diabetes                  NaN           NaN        Meditation   \n",
       "\n",
       "      Social Support Lifestyle Factors  Panic Disorder Diagnosis  \n",
       "99995            Low              Diet                         0  \n",
       "99996           High              Diet                         0  \n",
       "99997            Low          Exercise                         0  \n",
       "99998           High     Sleep quality                         1  \n",
       "99999       Moderate          Exercise                         0  "
      ]
     },
     "execution_count": 7,
     "metadata": {},
     "output_type": "execute_result"
    }
   ],
   "source": [
    "train.tail()"
   ]
  },
  {
   "cell_type": "code",
   "execution_count": 8,
   "id": "35977925-ea94-4663-ad82-dcb19e4624d9",
   "metadata": {},
   "outputs": [
    {
     "data": {
      "text/plain": [
       "Index(['Participant ID', 'Age', 'Gender', 'Family History', 'Personal History',\n",
       "       'Current Stressors', 'Symptoms', 'Severity', 'Impact on Life',\n",
       "       'Demographics', 'Medical History', 'Psychiatric History',\n",
       "       'Substance Use', 'Coping Mechanisms', 'Social Support',\n",
       "       'Lifestyle Factors', 'Panic Disorder Diagnosis'],\n",
       "      dtype='object')"
      ]
     },
     "execution_count": 8,
     "metadata": {},
     "output_type": "execute_result"
    }
   ],
   "source": [
    "train.columns "
   ]
  },
  {
   "cell_type": "code",
   "execution_count": 9,
   "id": "3dc91514-31ed-4e97-964d-c34b20d2d35d",
   "metadata": {},
   "outputs": [],
   "source": [
    "train.drop_duplicates(inplace=True)"
   ]
  },
  {
   "cell_type": "code",
   "execution_count": 10,
   "id": "0deddd8a-cf43-4048-8099-879af030ddb9",
   "metadata": {},
   "outputs": [
    {
     "data": {
      "text/plain": [
       "(100000, 17)"
      ]
     },
     "execution_count": 10,
     "metadata": {},
     "output_type": "execute_result"
    }
   ],
   "source": [
    "train.shape"
   ]
  },
  {
   "cell_type": "code",
   "execution_count": 11,
   "id": "66c60a83-88a9-46b8-9ea6-126a42492f38",
   "metadata": {},
   "outputs": [
    {
     "data": {
      "text/plain": [
       "0             1\n",
       "1             2\n",
       "2             3\n",
       "3             4\n",
       "4             5\n",
       "          ...  \n",
       "99995     99996\n",
       "99996     99997\n",
       "99997     99998\n",
       "99998     99999\n",
       "99999    100000\n",
       "Name: Participant ID, Length: 100000, dtype: int64"
      ]
     },
     "execution_count": 11,
     "metadata": {},
     "output_type": "execute_result"
    }
   ],
   "source": [
    "d1=train[\"Participant ID\"]\n",
    "d1"
   ]
  },
  {
   "cell_type": "code",
   "execution_count": 12,
   "id": "dd4c25a5-4030-475c-ab82-896089e57dff",
   "metadata": {},
   "outputs": [
    {
     "data": {
      "text/html": [
       "<div>\n",
       "<style scoped>\n",
       "    .dataframe tbody tr th:only-of-type {\n",
       "        vertical-align: middle;\n",
       "    }\n",
       "\n",
       "    .dataframe tbody tr th {\n",
       "        vertical-align: top;\n",
       "    }\n",
       "\n",
       "    .dataframe thead th {\n",
       "        text-align: right;\n",
       "    }\n",
       "</style>\n",
       "<table border=\"1\" class=\"dataframe\">\n",
       "  <thead>\n",
       "    <tr style=\"text-align: right;\">\n",
       "      <th></th>\n",
       "      <th>Age</th>\n",
       "      <th>Gender</th>\n",
       "      <th>Family History</th>\n",
       "      <th>Personal History</th>\n",
       "      <th>Current Stressors</th>\n",
       "      <th>Symptoms</th>\n",
       "      <th>Severity</th>\n",
       "      <th>Impact on Life</th>\n",
       "      <th>Demographics</th>\n",
       "      <th>Medical History</th>\n",
       "      <th>Psychiatric History</th>\n",
       "      <th>Substance Use</th>\n",
       "      <th>Coping Mechanisms</th>\n",
       "      <th>Social Support</th>\n",
       "      <th>Lifestyle Factors</th>\n",
       "      <th>Panic Disorder Diagnosis</th>\n",
       "    </tr>\n",
       "  </thead>\n",
       "  <tbody>\n",
       "    <tr>\n",
       "      <th>0</th>\n",
       "      <td>38</td>\n",
       "      <td>Male</td>\n",
       "      <td>No</td>\n",
       "      <td>Yes</td>\n",
       "      <td>Moderate</td>\n",
       "      <td>Shortness of breath</td>\n",
       "      <td>Mild</td>\n",
       "      <td>Mild</td>\n",
       "      <td>Rural</td>\n",
       "      <td>Diabetes</td>\n",
       "      <td>Bipolar disorder</td>\n",
       "      <td>NaN</td>\n",
       "      <td>Socializing</td>\n",
       "      <td>High</td>\n",
       "      <td>Sleep quality</td>\n",
       "      <td>0</td>\n",
       "    </tr>\n",
       "    <tr>\n",
       "      <th>1</th>\n",
       "      <td>51</td>\n",
       "      <td>Male</td>\n",
       "      <td>No</td>\n",
       "      <td>No</td>\n",
       "      <td>High</td>\n",
       "      <td>Panic attacks</td>\n",
       "      <td>Mild</td>\n",
       "      <td>Mild</td>\n",
       "      <td>Urban</td>\n",
       "      <td>Asthma</td>\n",
       "      <td>Anxiety disorder</td>\n",
       "      <td>Drugs</td>\n",
       "      <td>Exercise</td>\n",
       "      <td>High</td>\n",
       "      <td>Sleep quality</td>\n",
       "      <td>0</td>\n",
       "    </tr>\n",
       "    <tr>\n",
       "      <th>2</th>\n",
       "      <td>32</td>\n",
       "      <td>Female</td>\n",
       "      <td>Yes</td>\n",
       "      <td>No</td>\n",
       "      <td>High</td>\n",
       "      <td>Panic attacks</td>\n",
       "      <td>Mild</td>\n",
       "      <td>Significant</td>\n",
       "      <td>Urban</td>\n",
       "      <td>Diabetes</td>\n",
       "      <td>Depressive disorder</td>\n",
       "      <td>NaN</td>\n",
       "      <td>Seeking therapy</td>\n",
       "      <td>Moderate</td>\n",
       "      <td>Exercise</td>\n",
       "      <td>0</td>\n",
       "    </tr>\n",
       "  </tbody>\n",
       "</table>\n",
       "</div>"
      ],
      "text/plain": [
       "   Age  Gender Family History Personal History Current Stressors  \\\n",
       "0   38    Male             No              Yes          Moderate   \n",
       "1   51    Male             No               No              High   \n",
       "2   32  Female            Yes               No              High   \n",
       "\n",
       "              Symptoms Severity Impact on Life Demographics Medical History  \\\n",
       "0  Shortness of breath     Mild           Mild        Rural        Diabetes   \n",
       "1        Panic attacks     Mild           Mild        Urban          Asthma   \n",
       "2        Panic attacks     Mild    Significant        Urban        Diabetes   \n",
       "\n",
       "   Psychiatric History Substance Use Coping Mechanisms Social Support  \\\n",
       "0     Bipolar disorder           NaN       Socializing           High   \n",
       "1     Anxiety disorder         Drugs          Exercise           High   \n",
       "2  Depressive disorder           NaN   Seeking therapy       Moderate   \n",
       "\n",
       "  Lifestyle Factors  Panic Disorder Diagnosis  \n",
       "0     Sleep quality                         0  \n",
       "1     Sleep quality                         0  \n",
       "2          Exercise                         0  "
      ]
     },
     "execution_count": 12,
     "metadata": {},
     "output_type": "execute_result"
    }
   ],
   "source": [
    "# Participant ID column having unique values.\n",
    "train=train.drop([\"Participant ID\"],axis=1)\n",
    "train.head(3)"
   ]
  },
  {
   "cell_type": "code",
   "execution_count": 13,
   "id": "10d03990-e416-4212-a70a-ecab4c1c4aed",
   "metadata": {},
   "outputs": [
    {
     "data": {
      "text/plain": [
       "Age                          int64\n",
       "Gender                      object\n",
       "Family History              object\n",
       "Personal History            object\n",
       "Current Stressors           object\n",
       "Symptoms                    object\n",
       "Severity                    object\n",
       "Impact on Life              object\n",
       "Demographics                object\n",
       "Medical History             object\n",
       "Psychiatric History         object\n",
       "Substance Use               object\n",
       "Coping Mechanisms           object\n",
       "Social Support              object\n",
       "Lifestyle Factors           object\n",
       "Panic Disorder Diagnosis     int64\n",
       "dtype: object"
      ]
     },
     "execution_count": 13,
     "metadata": {},
     "output_type": "execute_result"
    }
   ],
   "source": [
    "train.dtypes "
   ]
  },
  {
   "cell_type": "markdown",
   "id": "dbf7a116-7928-4580-9397-6347784b9b8d",
   "metadata": {},
   "source": [
    "# MISSING VALUE TREATMENT"
   ]
  },
  {
   "cell_type": "code",
   "execution_count": 14,
   "id": "40a5b7fe-3577-424c-a9c7-efb8da1fa7ee",
   "metadata": {},
   "outputs": [
    {
     "data": {
      "text/plain": [
       "Age                             0\n",
       "Gender                          0\n",
       "Family History                  0\n",
       "Personal History                0\n",
       "Current Stressors               0\n",
       "Symptoms                        0\n",
       "Severity                        0\n",
       "Impact on Life                  0\n",
       "Demographics                    0\n",
       "Medical History             25173\n",
       "Psychiatric History         24921\n",
       "Substance Use               33374\n",
       "Coping Mechanisms               0\n",
       "Social Support                  0\n",
       "Lifestyle Factors               0\n",
       "Panic Disorder Diagnosis        0\n",
       "dtype: int64"
      ]
     },
     "execution_count": 14,
     "metadata": {},
     "output_type": "execute_result"
    }
   ],
   "source": [
    "train.isnull().sum() "
   ]
  },
  {
   "cell_type": "code",
   "execution_count": 15,
   "id": "06623727-07a3-4e54-9d91-2bd06125dca5",
   "metadata": {},
   "outputs": [
    {
     "data": {
      "text/plain": [
       "Medical History\n",
       "Diabetes         25074\n",
       "Heart disease    24993\n",
       "Asthma           24760\n",
       "Name: count, dtype: int64"
      ]
     },
     "execution_count": 15,
     "metadata": {},
     "output_type": "execute_result"
    }
   ],
   "source": [
    "train[\"Medical History\"].value_counts()"
   ]
  },
  {
   "cell_type": "code",
   "execution_count": 16,
   "id": "e4874cf1-cc4f-4290-9208-740f7269a02b",
   "metadata": {},
   "outputs": [],
   "source": [
    "train[\"Medical History\"]=train[\"Medical History\"].fillna(\"Asthma\")"
   ]
  },
  {
   "cell_type": "code",
   "execution_count": 17,
   "id": "3070f35a-2206-4075-b168-66399b290647",
   "metadata": {},
   "outputs": [
    {
     "data": {
      "text/plain": [
       "Age                             0\n",
       "Gender                          0\n",
       "Family History                  0\n",
       "Personal History                0\n",
       "Current Stressors               0\n",
       "Symptoms                        0\n",
       "Severity                        0\n",
       "Impact on Life                  0\n",
       "Demographics                    0\n",
       "Medical History                 0\n",
       "Psychiatric History         24921\n",
       "Substance Use               33374\n",
       "Coping Mechanisms               0\n",
       "Social Support                  0\n",
       "Lifestyle Factors               0\n",
       "Panic Disorder Diagnosis        0\n",
       "dtype: int64"
      ]
     },
     "execution_count": 17,
     "metadata": {},
     "output_type": "execute_result"
    }
   ],
   "source": [
    "train.isnull().sum()"
   ]
  },
  {
   "cell_type": "code",
   "execution_count": 18,
   "id": "da78f7fe-82be-421a-a483-ccc145fed5ac",
   "metadata": {},
   "outputs": [
    {
     "data": {
      "text/plain": [
       "Psychiatric History\n",
       "Bipolar disorder       25058\n",
       "Anxiety disorder       25025\n",
       "Depressive disorder    24996\n",
       "Name: count, dtype: int64"
      ]
     },
     "execution_count": 18,
     "metadata": {},
     "output_type": "execute_result"
    }
   ],
   "source": [
    "train[\"Psychiatric History\"].value_counts()"
   ]
  },
  {
   "cell_type": "code",
   "execution_count": 19,
   "id": "6ba5547a-6710-4221-9a16-f69715b4cbf3",
   "metadata": {},
   "outputs": [],
   "source": [
    "train[\"Psychiatric History\"]=train[\"Psychiatric History\"].fillna(\"Depressive disorder\")"
   ]
  },
  {
   "cell_type": "code",
   "execution_count": 20,
   "id": "bbeb85ad-578d-44d9-a9ca-42911571c06f",
   "metadata": {},
   "outputs": [
    {
     "data": {
      "text/plain": [
       "Age                             0\n",
       "Gender                          0\n",
       "Family History                  0\n",
       "Personal History                0\n",
       "Current Stressors               0\n",
       "Symptoms                        0\n",
       "Severity                        0\n",
       "Impact on Life                  0\n",
       "Demographics                    0\n",
       "Medical History                 0\n",
       "Psychiatric History             0\n",
       "Substance Use               33374\n",
       "Coping Mechanisms               0\n",
       "Social Support                  0\n",
       "Lifestyle Factors               0\n",
       "Panic Disorder Diagnosis        0\n",
       "dtype: int64"
      ]
     },
     "execution_count": 20,
     "metadata": {},
     "output_type": "execute_result"
    }
   ],
   "source": [
    "train.isnull().sum()"
   ]
  },
  {
   "cell_type": "code",
   "execution_count": 21,
   "id": "82d9e8f2-2f62-4c07-8007-6acae0f19439",
   "metadata": {},
   "outputs": [
    {
     "data": {
      "text/plain": [
       "Substance Use\n",
       "Alcohol    33445\n",
       "Drugs      33181\n",
       "Name: count, dtype: int64"
      ]
     },
     "execution_count": 21,
     "metadata": {},
     "output_type": "execute_result"
    }
   ],
   "source": [
    "train[\"Substance Use\"].value_counts()"
   ]
  },
  {
   "cell_type": "code",
   "execution_count": 22,
   "id": "57653832-7f0d-4274-aced-86b1b42bd78e",
   "metadata": {},
   "outputs": [],
   "source": [
    "train[\"Substance Use\"]=train[\"Substance Use\"].fillna(\"Substance Use\")"
   ]
  },
  {
   "cell_type": "code",
   "execution_count": 23,
   "id": "59c33b45-e955-44e8-96a5-dae4dd76f658",
   "metadata": {},
   "outputs": [
    {
     "data": {
      "text/plain": [
       "Age                         0\n",
       "Gender                      0\n",
       "Family History              0\n",
       "Personal History            0\n",
       "Current Stressors           0\n",
       "Symptoms                    0\n",
       "Severity                    0\n",
       "Impact on Life              0\n",
       "Demographics                0\n",
       "Medical History             0\n",
       "Psychiatric History         0\n",
       "Substance Use               0\n",
       "Coping Mechanisms           0\n",
       "Social Support              0\n",
       "Lifestyle Factors           0\n",
       "Panic Disorder Diagnosis    0\n",
       "dtype: int64"
      ]
     },
     "execution_count": 23,
     "metadata": {},
     "output_type": "execute_result"
    }
   ],
   "source": [
    "train.isnull().sum()"
   ]
  },
  {
   "cell_type": "markdown",
   "id": "a40b7cb0-399e-43d4-98d2-25e42f7ff4e8",
   "metadata": {},
   "source": [
    "# DATA-TYPE CONVERSION"
   ]
  },
  {
   "cell_type": "code",
   "execution_count": 24,
   "id": "9fa2ef2a-29ad-4c4c-8bd5-e04afa561721",
   "metadata": {},
   "outputs": [],
   "source": [
    "from sklearn.preprocessing import LabelEncoder\n",
    "le=LabelEncoder()"
   ]
  },
  {
   "cell_type": "code",
   "execution_count": 25,
   "id": "6bb7645d-779a-4e40-817f-d68f0ea0d6fc",
   "metadata": {},
   "outputs": [
    {
     "data": {
      "text/plain": [
       "Age                          int64\n",
       "Gender                      object\n",
       "Family History              object\n",
       "Personal History            object\n",
       "Current Stressors           object\n",
       "Symptoms                    object\n",
       "Severity                    object\n",
       "Impact on Life              object\n",
       "Demographics                object\n",
       "Medical History             object\n",
       "Psychiatric History         object\n",
       "Substance Use               object\n",
       "Coping Mechanisms           object\n",
       "Social Support              object\n",
       "Lifestyle Factors           object\n",
       "Panic Disorder Diagnosis     int64\n",
       "dtype: object"
      ]
     },
     "execution_count": 25,
     "metadata": {},
     "output_type": "execute_result"
    }
   ],
   "source": [
    "train.dtypes"
   ]
  },
  {
   "cell_type": "code",
   "execution_count": 26,
   "id": "9c11b3ba-f2d1-448c-8fd5-b15bc4569bbe",
   "metadata": {},
   "outputs": [],
   "source": [
    "train[\"Gender\"]=le.fit_transform(train[\"Gender\"])\n",
    "train[\"Family History\"]=le.fit_transform(train[\"Family History\"])\n",
    "train[\"Personal History\"]=le.fit_transform(train[\"Personal History\"])\n",
    "train[\"Current Stressors\"]=le.fit_transform(train[\"Current Stressors\"])\n",
    "train[\"Symptoms\"]=le.fit_transform(train[\"Symptoms\"])\n",
    "train[\"Severity\"]=le.fit_transform(train[\"Severity\"])\n",
    "train[\"Impact on Life\"]=le.fit_transform(train[\"Impact on Life\"])\n",
    "train[\"Demographics\"]=le.fit_transform(train[\"Demographics\"])\n",
    "train[\"Medical History\"]=le.fit_transform(train[\"Medical History\"])\n",
    "train[\"Psychiatric History\"]=le.fit_transform(train[\"Psychiatric History\"])\n",
    "train[\"Substance Use\"]=le.fit_transform(train[\"Substance Use\"])\n",
    "train[\"Coping Mechanisms\"]=le.fit_transform(train[\"Coping Mechanisms\"])\n",
    "train[\"Social Support\"]=le.fit_transform(train[\"Social Support\"])\n",
    "train[\"Lifestyle Factors\"]=le.fit_transform(train[\"Lifestyle Factors\"])"
   ]
  },
  {
   "cell_type": "code",
   "execution_count": 27,
   "id": "2c6659cd-5180-4efe-95ce-3ab7660fdfb0",
   "metadata": {},
   "outputs": [
    {
     "data": {
      "text/plain": [
       "Age                         int64\n",
       "Gender                      int32\n",
       "Family History              int32\n",
       "Personal History            int32\n",
       "Current Stressors           int32\n",
       "Symptoms                    int32\n",
       "Severity                    int32\n",
       "Impact on Life              int32\n",
       "Demographics                int32\n",
       "Medical History             int32\n",
       "Psychiatric History         int32\n",
       "Substance Use               int32\n",
       "Coping Mechanisms           int32\n",
       "Social Support              int32\n",
       "Lifestyle Factors           int32\n",
       "Panic Disorder Diagnosis    int64\n",
       "dtype: object"
      ]
     },
     "execution_count": 27,
     "metadata": {},
     "output_type": "execute_result"
    }
   ],
   "source": [
    "train.dtypes"
   ]
  },
  {
   "cell_type": "markdown",
   "id": "6d41f79c-2560-4f64-864d-6fae1a85a1b2",
   "metadata": {},
   "source": [
    "# VISUALISATION"
   ]
  },
  {
   "cell_type": "code",
   "execution_count": 28,
   "id": "011fda95-ec67-4426-98b7-c13315c62b33",
   "metadata": {},
   "outputs": [
    {
     "data": {
      "text/html": [
       "<div>\n",
       "<style scoped>\n",
       "    .dataframe tbody tr th:only-of-type {\n",
       "        vertical-align: middle;\n",
       "    }\n",
       "\n",
       "    .dataframe tbody tr th {\n",
       "        vertical-align: top;\n",
       "    }\n",
       "\n",
       "    .dataframe thead th {\n",
       "        text-align: right;\n",
       "    }\n",
       "</style>\n",
       "<table border=\"1\" class=\"dataframe\">\n",
       "  <thead>\n",
       "    <tr style=\"text-align: right;\">\n",
       "      <th></th>\n",
       "      <th>Age</th>\n",
       "      <th>Gender</th>\n",
       "      <th>Family History</th>\n",
       "      <th>Personal History</th>\n",
       "      <th>Current Stressors</th>\n",
       "      <th>Symptoms</th>\n",
       "      <th>Severity</th>\n",
       "      <th>Impact on Life</th>\n",
       "      <th>Demographics</th>\n",
       "      <th>Medical History</th>\n",
       "      <th>Psychiatric History</th>\n",
       "      <th>Substance Use</th>\n",
       "      <th>Coping Mechanisms</th>\n",
       "      <th>Social Support</th>\n",
       "      <th>Lifestyle Factors</th>\n",
       "      <th>Panic Disorder Diagnosis</th>\n",
       "    </tr>\n",
       "  </thead>\n",
       "  <tbody>\n",
       "    <tr>\n",
       "      <th>0</th>\n",
       "      <td>38</td>\n",
       "      <td>1</td>\n",
       "      <td>0</td>\n",
       "      <td>1</td>\n",
       "      <td>2</td>\n",
       "      <td>4</td>\n",
       "      <td>0</td>\n",
       "      <td>0</td>\n",
       "      <td>0</td>\n",
       "      <td>1</td>\n",
       "      <td>1</td>\n",
       "      <td>2</td>\n",
       "      <td>3</td>\n",
       "      <td>0</td>\n",
       "      <td>2</td>\n",
       "      <td>0</td>\n",
       "    </tr>\n",
       "    <tr>\n",
       "      <th>1</th>\n",
       "      <td>51</td>\n",
       "      <td>1</td>\n",
       "      <td>0</td>\n",
       "      <td>0</td>\n",
       "      <td>0</td>\n",
       "      <td>3</td>\n",
       "      <td>0</td>\n",
       "      <td>0</td>\n",
       "      <td>1</td>\n",
       "      <td>0</td>\n",
       "      <td>0</td>\n",
       "      <td>1</td>\n",
       "      <td>0</td>\n",
       "      <td>0</td>\n",
       "      <td>2</td>\n",
       "      <td>0</td>\n",
       "    </tr>\n",
       "    <tr>\n",
       "      <th>2</th>\n",
       "      <td>32</td>\n",
       "      <td>0</td>\n",
       "      <td>1</td>\n",
       "      <td>0</td>\n",
       "      <td>0</td>\n",
       "      <td>3</td>\n",
       "      <td>0</td>\n",
       "      <td>2</td>\n",
       "      <td>1</td>\n",
       "      <td>1</td>\n",
       "      <td>2</td>\n",
       "      <td>2</td>\n",
       "      <td>2</td>\n",
       "      <td>2</td>\n",
       "      <td>1</td>\n",
       "      <td>0</td>\n",
       "    </tr>\n",
       "    <tr>\n",
       "      <th>3</th>\n",
       "      <td>64</td>\n",
       "      <td>0</td>\n",
       "      <td>0</td>\n",
       "      <td>0</td>\n",
       "      <td>2</td>\n",
       "      <td>0</td>\n",
       "      <td>1</td>\n",
       "      <td>1</td>\n",
       "      <td>0</td>\n",
       "      <td>1</td>\n",
       "      <td>2</td>\n",
       "      <td>2</td>\n",
       "      <td>1</td>\n",
       "      <td>0</td>\n",
       "      <td>1</td>\n",
       "      <td>0</td>\n",
       "    </tr>\n",
       "    <tr>\n",
       "      <th>4</th>\n",
       "      <td>31</td>\n",
       "      <td>1</td>\n",
       "      <td>1</td>\n",
       "      <td>0</td>\n",
       "      <td>2</td>\n",
       "      <td>3</td>\n",
       "      <td>0</td>\n",
       "      <td>1</td>\n",
       "      <td>0</td>\n",
       "      <td>0</td>\n",
       "      <td>2</td>\n",
       "      <td>1</td>\n",
       "      <td>2</td>\n",
       "      <td>1</td>\n",
       "      <td>2</td>\n",
       "      <td>0</td>\n",
       "    </tr>\n",
       "  </tbody>\n",
       "</table>\n",
       "</div>"
      ],
      "text/plain": [
       "   Age  Gender  Family History  Personal History  Current Stressors  Symptoms  \\\n",
       "0   38       1               0                 1                  2         4   \n",
       "1   51       1               0                 0                  0         3   \n",
       "2   32       0               1                 0                  0         3   \n",
       "3   64       0               0                 0                  2         0   \n",
       "4   31       1               1                 0                  2         3   \n",
       "\n",
       "   Severity  Impact on Life  Demographics  Medical History  \\\n",
       "0         0               0             0                1   \n",
       "1         0               0             1                0   \n",
       "2         0               2             1                1   \n",
       "3         1               1             0                1   \n",
       "4         0               1             0                0   \n",
       "\n",
       "   Psychiatric History  Substance Use  Coping Mechanisms  Social Support  \\\n",
       "0                    1              2                  3               0   \n",
       "1                    0              1                  0               0   \n",
       "2                    2              2                  2               2   \n",
       "3                    2              2                  1               0   \n",
       "4                    2              1                  2               1   \n",
       "\n",
       "   Lifestyle Factors  Panic Disorder Diagnosis  \n",
       "0                  2                         0  \n",
       "1                  2                         0  \n",
       "2                  1                         0  \n",
       "3                  1                         0  \n",
       "4                  2                         0  "
      ]
     },
     "execution_count": 28,
     "metadata": {},
     "output_type": "execute_result"
    }
   ],
   "source": [
    "train.head()"
   ]
  },
  {
   "cell_type": "code",
   "execution_count": 29,
   "id": "48fa9b93-a3e5-4ce7-a840-936db24b3d8c",
   "metadata": {},
   "outputs": [
    {
     "data": {
      "text/plain": [
       "<Axes: xlabel='Symptoms', ylabel='Age'>"
      ]
     },
     "execution_count": 29,
     "metadata": {},
     "output_type": "execute_result"
    },
    {
     "data": {
      "image/png": "[encoded data removed]",
      "text/plain": [
       "<Figure size 640x480 with 1 Axes>"
      ]
     },
     "metadata": {},
     "output_type": "display_data"
    }
   ],
   "source": [
    "sns.barplot(x=\"Symptoms\",y=\"Age\",data=train)"
   ]
  },
  {
   "cell_type": "markdown",
   "id": "c6d9f0b4-f95e-438b-a3e3-e4c45501af41",
   "metadata": {},
   "source": [
    " BAR PLOT:- bar plot shows symptoms of person according to their age... "
   ]
  },
  {
   "cell_type": "code",
   "execution_count": 30,
   "id": "f24dd261-3d20-4d09-92ad-3532a8d7ad92",
   "metadata": {},
   "outputs": [
    {
     "data": {
      "text/plain": [
       "<Axes: xlabel='Age', ylabel='Count'>"
      ]
     },
     "execution_count": 30,
     "metadata": {},
     "output_type": "execute_result"
    },
    {
     "data": {
      "image/png": "[encoded data removed]",
      "text/plain": [
       "<Figure size 640x480 with 1 Axes>"
      ]
     },
     "metadata": {},
     "output_type": "display_data"
    }
   ],
   "source": [
    "sns.histplot(data=train,x=\"Age\")"
   ]
  },
  {
   "cell_type": "markdown",
   "id": "6725abe1-27ad-4333-8d21-8c151f53af9f",
   "metadata": {},
   "source": [
    " HISTPLOT:- It gives a count for person's age..."
   ]
  },
  {
   "cell_type": "code",
   "execution_count": 31,
   "id": "fcf8301c-82d8-4679-b82e-c4e7bc06ecdb",
   "metadata": {},
   "outputs": [
    {
     "data": {
      "image/png": "[encoded data removed]",
      "text/plain": [
       "<Figure size 640x480 with 1 Axes>"
      ]
     },
     "metadata": {},
     "output_type": "display_data"
    }
   ],
   "source": [
    "sns.countplot(data=train, x=\"Gender\")\n",
    "plt.show()"
   ]
  },
  {
   "cell_type": "markdown",
   "id": "83214d96-0b7f-4ed4-ad16-8069022acc50",
   "metadata": {},
   "source": [
    "countplot- it shows count of gender"
   ]
  },
  {
   "cell_type": "code",
   "execution_count": 32,
   "id": "7ac193b5-d5b0-4d10-bae3-630e6f703751",
   "metadata": {},
   "outputs": [
    {
     "data": {
      "image/png": "[encoded data removed]",
      "text/plain": [
       "<Figure size 640x480 with 1 Axes>"
      ]
     },
     "metadata": {},
     "output_type": "display_data"
    }
   ],
   "source": [
    "sns.countplot(data=train, x=\"Panic Disorder Diagnosis\")\n",
    "plt.show()"
   ]
  },
  {
   "cell_type": "markdown",
   "id": "bf74371b-ade6-4c69-8ffc-8fc3084ea6a2",
   "metadata": {},
   "source": [
    "countplot- it shows count of target column."
   ]
  },
  {
   "cell_type": "code",
   "execution_count": 33,
   "id": "d87aa620-be3e-4b30-9193-4b685f13f85b",
   "metadata": {},
   "outputs": [
    {
     "data": {
      "text/plain": [
       "<Axes: xlabel='Coping Mechanisms', ylabel='Density'>"
      ]
     },
     "execution_count": 33,
     "metadata": {},
     "output_type": "execute_result"
    },
    {
     "data": {
      "image/png": "[encoded data removed]",
      "text/plain": [
       "<Figure size 640x480 with 1 Axes>"
      ]
     },
     "metadata": {},
     "output_type": "display_data"
    }
   ],
   "source": [
    "sns.distplot(train[\"Coping Mechanisms\"])"
   ]
  },
  {
   "cell_type": "markdown",
   "id": "bb1a800d-5d43-4f3f-8b95-dadb9d3aa0ba",
   "metadata": {},
   "source": [
    " distplot-showing no skewnesss in coping mechanism column"
   ]
  },
  {
   "cell_type": "code",
   "execution_count": 34,
   "id": "10913290-03c7-4978-813e-fc878b12b84e",
   "metadata": {},
   "outputs": [
    {
     "data": {
      "text/html": [
       "<div>\n",
       "<style scoped>\n",
       "    .dataframe tbody tr th:only-of-type {\n",
       "        vertical-align: middle;\n",
       "    }\n",
       "\n",
       "    .dataframe tbody tr th {\n",
       "        vertical-align: top;\n",
       "    }\n",
       "\n",
       "    .dataframe thead th {\n",
       "        text-align: right;\n",
       "    }\n",
       "</style>\n",
       "<table border=\"1\" class=\"dataframe\">\n",
       "  <thead>\n",
       "    <tr style=\"text-align: right;\">\n",
       "      <th></th>\n",
       "      <th>Age</th>\n",
       "      <th>Gender</th>\n",
       "      <th>Family History</th>\n",
       "      <th>Personal History</th>\n",
       "      <th>Current Stressors</th>\n",
       "      <th>Symptoms</th>\n",
       "      <th>Severity</th>\n",
       "      <th>Impact on Life</th>\n",
       "      <th>Demographics</th>\n",
       "      <th>Medical History</th>\n",
       "      <th>Psychiatric History</th>\n",
       "      <th>Substance Use</th>\n",
       "      <th>Coping Mechanisms</th>\n",
       "      <th>Social Support</th>\n",
       "      <th>Lifestyle Factors</th>\n",
       "      <th>Panic Disorder Diagnosis</th>\n",
       "    </tr>\n",
       "  </thead>\n",
       "  <tbody>\n",
       "    <tr>\n",
       "      <th>Age</th>\n",
       "      <td>1.000000</td>\n",
       "      <td>0.002252</td>\n",
       "      <td>0.001386</td>\n",
       "      <td>0.002692</td>\n",
       "      <td>0.003633</td>\n",
       "      <td>0.004284</td>\n",
       "      <td>-0.000413</td>\n",
       "      <td>0.002979</td>\n",
       "      <td>0.000413</td>\n",
       "      <td>0.005240</td>\n",
       "      <td>0.001214</td>\n",
       "      <td>0.000479</td>\n",
       "      <td>0.001965</td>\n",
       "      <td>0.004726</td>\n",
       "      <td>0.000854</td>\n",
       "      <td>-0.000502</td>\n",
       "    </tr>\n",
       "    <tr>\n",
       "      <th>Gender</th>\n",
       "      <td>0.002252</td>\n",
       "      <td>1.000000</td>\n",
       "      <td>0.006519</td>\n",
       "      <td>0.000724</td>\n",
       "      <td>0.000553</td>\n",
       "      <td>-0.000154</td>\n",
       "      <td>0.001331</td>\n",
       "      <td>-0.007309</td>\n",
       "      <td>0.001622</td>\n",
       "      <td>0.000168</td>\n",
       "      <td>0.001063</td>\n",
       "      <td>-0.004195</td>\n",
       "      <td>-0.007372</td>\n",
       "      <td>-0.001858</td>\n",
       "      <td>0.001685</td>\n",
       "      <td>0.002199</td>\n",
       "    </tr>\n",
       "    <tr>\n",
       "      <th>Family History</th>\n",
       "      <td>0.001386</td>\n",
       "      <td>0.006519</td>\n",
       "      <td>1.000000</td>\n",
       "      <td>0.002604</td>\n",
       "      <td>0.000896</td>\n",
       "      <td>0.002084</td>\n",
       "      <td>-0.003731</td>\n",
       "      <td>0.000235</td>\n",
       "      <td>-0.000059</td>\n",
       "      <td>0.005006</td>\n",
       "      <td>-0.001989</td>\n",
       "      <td>-0.000648</td>\n",
       "      <td>-0.001220</td>\n",
       "      <td>0.003598</td>\n",
       "      <td>-0.006489</td>\n",
       "      <td>0.066927</td>\n",
       "    </tr>\n",
       "    <tr>\n",
       "      <th>Personal History</th>\n",
       "      <td>0.002692</td>\n",
       "      <td>0.000724</td>\n",
       "      <td>0.002604</td>\n",
       "      <td>1.000000</td>\n",
       "      <td>0.002946</td>\n",
       "      <td>0.003124</td>\n",
       "      <td>-0.003111</td>\n",
       "      <td>0.006124</td>\n",
       "      <td>-0.004787</td>\n",
       "      <td>0.000932</td>\n",
       "      <td>-0.001537</td>\n",
       "      <td>0.008083</td>\n",
       "      <td>-0.002969</td>\n",
       "      <td>0.003788</td>\n",
       "      <td>0.002551</td>\n",
       "      <td>0.075500</td>\n",
       "    </tr>\n",
       "    <tr>\n",
       "      <th>Current Stressors</th>\n",
       "      <td>0.003633</td>\n",
       "      <td>0.000553</td>\n",
       "      <td>0.000896</td>\n",
       "      <td>0.002946</td>\n",
       "      <td>1.000000</td>\n",
       "      <td>-0.004031</td>\n",
       "      <td>0.002940</td>\n",
       "      <td>0.006463</td>\n",
       "      <td>0.001921</td>\n",
       "      <td>-0.000675</td>\n",
       "      <td>0.000437</td>\n",
       "      <td>-0.002040</td>\n",
       "      <td>0.000758</td>\n",
       "      <td>-0.003106</td>\n",
       "      <td>-0.003705</td>\n",
       "      <td>-0.150833</td>\n",
       "    </tr>\n",
       "    <tr>\n",
       "      <th>Symptoms</th>\n",
       "      <td>0.004284</td>\n",
       "      <td>-0.000154</td>\n",
       "      <td>0.002084</td>\n",
       "      <td>0.003124</td>\n",
       "      <td>-0.004031</td>\n",
       "      <td>1.000000</td>\n",
       "      <td>-0.004345</td>\n",
       "      <td>0.001826</td>\n",
       "      <td>0.004771</td>\n",
       "      <td>-0.000781</td>\n",
       "      <td>0.000694</td>\n",
       "      <td>0.001714</td>\n",
       "      <td>0.004815</td>\n",
       "      <td>0.003213</td>\n",
       "      <td>0.003098</td>\n",
       "      <td>0.043315</td>\n",
       "    </tr>\n",
       "    <tr>\n",
       "      <th>Severity</th>\n",
       "      <td>-0.000413</td>\n",
       "      <td>0.001331</td>\n",
       "      <td>-0.003731</td>\n",
       "      <td>-0.003111</td>\n",
       "      <td>0.002940</td>\n",
       "      <td>-0.004345</td>\n",
       "      <td>1.000000</td>\n",
       "      <td>0.004828</td>\n",
       "      <td>-0.001697</td>\n",
       "      <td>-0.001606</td>\n",
       "      <td>-0.004249</td>\n",
       "      <td>0.002006</td>\n",
       "      <td>0.000009</td>\n",
       "      <td>0.002381</td>\n",
       "      <td>-0.008878</td>\n",
       "      <td>0.097926</td>\n",
       "    </tr>\n",
       "    <tr>\n",
       "      <th>Impact on Life</th>\n",
       "      <td>0.002979</td>\n",
       "      <td>-0.007309</td>\n",
       "      <td>0.000235</td>\n",
       "      <td>0.006124</td>\n",
       "      <td>0.006463</td>\n",
       "      <td>0.001826</td>\n",
       "      <td>0.004828</td>\n",
       "      <td>1.000000</td>\n",
       "      <td>-0.003471</td>\n",
       "      <td>-0.002351</td>\n",
       "      <td>-0.001684</td>\n",
       "      <td>-0.004482</td>\n",
       "      <td>0.001201</td>\n",
       "      <td>0.005436</td>\n",
       "      <td>0.004470</td>\n",
       "      <td>0.112918</td>\n",
       "    </tr>\n",
       "    <tr>\n",
       "      <th>Demographics</th>\n",
       "      <td>0.000413</td>\n",
       "      <td>0.001622</td>\n",
       "      <td>-0.000059</td>\n",
       "      <td>-0.004787</td>\n",
       "      <td>0.001921</td>\n",
       "      <td>0.004771</td>\n",
       "      <td>-0.001697</td>\n",
       "      <td>-0.003471</td>\n",
       "      <td>1.000000</td>\n",
       "      <td>-0.001706</td>\n",
       "      <td>-0.002348</td>\n",
       "      <td>-0.000430</td>\n",
       "      <td>0.000356</td>\n",
       "      <td>-0.000149</td>\n",
       "      <td>0.001651</td>\n",
       "      <td>-0.032172</td>\n",
       "    </tr>\n",
       "    <tr>\n",
       "      <th>Medical History</th>\n",
       "      <td>0.005240</td>\n",
       "      <td>0.000168</td>\n",
       "      <td>0.005006</td>\n",
       "      <td>0.000932</td>\n",
       "      <td>-0.000675</td>\n",
       "      <td>-0.000781</td>\n",
       "      <td>-0.001606</td>\n",
       "      <td>-0.002351</td>\n",
       "      <td>-0.001706</td>\n",
       "      <td>1.000000</td>\n",
       "      <td>-0.000130</td>\n",
       "      <td>0.004550</td>\n",
       "      <td>-0.002080</td>\n",
       "      <td>0.006776</td>\n",
       "      <td>0.001442</td>\n",
       "      <td>0.028396</td>\n",
       "    </tr>\n",
       "    <tr>\n",
       "      <th>Psychiatric History</th>\n",
       "      <td>0.001214</td>\n",
       "      <td>0.001063</td>\n",
       "      <td>-0.001989</td>\n",
       "      <td>-0.001537</td>\n",
       "      <td>0.000437</td>\n",
       "      <td>0.000694</td>\n",
       "      <td>-0.004249</td>\n",
       "      <td>-0.001684</td>\n",
       "      <td>-0.002348</td>\n",
       "      <td>-0.000130</td>\n",
       "      <td>1.000000</td>\n",
       "      <td>0.001766</td>\n",
       "      <td>0.001370</td>\n",
       "      <td>-0.003455</td>\n",
       "      <td>0.002493</td>\n",
       "      <td>-0.022012</td>\n",
       "    </tr>\n",
       "    <tr>\n",
       "      <th>Substance Use</th>\n",
       "      <td>0.000479</td>\n",
       "      <td>-0.004195</td>\n",
       "      <td>-0.000648</td>\n",
       "      <td>0.008083</td>\n",
       "      <td>-0.002040</td>\n",
       "      <td>0.001714</td>\n",
       "      <td>0.002006</td>\n",
       "      <td>-0.004482</td>\n",
       "      <td>-0.000430</td>\n",
       "      <td>0.004550</td>\n",
       "      <td>0.001766</td>\n",
       "      <td>1.000000</td>\n",
       "      <td>0.000862</td>\n",
       "      <td>-0.004177</td>\n",
       "      <td>0.005312</td>\n",
       "      <td>-0.025187</td>\n",
       "    </tr>\n",
       "    <tr>\n",
       "      <th>Coping Mechanisms</th>\n",
       "      <td>0.001965</td>\n",
       "      <td>-0.007372</td>\n",
       "      <td>-0.001220</td>\n",
       "      <td>-0.002969</td>\n",
       "      <td>0.000758</td>\n",
       "      <td>0.004815</td>\n",
       "      <td>0.000009</td>\n",
       "      <td>0.001201</td>\n",
       "      <td>0.000356</td>\n",
       "      <td>-0.002080</td>\n",
       "      <td>0.001370</td>\n",
       "      <td>0.000862</td>\n",
       "      <td>1.000000</td>\n",
       "      <td>0.007871</td>\n",
       "      <td>0.001116</td>\n",
       "      <td>0.056206</td>\n",
       "    </tr>\n",
       "    <tr>\n",
       "      <th>Social Support</th>\n",
       "      <td>0.004726</td>\n",
       "      <td>-0.001858</td>\n",
       "      <td>0.003598</td>\n",
       "      <td>0.003788</td>\n",
       "      <td>-0.003106</td>\n",
       "      <td>0.003213</td>\n",
       "      <td>0.002381</td>\n",
       "      <td>0.005436</td>\n",
       "      <td>-0.000149</td>\n",
       "      <td>0.006776</td>\n",
       "      <td>-0.003455</td>\n",
       "      <td>-0.004177</td>\n",
       "      <td>0.007871</td>\n",
       "      <td>1.000000</td>\n",
       "      <td>-0.004328</td>\n",
       "      <td>0.003461</td>\n",
       "    </tr>\n",
       "    <tr>\n",
       "      <th>Lifestyle Factors</th>\n",
       "      <td>0.000854</td>\n",
       "      <td>0.001685</td>\n",
       "      <td>-0.006489</td>\n",
       "      <td>0.002551</td>\n",
       "      <td>-0.003705</td>\n",
       "      <td>0.003098</td>\n",
       "      <td>-0.008878</td>\n",
       "      <td>0.004470</td>\n",
       "      <td>0.001651</td>\n",
       "      <td>0.001442</td>\n",
       "      <td>0.002493</td>\n",
       "      <td>0.005312</td>\n",
       "      <td>0.001116</td>\n",
       "      <td>-0.004328</td>\n",
       "      <td>1.000000</td>\n",
       "      <td>0.260326</td>\n",
       "    </tr>\n",
       "    <tr>\n",
       "      <th>Panic Disorder Diagnosis</th>\n",
       "      <td>-0.000502</td>\n",
       "      <td>0.002199</td>\n",
       "      <td>0.066927</td>\n",
       "      <td>0.075500</td>\n",
       "      <td>-0.150833</td>\n",
       "      <td>0.043315</td>\n",
       "      <td>0.097926</td>\n",
       "      <td>0.112918</td>\n",
       "      <td>-0.032172</td>\n",
       "      <td>0.028396</td>\n",
       "      <td>-0.022012</td>\n",
       "      <td>-0.025187</td>\n",
       "      <td>0.056206</td>\n",
       "      <td>0.003461</td>\n",
       "      <td>0.260326</td>\n",
       "      <td>1.000000</td>\n",
       "    </tr>\n",
       "  </tbody>\n",
       "</table>\n",
       "</div>"
      ],
      "text/plain": [
       "                               Age    Gender  Family History  \\\n",
       "Age                       1.000000  0.002252        0.001386   \n",
       "Gender                    0.002252  1.000000        0.006519   \n",
       "Family History            0.001386  0.006519        1.000000   \n",
       "Personal History          0.002692  0.000724        0.002604   \n",
       "Current Stressors         0.003633  0.000553        0.000896   \n",
       "Symptoms                  0.004284 -0.000154        0.002084   \n",
       "Severity                 -0.000413  0.001331       -0.003731   \n",
       "Impact on Life            0.002979 -0.007309        0.000235   \n",
       "Demographics              0.000413  0.001622       -0.000059   \n",
       "Medical History           0.005240  0.000168        0.005006   \n",
       "Psychiatric History       0.001214  0.001063       -0.001989   \n",
       "Substance Use             0.000479 -0.004195       -0.000648   \n",
       "Coping Mechanisms         0.001965 -0.007372       -0.001220   \n",
       "Social Support            0.004726 -0.001858        0.003598   \n",
       "Lifestyle Factors         0.000854  0.001685       -0.006489   \n",
       "Panic Disorder Diagnosis -0.000502  0.002199        0.066927   \n",
       "\n",
       "                          Personal History  Current Stressors  Symptoms  \\\n",
       "Age                               0.002692           0.003633  0.004284   \n",
       "Gender                            0.000724           0.000553 -0.000154   \n",
       "Family History                    0.002604           0.000896  0.002084   \n",
       "Personal History                  1.000000           0.002946  0.003124   \n",
       "Current Stressors                 0.002946           1.000000 -0.004031   \n",
       "Symptoms                          0.003124          -0.004031  1.000000   \n",
       "Severity                         -0.003111           0.002940 -0.004345   \n",
       "Impact on Life                    0.006124           0.006463  0.001826   \n",
       "Demographics                     -0.004787           0.001921  0.004771   \n",
       "Medical History                   0.000932          -0.000675 -0.000781   \n",
       "Psychiatric History              -0.001537           0.000437  0.000694   \n",
       "Substance Use                     0.008083          -0.002040  0.001714   \n",
       "Coping Mechanisms                -0.002969           0.000758  0.004815   \n",
       "Social Support                    0.003788          -0.003106  0.003213   \n",
       "Lifestyle Factors                 0.002551          -0.003705  0.003098   \n",
       "Panic Disorder Diagnosis          0.075500          -0.150833  0.043315   \n",
       "\n",
       "                          Severity  Impact on Life  Demographics  \\\n",
       "Age                      -0.000413        0.002979      0.000413   \n",
       "Gender                    0.001331       -0.007309      0.001622   \n",
       "Family History           -0.003731        0.000235     -0.000059   \n",
       "Personal History         -0.003111        0.006124     -0.004787   \n",
       "Current Stressors         0.002940        0.006463      0.001921   \n",
       "Symptoms                 -0.004345        0.001826      0.004771   \n",
       "Severity                  1.000000        0.004828     -0.001697   \n",
       "Impact on Life            0.004828        1.000000     -0.003471   \n",
       "Demographics             -0.001697       -0.003471      1.000000   \n",
       "Medical History          -0.001606       -0.002351     -0.001706   \n",
       "Psychiatric History      -0.004249       -0.001684     -0.002348   \n",
       "Substance Use             0.002006       -0.004482     -0.000430   \n",
       "Coping Mechanisms         0.000009        0.001201      0.000356   \n",
       "Social Support            0.002381        0.005436     -0.000149   \n",
       "Lifestyle Factors        -0.008878        0.004470      0.001651   \n",
       "Panic Disorder Diagnosis  0.097926        0.112918     -0.032172   \n",
       "\n",
       "                          Medical History  Psychiatric History  Substance Use  \\\n",
       "Age                              0.005240             0.001214       0.000479   \n",
       "Gender                           0.000168             0.001063      -0.004195   \n",
       "Family History                   0.005006            -0.001989      -0.000648   \n",
       "Personal History                 0.000932            -0.001537       0.008083   \n",
       "Current Stressors               -0.000675             0.000437      -0.002040   \n",
       "Symptoms                        -0.000781             0.000694       0.001714   \n",
       "Severity                        -0.001606            -0.004249       0.002006   \n",
       "Impact on Life                  -0.002351            -0.001684      -0.004482   \n",
       "Demographics                    -0.001706            -0.002348      -0.000430   \n",
       "Medical History                  1.000000            -0.000130       0.004550   \n",
       "Psychiatric History             -0.000130             1.000000       0.001766   \n",
       "Substance Use                    0.004550             0.001766       1.000000   \n",
       "Coping Mechanisms               -0.002080             0.001370       0.000862   \n",
       "Social Support                   0.006776            -0.003455      -0.004177   \n",
       "Lifestyle Factors                0.001442             0.002493       0.005312   \n",
       "Panic Disorder Diagnosis         0.028396            -0.022012      -0.025187   \n",
       "\n",
       "                          Coping Mechanisms  Social Support  \\\n",
       "Age                                0.001965        0.004726   \n",
       "Gender                            -0.007372       -0.001858   \n",
       "Family History                    -0.001220        0.003598   \n",
       "Personal History                  -0.002969        0.003788   \n",
       "Current Stressors                  0.000758       -0.003106   \n",
       "Symptoms                           0.004815        0.003213   \n",
       "Severity                           0.000009        0.002381   \n",
       "Impact on Life                     0.001201        0.005436   \n",
       "Demographics                       0.000356       -0.000149   \n",
       "Medical History                   -0.002080        0.006776   \n",
       "Psychiatric History                0.001370       -0.003455   \n",
       "Substance Use                      0.000862       -0.004177   \n",
       "Coping Mechanisms                  1.000000        0.007871   \n",
       "Social Support                     0.007871        1.000000   \n",
       "Lifestyle Factors                  0.001116       -0.004328   \n",
       "Panic Disorder Diagnosis           0.056206        0.003461   \n",
       "\n",
       "                          Lifestyle Factors  Panic Disorder Diagnosis  \n",
       "Age                                0.000854                 -0.000502  \n",
       "Gender                             0.001685                  0.002199  \n",
       "Family History                    -0.006489                  0.066927  \n",
       "Personal History                   0.002551                  0.075500  \n",
       "Current Stressors                 -0.003705                 -0.150833  \n",
       "Symptoms                           0.003098                  0.043315  \n",
       "Severity                          -0.008878                  0.097926  \n",
       "Impact on Life                     0.004470                  0.112918  \n",
       "Demographics                       0.001651                 -0.032172  \n",
       "Medical History                    0.001442                  0.028396  \n",
       "Psychiatric History                0.002493                 -0.022012  \n",
       "Substance Use                      0.005312                 -0.025187  \n",
       "Coping Mechanisms                  0.001116                  0.056206  \n",
       "Social Support                    -0.004328                  0.003461  \n",
       "Lifestyle Factors                  1.000000                  0.260326  \n",
       "Panic Disorder Diagnosis           0.260326                  1.000000  "
      ]
     },
     "execution_count": 34,
     "metadata": {},
     "output_type": "execute_result"
    }
   ],
   "source": [
    "t1=train.corr()\n",
    "t1"
   ]
  },
  {
   "cell_type": "code",
   "execution_count": 35,
   "id": "b38a5015-1363-496e-8b8d-a2cbaa00bec5",
   "metadata": {},
   "outputs": [
    {
     "data": {
      "image/png": "[encoded data removed]",
      "text/plain": [
       "<Figure size 1500x1000 with 2 Axes>"
      ]
     },
     "metadata": {},
     "output_type": "display_data"
    }
   ],
   "source": [
    "import matplotlib.pyplot as plt\n",
    "plt.figure(figsize=(15,10))\n",
    "heatmap=sns.heatmap(t1,linewidth=1,annot=True)"
   ]
  },
  {
   "cell_type": "markdown",
   "id": "47450201-e7c2-4191-abbb-df30189ebe90",
   "metadata": {},
   "source": [
    "HEATMAP: It is use to show correlation between two columns(entity)..."
   ]
  },
  {
   "cell_type": "code",
   "execution_count": 36,
   "id": "5932bd51-569f-4c67-bdca-c99c3d72f90e",
   "metadata": {},
   "outputs": [
    {
     "data": {
      "text/plain": [
       "<Axes: xlabel='Age', ylabel='Density'>"
      ]
     },
     "execution_count": 36,
     "metadata": {},
     "output_type": "execute_result"
    },
    {
     "data": {
      "image/png": "[encoded data removed]",
      "text/plain": [
       "<Figure size 640x480 with 1 Axes>"
      ]
     },
     "metadata": {},
     "output_type": "display_data"
    }
   ],
   "source": [
    "sns.kdeplot(data=train,x=\"Age\",hue=\"Gender\",fill=True,alpha=0.6,linewidth=1.5)"
   ]
  },
  {
   "cell_type": "markdown",
   "id": "bc581074-a0f7-4ffa-adcc-c3b4853ff7cb",
   "metadata": {},
   "source": [
    "# MODEL BUILDING"
   ]
  },
  {
   "cell_type": "code",
   "execution_count": 37,
   "id": "98849489-a25b-4f20-a149-6d4915c5eec0",
   "metadata": {},
   "outputs": [
    {
     "data": {
      "text/plain": [
       "(100000, 16)"
      ]
     },
     "execution_count": 37,
     "metadata": {},
     "output_type": "execute_result"
    }
   ],
   "source": [
    "train.shape"
   ]
  },
  {
   "cell_type": "code",
   "execution_count": 38,
   "id": "1c5b2d47-8ece-4b45-b601-b5f53183110d",
   "metadata": {},
   "outputs": [
    {
     "data": {
      "text/html": [
       "<div>\n",
       "<style scoped>\n",
       "    .dataframe tbody tr th:only-of-type {\n",
       "        vertical-align: middle;\n",
       "    }\n",
       "\n",
       "    .dataframe tbody tr th {\n",
       "        vertical-align: top;\n",
       "    }\n",
       "\n",
       "    .dataframe thead th {\n",
       "        text-align: right;\n",
       "    }\n",
       "</style>\n",
       "<table border=\"1\" class=\"dataframe\">\n",
       "  <thead>\n",
       "    <tr style=\"text-align: right;\">\n",
       "      <th></th>\n",
       "      <th>Age</th>\n",
       "      <th>Gender</th>\n",
       "      <th>Family History</th>\n",
       "      <th>Personal History</th>\n",
       "      <th>Current Stressors</th>\n",
       "      <th>Symptoms</th>\n",
       "      <th>Severity</th>\n",
       "      <th>Impact on Life</th>\n",
       "      <th>Demographics</th>\n",
       "      <th>Medical History</th>\n",
       "      <th>Psychiatric History</th>\n",
       "      <th>Substance Use</th>\n",
       "      <th>Coping Mechanisms</th>\n",
       "      <th>Social Support</th>\n",
       "      <th>Lifestyle Factors</th>\n",
       "      <th>Panic Disorder Diagnosis</th>\n",
       "    </tr>\n",
       "  </thead>\n",
       "  <tbody>\n",
       "    <tr>\n",
       "      <th>0</th>\n",
       "      <td>38</td>\n",
       "      <td>1</td>\n",
       "      <td>0</td>\n",
       "      <td>1</td>\n",
       "      <td>2</td>\n",
       "      <td>4</td>\n",
       "      <td>0</td>\n",
       "      <td>0</td>\n",
       "      <td>0</td>\n",
       "      <td>1</td>\n",
       "      <td>1</td>\n",
       "      <td>2</td>\n",
       "      <td>3</td>\n",
       "      <td>0</td>\n",
       "      <td>2</td>\n",
       "      <td>0</td>\n",
       "    </tr>\n",
       "    <tr>\n",
       "      <th>1</th>\n",
       "      <td>51</td>\n",
       "      <td>1</td>\n",
       "      <td>0</td>\n",
       "      <td>0</td>\n",
       "      <td>0</td>\n",
       "      <td>3</td>\n",
       "      <td>0</td>\n",
       "      <td>0</td>\n",
       "      <td>1</td>\n",
       "      <td>0</td>\n",
       "      <td>0</td>\n",
       "      <td>1</td>\n",
       "      <td>0</td>\n",
       "      <td>0</td>\n",
       "      <td>2</td>\n",
       "      <td>0</td>\n",
       "    </tr>\n",
       "  </tbody>\n",
       "</table>\n",
       "</div>"
      ],
      "text/plain": [
       "   Age  Gender  Family History  Personal History  Current Stressors  Symptoms  \\\n",
       "0   38       1               0                 1                  2         4   \n",
       "1   51       1               0                 0                  0         3   \n",
       "\n",
       "   Severity  Impact on Life  Demographics  Medical History  \\\n",
       "0         0               0             0                1   \n",
       "1         0               0             1                0   \n",
       "\n",
       "   Psychiatric History  Substance Use  Coping Mechanisms  Social Support  \\\n",
       "0                    1              2                  3               0   \n",
       "1                    0              1                  0               0   \n",
       "\n",
       "   Lifestyle Factors  Panic Disorder Diagnosis  \n",
       "0                  2                         0  \n",
       "1                  2                         0  "
      ]
     },
     "execution_count": 38,
     "metadata": {},
     "output_type": "execute_result"
    }
   ],
   "source": [
    "train.head(2)"
   ]
  },
  {
   "cell_type": "code",
   "execution_count": 39,
   "id": "95304555-3e59-4264-a484-587a7eb31993",
   "metadata": {},
   "outputs": [
    {
     "data": {
      "text/html": [
       "<div>\n",
       "<style scoped>\n",
       "    .dataframe tbody tr th:only-of-type {\n",
       "        vertical-align: middle;\n",
       "    }\n",
       "\n",
       "    .dataframe tbody tr th {\n",
       "        vertical-align: top;\n",
       "    }\n",
       "\n",
       "    .dataframe thead th {\n",
       "        text-align: right;\n",
       "    }\n",
       "</style>\n",
       "<table border=\"1\" class=\"dataframe\">\n",
       "  <thead>\n",
       "    <tr style=\"text-align: right;\">\n",
       "      <th></th>\n",
       "      <th>Age</th>\n",
       "      <th>Gender</th>\n",
       "      <th>Family History</th>\n",
       "      <th>Personal History</th>\n",
       "      <th>Current Stressors</th>\n",
       "      <th>Symptoms</th>\n",
       "      <th>Severity</th>\n",
       "      <th>Impact on Life</th>\n",
       "      <th>Demographics</th>\n",
       "      <th>Medical History</th>\n",
       "      <th>Psychiatric History</th>\n",
       "      <th>Substance Use</th>\n",
       "      <th>Coping Mechanisms</th>\n",
       "      <th>Social Support</th>\n",
       "      <th>Lifestyle Factors</th>\n",
       "    </tr>\n",
       "  </thead>\n",
       "  <tbody>\n",
       "    <tr>\n",
       "      <th>0</th>\n",
       "      <td>38</td>\n",
       "      <td>1</td>\n",
       "      <td>0</td>\n",
       "      <td>1</td>\n",
       "      <td>2</td>\n",
       "      <td>4</td>\n",
       "      <td>0</td>\n",
       "      <td>0</td>\n",
       "      <td>0</td>\n",
       "      <td>1</td>\n",
       "      <td>1</td>\n",
       "      <td>2</td>\n",
       "      <td>3</td>\n",
       "      <td>0</td>\n",
       "      <td>2</td>\n",
       "    </tr>\n",
       "    <tr>\n",
       "      <th>1</th>\n",
       "      <td>51</td>\n",
       "      <td>1</td>\n",
       "      <td>0</td>\n",
       "      <td>0</td>\n",
       "      <td>0</td>\n",
       "      <td>3</td>\n",
       "      <td>0</td>\n",
       "      <td>0</td>\n",
       "      <td>1</td>\n",
       "      <td>0</td>\n",
       "      <td>0</td>\n",
       "      <td>1</td>\n",
       "      <td>0</td>\n",
       "      <td>0</td>\n",
       "      <td>2</td>\n",
       "    </tr>\n",
       "    <tr>\n",
       "      <th>2</th>\n",
       "      <td>32</td>\n",
       "      <td>0</td>\n",
       "      <td>1</td>\n",
       "      <td>0</td>\n",
       "      <td>0</td>\n",
       "      <td>3</td>\n",
       "      <td>0</td>\n",
       "      <td>2</td>\n",
       "      <td>1</td>\n",
       "      <td>1</td>\n",
       "      <td>2</td>\n",
       "      <td>2</td>\n",
       "      <td>2</td>\n",
       "      <td>2</td>\n",
       "      <td>1</td>\n",
       "    </tr>\n",
       "    <tr>\n",
       "      <th>3</th>\n",
       "      <td>64</td>\n",
       "      <td>0</td>\n",
       "      <td>0</td>\n",
       "      <td>0</td>\n",
       "      <td>2</td>\n",
       "      <td>0</td>\n",
       "      <td>1</td>\n",
       "      <td>1</td>\n",
       "      <td>0</td>\n",
       "      <td>1</td>\n",
       "      <td>2</td>\n",
       "      <td>2</td>\n",
       "      <td>1</td>\n",
       "      <td>0</td>\n",
       "      <td>1</td>\n",
       "    </tr>\n",
       "    <tr>\n",
       "      <th>4</th>\n",
       "      <td>31</td>\n",
       "      <td>1</td>\n",
       "      <td>1</td>\n",
       "      <td>0</td>\n",
       "      <td>2</td>\n",
       "      <td>3</td>\n",
       "      <td>0</td>\n",
       "      <td>1</td>\n",
       "      <td>0</td>\n",
       "      <td>0</td>\n",
       "      <td>2</td>\n",
       "      <td>1</td>\n",
       "      <td>2</td>\n",
       "      <td>1</td>\n",
       "      <td>2</td>\n",
       "    </tr>\n",
       "  </tbody>\n",
       "</table>\n",
       "</div>"
      ],
      "text/plain": [
       "   Age  Gender  Family History  Personal History  Current Stressors  Symptoms  \\\n",
       "0   38       1               0                 1                  2         4   \n",
       "1   51       1               0                 0                  0         3   \n",
       "2   32       0               1                 0                  0         3   \n",
       "3   64       0               0                 0                  2         0   \n",
       "4   31       1               1                 0                  2         3   \n",
       "\n",
       "   Severity  Impact on Life  Demographics  Medical History  \\\n",
       "0         0               0             0                1   \n",
       "1         0               0             1                0   \n",
       "2         0               2             1                1   \n",
       "3         1               1             0                1   \n",
       "4         0               1             0                0   \n",
       "\n",
       "   Psychiatric History  Substance Use  Coping Mechanisms  Social Support  \\\n",
       "0                    1              2                  3               0   \n",
       "1                    0              1                  0               0   \n",
       "2                    2              2                  2               2   \n",
       "3                    2              2                  1               0   \n",
       "4                    2              1                  2               1   \n",
       "\n",
       "   Lifestyle Factors  \n",
       "0                  2  \n",
       "1                  2  \n",
       "2                  1  \n",
       "3                  1  \n",
       "4                  2  "
      ]
     },
     "execution_count": 39,
     "metadata": {},
     "output_type": "execute_result"
    }
   ],
   "source": [
    "x=train.iloc[:,:15]\n",
    "y=train.iloc[:,-1]\n",
    "x.head()\n",
    "#y.head()"
   ]
  },
  {
   "cell_type": "code",
   "execution_count": 40,
   "id": "e39ec699-d3f5-4390-9101-baded53a07f4",
   "metadata": {},
   "outputs": [],
   "source": [
    "from sklearn.model_selection import train_test_split"
   ]
  },
  {
   "cell_type": "code",
   "execution_count": 41,
   "id": "0b08aaf0-a2d1-422d-8c26-3f80dd6705f2",
   "metadata": {},
   "outputs": [],
   "source": [
    "d_x_train,d_x_test,d_y_train,d_y_test=train_test_split(x,y,test_size=0.2,random_state=101)"
   ]
  },
  {
   "cell_type": "code",
   "execution_count": 42,
   "id": "a387009a-bd6e-4fd9-8e7d-a61df664a1a7",
   "metadata": {},
   "outputs": [
    {
     "data": {
      "text/plain": [
       "((80000, 15), (20000, 15), (80000,), (20000,))"
      ]
     },
     "execution_count": 42,
     "metadata": {},
     "output_type": "execute_result"
    }
   ],
   "source": [
    "d_x_train.shape,d_x_test.shape,d_y_train.shape,d_y_test.shape"
   ]
  },
  {
   "cell_type": "code",
   "execution_count": 43,
   "id": "47dc9cc7-80f4-4bc8-90f8-1e4fc4969878",
   "metadata": {},
   "outputs": [
    {
     "data": {
      "text/html": [
       "<div>\n",
       "<style scoped>\n",
       "    .dataframe tbody tr th:only-of-type {\n",
       "        vertical-align: middle;\n",
       "    }\n",
       "\n",
       "    .dataframe tbody tr th {\n",
       "        vertical-align: top;\n",
       "    }\n",
       "\n",
       "    .dataframe thead th {\n",
       "        text-align: right;\n",
       "    }\n",
       "</style>\n",
       "<table border=\"1\" class=\"dataframe\">\n",
       "  <thead>\n",
       "    <tr style=\"text-align: right;\">\n",
       "      <th></th>\n",
       "      <th>Age</th>\n",
       "      <th>Gender</th>\n",
       "      <th>Family History</th>\n",
       "      <th>Personal History</th>\n",
       "      <th>Current Stressors</th>\n",
       "      <th>Symptoms</th>\n",
       "      <th>Severity</th>\n",
       "      <th>Impact on Life</th>\n",
       "      <th>Demographics</th>\n",
       "      <th>Medical History</th>\n",
       "      <th>Psychiatric History</th>\n",
       "      <th>Substance Use</th>\n",
       "      <th>Coping Mechanisms</th>\n",
       "      <th>Social Support</th>\n",
       "      <th>Lifestyle Factors</th>\n",
       "    </tr>\n",
       "  </thead>\n",
       "  <tbody>\n",
       "    <tr>\n",
       "      <th>38823</th>\n",
       "      <td>32</td>\n",
       "      <td>0</td>\n",
       "      <td>0</td>\n",
       "      <td>1</td>\n",
       "      <td>0</td>\n",
       "      <td>3</td>\n",
       "      <td>1</td>\n",
       "      <td>0</td>\n",
       "      <td>0</td>\n",
       "      <td>2</td>\n",
       "      <td>1</td>\n",
       "      <td>2</td>\n",
       "      <td>2</td>\n",
       "      <td>2</td>\n",
       "      <td>0</td>\n",
       "    </tr>\n",
       "    <tr>\n",
       "      <th>78870</th>\n",
       "      <td>58</td>\n",
       "      <td>1</td>\n",
       "      <td>0</td>\n",
       "      <td>1</td>\n",
       "      <td>0</td>\n",
       "      <td>4</td>\n",
       "      <td>1</td>\n",
       "      <td>0</td>\n",
       "      <td>1</td>\n",
       "      <td>0</td>\n",
       "      <td>2</td>\n",
       "      <td>0</td>\n",
       "      <td>1</td>\n",
       "      <td>2</td>\n",
       "      <td>1</td>\n",
       "    </tr>\n",
       "    <tr>\n",
       "      <th>28393</th>\n",
       "      <td>52</td>\n",
       "      <td>1</td>\n",
       "      <td>1</td>\n",
       "      <td>0</td>\n",
       "      <td>1</td>\n",
       "      <td>1</td>\n",
       "      <td>2</td>\n",
       "      <td>2</td>\n",
       "      <td>1</td>\n",
       "      <td>1</td>\n",
       "      <td>1</td>\n",
       "      <td>0</td>\n",
       "      <td>3</td>\n",
       "      <td>1</td>\n",
       "      <td>2</td>\n",
       "    </tr>\n",
       "    <tr>\n",
       "      <th>64349</th>\n",
       "      <td>27</td>\n",
       "      <td>1</td>\n",
       "      <td>0</td>\n",
       "      <td>0</td>\n",
       "      <td>0</td>\n",
       "      <td>0</td>\n",
       "      <td>0</td>\n",
       "      <td>2</td>\n",
       "      <td>1</td>\n",
       "      <td>1</td>\n",
       "      <td>2</td>\n",
       "      <td>0</td>\n",
       "      <td>3</td>\n",
       "      <td>0</td>\n",
       "      <td>2</td>\n",
       "    </tr>\n",
       "    <tr>\n",
       "      <th>23027</th>\n",
       "      <td>52</td>\n",
       "      <td>0</td>\n",
       "      <td>1</td>\n",
       "      <td>0</td>\n",
       "      <td>0</td>\n",
       "      <td>2</td>\n",
       "      <td>2</td>\n",
       "      <td>0</td>\n",
       "      <td>1</td>\n",
       "      <td>0</td>\n",
       "      <td>2</td>\n",
       "      <td>1</td>\n",
       "      <td>2</td>\n",
       "      <td>0</td>\n",
       "      <td>1</td>\n",
       "    </tr>\n",
       "  </tbody>\n",
       "</table>\n",
       "</div>"
      ],
      "text/plain": [
       "       Age  Gender  Family History  Personal History  Current Stressors  \\\n",
       "38823   32       0               0                 1                  0   \n",
       "78870   58       1               0                 1                  0   \n",
       "28393   52       1               1                 0                  1   \n",
       "64349   27       1               0                 0                  0   \n",
       "23027   52       0               1                 0                  0   \n",
       "\n",
       "       Symptoms  Severity  Impact on Life  Demographics  Medical History  \\\n",
       "38823         3         1               0             0                2   \n",
       "78870         4         1               0             1                0   \n",
       "28393         1         2               2             1                1   \n",
       "64349         0         0               2             1                1   \n",
       "23027         2         2               0             1                0   \n",
       "\n",
       "       Psychiatric History  Substance Use  Coping Mechanisms  Social Support  \\\n",
       "38823                    1              2                  2               2   \n",
       "78870                    2              0                  1               2   \n",
       "28393                    1              0                  3               1   \n",
       "64349                    2              0                  3               0   \n",
       "23027                    2              1                  2               0   \n",
       "\n",
       "       Lifestyle Factors  \n",
       "38823                  0  \n",
       "78870                  1  \n",
       "28393                  2  \n",
       "64349                  2  \n",
       "23027                  1  "
      ]
     },
     "execution_count": 43,
     "metadata": {},
     "output_type": "execute_result"
    }
   ],
   "source": [
    "d_x_train.head()"
   ]
  },
  {
   "cell_type": "markdown",
   "id": "f7d6af0c-4e49-4222-815b-83791e18e9f4",
   "metadata": {},
   "source": [
    "# Logistic Regression"
   ]
  },
  {
   "cell_type": "code",
   "execution_count": 44,
   "id": "73ce1925-1930-4a64-9333-99e8d6adf4a0",
   "metadata": {},
   "outputs": [],
   "source": [
    "from sklearn.linear_model import LogisticRegression\n",
    "lg= LogisticRegression()"
   ]
  },
  {
   "cell_type": "code",
   "execution_count": 45,
   "id": "6cf1c61f-856d-45f6-ab1a-f32dd426734e",
   "metadata": {},
   "outputs": [
    {
     "data": {
      "text/html": [
       "<style>#sk-container-id-1 {color: black;background-color: white;}#sk-container-id-1 pre{padding: 0;}#sk-container-id-1 div.sk-toggleable {background-color: white;}#sk-container-id-1 label.sk-toggleable__label {cursor: pointer;display: block;width: 100%;margin-bottom: 0;padding: 0.3em;box-sizing: border-box;text-align: center;}#sk-container-id-1 label.sk-toggleable__label-arrow:before {content: \"▸\";float: left;margin-right: 0.25em;color: #696969;}#sk-container-id-1 label.sk-toggleable__label-arrow:hover:before {color: black;}#sk-container-id-1 div.sk-estimator:hover label.sk-toggleable__label-arrow:before {color: black;}#sk-container-id-1 div.sk-toggleable__content {max-height: 0;max-width: 0;overflow: hidden;text-align: left;background-color: #f0f8ff;}#sk-container-id-1 div.sk-toggleable__content pre {margin: 0.2em;color: black;border-radius: 0.25em;background-color: #f0f8ff;}#sk-container-id-1 input.sk-toggleable__control:checked~div.sk-toggleable__content {max-height: 200px;max-width: 100%;overflow: auto;}#sk-container-id-1 input.sk-toggleable__control:checked~label.sk-toggleable__label-arrow:before {content: \"▾\";}#sk-container-id-1 div.sk-estimator input.sk-toggleable__control:checked~label.sk-toggleable__label {background-color: #d4ebff;}#sk-container-id-1 div.sk-label input.sk-toggleable__control:checked~label.sk-toggleable__label {background-color: #d4ebff;}#sk-container-id-1 input.sk-hidden--visually {border: 0;clip: rect(1px 1px 1px 1px);clip: rect(1px, 1px, 1px, 1px);height: 1px;margin: -1px;overflow: hidden;padding: 0;position: absolute;width: 1px;}#sk-container-id-1 div.sk-estimator {font-family: monospace;background-color: #f0f8ff;border: 1px dotted black;border-radius: 0.25em;box-sizing: border-box;margin-bottom: 0.5em;}#sk-container-id-1 div.sk-estimator:hover {background-color: #d4ebff;}#sk-container-id-1 div.sk-parallel-item::after {content: \"\";width: 100%;border-bottom: 1px solid gray;flex-grow: 1;}#sk-container-id-1 div.sk-label:hover label.sk-toggleable__label {background-color: #d4ebff;}#sk-container-id-1 div.sk-serial::before {content: \"\";position: absolute;border-left: 1px solid gray;box-sizing: border-box;top: 0;bottom: 0;left: 50%;z-index: 0;}#sk-container-id-1 div.sk-serial {display: flex;flex-direction: column;align-items: center;background-color: white;padding-right: 0.2em;padding-left: 0.2em;position: relative;}#sk-container-id-1 div.sk-item {position: relative;z-index: 1;}#sk-container-id-1 div.sk-parallel {display: flex;align-items: stretch;justify-content: center;background-color: white;position: relative;}#sk-container-id-1 div.sk-item::before, #sk-container-id-1 div.sk-parallel-item::before {content: \"\";position: absolute;border-left: 1px solid gray;box-sizing: border-box;top: 0;bottom: 0;left: 50%;z-index: -1;}#sk-container-id-1 div.sk-parallel-item {display: flex;flex-direction: column;z-index: 1;position: relative;background-color: white;}#sk-container-id-1 div.sk-parallel-item:first-child::after {align-self: flex-end;width: 50%;}#sk-container-id-1 div.sk-parallel-item:last-child::after {align-self: flex-start;width: 50%;}#sk-container-id-1 div.sk-parallel-item:only-child::after {width: 0;}#sk-container-id-1 div.sk-dashed-wrapped {border: 1px dashed gray;margin: 0 0.4em 0.5em 0.4em;box-sizing: border-box;padding-bottom: 0.4em;background-color: white;}#sk-container-id-1 div.sk-label label {font-family: monospace;font-weight: bold;display: inline-block;line-height: 1.2em;}#sk-container-id-1 div.sk-label-container {text-align: center;}#sk-container-id-1 div.sk-container {/* jupyter's `normalize.less` sets `[hidden] { display: none; }` but bootstrap.min.css set `[hidden] { display: none !important; }` so we also need the `!important` here to be able to override the default hidden behavior on the sphinx rendered scikit-learn.org. See: https://github.com/scikit-learn/scikit-learn/issues/21755 */display: inline-block !important;position: relative;}#sk-container-id-1 div.sk-text-repr-fallback {display: none;}</style><div id=\"sk-container-id-1\" class=\"sk-top-container\"><div class=\"sk-text-repr-fallback\"><pre>LogisticRegression()</pre><b>In a Jupyter environment, please rerun this cell to show the HTML representation or trust the notebook. <br />On GitHub, the HTML representation is unable to render, please try loading this page with nbviewer.org.</b></div><div class=\"sk-container\" hidden><div class=\"sk-item\"><div class=\"sk-estimator sk-toggleable\"><input class=\"sk-toggleable__control sk-hidden--visually\" id=\"sk-estimator-id-1\" type=\"checkbox\" checked><label for=\"sk-estimator-id-1\" class=\"sk-toggleable__label sk-toggleable__label-arrow\">LogisticRegression</label><div class=\"sk-toggleable__content\"><pre>LogisticRegression()</pre></div></div></div></div></div>"
      ],
      "text/plain": [
       "LogisticRegression()"
      ]
     },
     "execution_count": 45,
     "metadata": {},
     "output_type": "execute_result"
    }
   ],
   "source": [
    "lg.fit(d_x_train,d_y_train)"
   ]
  },
  {
   "cell_type": "code",
   "execution_count": 46,
   "id": "882c14ef-2321-4a05-8530-fb64854feae6",
   "metadata": {},
   "outputs": [],
   "source": [
    "p1=lg.predict(d_x_test)"
   ]
  },
  {
   "cell_type": "code",
   "execution_count": 47,
   "id": "b7b1f7f0-dea5-4d73-980a-9218d33b2782",
   "metadata": {},
   "outputs": [],
   "source": [
    "p_value=lg.predict_proba(d_x_test)"
   ]
  },
  {
   "cell_type": "code",
   "execution_count": 48,
   "id": "7d64a300-8a69-4078-87df-1816c5030ac5",
   "metadata": {},
   "outputs": [],
   "source": [
    "from sklearn.metrics import confusion_matrix"
   ]
  },
  {
   "cell_type": "code",
   "execution_count": 49,
   "id": "a7f0a040-a97e-4825-88f0-84952e3d6970",
   "metadata": {},
   "outputs": [
    {
     "data": {
      "text/plain": [
       "array([[18953,   532],\n",
       "       [  184,   331]], dtype=int64)"
      ]
     },
     "execution_count": 49,
     "metadata": {},
     "output_type": "execute_result"
    }
   ],
   "source": [
    "m1=confusion_matrix(p1,d_y_test)\n",
    "m1"
   ]
  },
  {
   "cell_type": "code",
   "execution_count": 50,
   "id": "aed45ee8-b55e-408b-9bbd-c4f2b6aa817c",
   "metadata": {},
   "outputs": [],
   "source": [
    "TN,FP,FN,TP =m1.ravel()"
   ]
  },
  {
   "cell_type": "code",
   "execution_count": 51,
   "id": "9bd4095c-5f43-421c-a1af-fec359f06f2e",
   "metadata": {},
   "outputs": [
    {
     "data": {
      "text/plain": [
       "0.38354577056778677"
      ]
     },
     "execution_count": 51,
     "metadata": {},
     "output_type": "execute_result"
    }
   ],
   "source": [
    "lp= TP/ (TP + FP)\n",
    "lp"
   ]
  },
  {
   "cell_type": "code",
   "execution_count": 52,
   "id": "513e99a8-31ba-4e93-b9da-c0a0d72ceb61",
   "metadata": {},
   "outputs": [
    {
     "data": {
      "text/plain": [
       "0.6427184466019418"
      ]
     },
     "execution_count": 52,
     "metadata": {},
     "output_type": "execute_result"
    }
   ],
   "source": [
    "lr= TP / (TP + FN)\n",
    "lr"
   ]
  },
  {
   "cell_type": "code",
   "execution_count": 53,
   "id": "a1e585bb-2903-4119-b77d-5cac29edceb1",
   "metadata": {},
   "outputs": [
    {
     "data": {
      "text/plain": [
       "0.48040638606676345"
      ]
     },
     "execution_count": 53,
     "metadata": {},
     "output_type": "execute_result"
    }
   ],
   "source": [
    "lf1= 2* (lp * lr) / (lp + lr)\n",
    "lf1"
   ]
  },
  {
   "cell_type": "code",
   "execution_count": 54,
   "id": "9601f60b-65b1-48bf-bc3f-031c0e726f1e",
   "metadata": {},
   "outputs": [
    {
     "data": {
      "text/plain": [
       "96.41999999999999"
      ]
     },
     "execution_count": 54,
     "metadata": {},
     "output_type": "execute_result"
    }
   ],
   "source": [
    "ac1=m1.diagonal().sum()/m1.sum()*100\n",
    "ac1"
   ]
  },
  {
   "cell_type": "code",
   "execution_count": 55,
   "id": "5a8cf007-38bb-49ed-814f-9e512bea616c",
   "metadata": {},
   "outputs": [
    {
     "name": "stdout",
     "output_type": "stream",
     "text": [
      "              precision    recall  f1-score   support\n",
      "\n",
      "           0       0.99      0.97      0.98     19485\n",
      "           1       0.38      0.64      0.48       515\n",
      "\n",
      "    accuracy                           0.96     20000\n",
      "   macro avg       0.69      0.81      0.73     20000\n",
      "weighted avg       0.97      0.96      0.97     20000\n",
      "\n"
     ]
    }
   ],
   "source": [
    "from sklearn.metrics import classification_report\n",
    "print(classification_report(p1,d_y_test))"
   ]
  },
  {
   "cell_type": "code",
   "execution_count": 56,
   "id": "2fd936aa-8057-49ed-b7f2-51b5897b32c6",
   "metadata": {},
   "outputs": [
    {
     "data": {
      "text/plain": [
       "Panic Disorder Diagnosis\n",
       "0    95715\n",
       "1     4285\n",
       "Name: count, dtype: int64"
      ]
     },
     "execution_count": 56,
     "metadata": {},
     "output_type": "execute_result"
    }
   ],
   "source": [
    "train[\"Panic Disorder Diagnosis\"].value_counts()"
   ]
  },
  {
   "cell_type": "markdown",
   "id": "d980b70e-447a-4fb2-a3f7-aa1dcb3457e4",
   "metadata": {},
   "source": [
    "# AUC & ROC"
   ]
  },
  {
   "cell_type": "code",
   "execution_count": 57,
   "id": "a581b3f4-3b9e-417d-8b9b-1bc11c547a1e",
   "metadata": {},
   "outputs": [],
   "source": [
    "from sklearn.metrics import roc_auc_score\n",
    "from sklearn.metrics import roc_curve "
   ]
  },
  {
   "cell_type": "code",
   "execution_count": 58,
   "id": "9398f724-44ca-4c03-9c36-afc1f577de2e",
   "metadata": {},
   "outputs": [
    {
     "data": {
      "text/plain": [
       "0.8077076964854718"
      ]
     },
     "execution_count": 58,
     "metadata": {},
     "output_type": "execute_result"
    }
   ],
   "source": [
    "roc=roc_auc_score(p1,d_y_test)\n",
    "roc"
   ]
  },
  {
   "cell_type": "code",
   "execution_count": 59,
   "id": "71f7993d-7e8f-48f5-aa78-4834125d6e74",
   "metadata": {},
   "outputs": [
    {
     "data": {
      "text/html": [
       "<div>\n",
       "<style scoped>\n",
       "    .dataframe tbody tr th:only-of-type {\n",
       "        vertical-align: middle;\n",
       "    }\n",
       "\n",
       "    .dataframe tbody tr th {\n",
       "        vertical-align: top;\n",
       "    }\n",
       "\n",
       "    .dataframe thead th {\n",
       "        text-align: right;\n",
       "    }\n",
       "</style>\n",
       "<table border=\"1\" class=\"dataframe\">\n",
       "  <thead>\n",
       "    <tr style=\"text-align: right;\">\n",
       "      <th></th>\n",
       "      <th>0</th>\n",
       "      <th>1</th>\n",
       "    </tr>\n",
       "  </thead>\n",
       "  <tbody>\n",
       "    <tr>\n",
       "      <th>0</th>\n",
       "      <td>0.113072</td>\n",
       "      <td>0.886928</td>\n",
       "    </tr>\n",
       "    <tr>\n",
       "      <th>1</th>\n",
       "      <td>0.999998</td>\n",
       "      <td>0.000002</td>\n",
       "    </tr>\n",
       "    <tr>\n",
       "      <th>2</th>\n",
       "      <td>0.913738</td>\n",
       "      <td>0.086262</td>\n",
       "    </tr>\n",
       "    <tr>\n",
       "      <th>3</th>\n",
       "      <td>0.999473</td>\n",
       "      <td>0.000527</td>\n",
       "    </tr>\n",
       "    <tr>\n",
       "      <th>4</th>\n",
       "      <td>0.999999</td>\n",
       "      <td>0.000001</td>\n",
       "    </tr>\n",
       "    <tr>\n",
       "      <th>...</th>\n",
       "      <td>...</td>\n",
       "      <td>...</td>\n",
       "    </tr>\n",
       "    <tr>\n",
       "      <th>19995</th>\n",
       "      <td>0.999863</td>\n",
       "      <td>0.000137</td>\n",
       "    </tr>\n",
       "    <tr>\n",
       "      <th>19996</th>\n",
       "      <td>0.999995</td>\n",
       "      <td>0.000005</td>\n",
       "    </tr>\n",
       "    <tr>\n",
       "      <th>19997</th>\n",
       "      <td>0.988283</td>\n",
       "      <td>0.011717</td>\n",
       "    </tr>\n",
       "    <tr>\n",
       "      <th>19998</th>\n",
       "      <td>0.767284</td>\n",
       "      <td>0.232716</td>\n",
       "    </tr>\n",
       "    <tr>\n",
       "      <th>19999</th>\n",
       "      <td>0.542737</td>\n",
       "      <td>0.457263</td>\n",
       "    </tr>\n",
       "  </tbody>\n",
       "</table>\n",
       "<p>20000 rows × 2 columns</p>\n",
       "</div>"
      ],
      "text/plain": [
       "              0         1\n",
       "0      0.113072  0.886928\n",
       "1      0.999998  0.000002\n",
       "2      0.913738  0.086262\n",
       "3      0.999473  0.000527\n",
       "4      0.999999  0.000001\n",
       "...         ...       ...\n",
       "19995  0.999863  0.000137\n",
       "19996  0.999995  0.000005\n",
       "19997  0.988283  0.011717\n",
       "19998  0.767284  0.232716\n",
       "19999  0.542737  0.457263\n",
       "\n",
       "[20000 rows x 2 columns]"
      ]
     },
     "execution_count": 59,
     "metadata": {},
     "output_type": "execute_result"
    }
   ],
   "source": [
    "df4=pd.DataFrame(p_value)\n",
    "df4"
   ]
  },
  {
   "cell_type": "code",
   "execution_count": 60,
   "id": "8da7109a-7934-41bb-91a8-2a5fd47180d3",
   "metadata": {},
   "outputs": [
    {
     "data": {
      "text/plain": [
       "array([1, 0, 0, ..., 0, 0, 0], dtype=int64)"
      ]
     },
     "execution_count": 60,
     "metadata": {},
     "output_type": "execute_result"
    }
   ],
   "source": [
    "p1"
   ]
  },
  {
   "cell_type": "code",
   "execution_count": 61,
   "id": "69a18153-baa8-433d-a29f-87b797ef17e6",
   "metadata": {},
   "outputs": [],
   "source": [
    "fpr,tpr,threshold=roc_curve(d_y_test,df4.iloc[:,1])"
   ]
  },
  {
   "cell_type": "code",
   "execution_count": 62,
   "id": "bc5c1259-f51f-4a74-9578-83873f3556fe",
   "metadata": {},
   "outputs": [
    {
     "data": {
      "text/plain": [
       "array([0.        , 0.        , 0.        , ..., 0.93708523, 0.93718974,\n",
       "       1.        ])"
      ]
     },
     "execution_count": 62,
     "metadata": {},
     "output_type": "execute_result"
    }
   ],
   "source": [
    "fpr"
   ]
  },
  {
   "cell_type": "code",
   "execution_count": 63,
   "id": "0a854191-7f4a-46c3-b1f5-7c8d2a6561a3",
   "metadata": {},
   "outputs": [
    {
     "data": {
      "text/plain": [
       "array([0.        , 0.00115875, 0.01853998, ..., 1.        , 1.        ,\n",
       "       1.        ])"
      ]
     },
     "execution_count": 63,
     "metadata": {},
     "output_type": "execute_result"
    }
   ],
   "source": [
    "tpr"
   ]
  },
  {
   "cell_type": "code",
   "execution_count": 64,
   "id": "5e59258a-2067-4a4d-a28e-354023b2d809",
   "metadata": {},
   "outputs": [
    {
     "data": {
      "text/plain": [
       "array([1.98183304e+00, 9.81833039e-01, 9.15263934e-01, ...,\n",
       "       1.72476660e-07, 1.72349547e-07, 1.94593537e-09])"
      ]
     },
     "execution_count": 64,
     "metadata": {},
     "output_type": "execute_result"
    }
   ],
   "source": [
    "threshold"
   ]
  },
  {
   "cell_type": "code",
   "execution_count": 65,
   "id": "196d4eae-3f1d-413a-adbc-fef36a34753f",
   "metadata": {},
   "outputs": [
    {
     "data": {
      "text/plain": [
       "[<matplotlib.lines.Line2D at 0x1c6e31efdd0>]"
      ]
     },
     "execution_count": 65,
     "metadata": {},
     "output_type": "execute_result"
    },
    {
     "data": {
      "image/png": "[encoded data removed]",
      "text/plain": [
       "<Figure size 640x480 with 1 Axes>"
      ]
     },
     "metadata": {},
     "output_type": "display_data"
    }
   ],
   "source": [
    "plt.plot(fpr,tpr)"
   ]
  },
  {
   "cell_type": "markdown",
   "id": "276ab90e-1f00-48d8-95bd-52650b7bf01b",
   "metadata": {},
   "source": [
    "# Decision Tree"
   ]
  },
  {
   "cell_type": "code",
   "execution_count": 66,
   "id": "8a832e84-f18c-44e2-90a0-adf9797ca59f",
   "metadata": {},
   "outputs": [],
   "source": [
    "from sklearn.tree import DecisionTreeClassifier\n",
    "dt=DecisionTreeClassifier()"
   ]
  },
  {
   "cell_type": "code",
   "execution_count": 67,
   "id": "52fab295-bd95-4e05-94fa-4dc99f98779e",
   "metadata": {},
   "outputs": [
    {
     "data": {
      "text/html": [
       "<style>#sk-container-id-2 {color: black;background-color: white;}#sk-container-id-2 pre{padding: 0;}#sk-container-id-2 div.sk-toggleable {background-color: white;}#sk-container-id-2 label.sk-toggleable__label {cursor: pointer;display: block;width: 100%;margin-bottom: 0;padding: 0.3em;box-sizing: border-box;text-align: center;}#sk-container-id-2 label.sk-toggleable__label-arrow:before {content: \"▸\";float: left;margin-right: 0.25em;color: #696969;}#sk-container-id-2 label.sk-toggleable__label-arrow:hover:before {color: black;}#sk-container-id-2 div.sk-estimator:hover label.sk-toggleable__label-arrow:before {color: black;}#sk-container-id-2 div.sk-toggleable__content {max-height: 0;max-width: 0;overflow: hidden;text-align: left;background-color: #f0f8ff;}#sk-container-id-2 div.sk-toggleable__content pre {margin: 0.2em;color: black;border-radius: 0.25em;background-color: #f0f8ff;}#sk-container-id-2 input.sk-toggleable__control:checked~div.sk-toggleable__content {max-height: 200px;max-width: 100%;overflow: auto;}#sk-container-id-2 input.sk-toggleable__control:checked~label.sk-toggleable__label-arrow:before {content: \"▾\";}#sk-container-id-2 div.sk-estimator input.sk-toggleable__control:checked~label.sk-toggleable__label {background-color: #d4ebff;}#sk-container-id-2 div.sk-label input.sk-toggleable__control:checked~label.sk-toggleable__label {background-color: #d4ebff;}#sk-container-id-2 input.sk-hidden--visually {border: 0;clip: rect(1px 1px 1px 1px);clip: rect(1px, 1px, 1px, 1px);height: 1px;margin: -1px;overflow: hidden;padding: 0;position: absolute;width: 1px;}#sk-container-id-2 div.sk-estimator {font-family: monospace;background-color: #f0f8ff;border: 1px dotted black;border-radius: 0.25em;box-sizing: border-box;margin-bottom: 0.5em;}#sk-container-id-2 div.sk-estimator:hover {background-color: #d4ebff;}#sk-container-id-2 div.sk-parallel-item::after {content: \"\";width: 100%;border-bottom: 1px solid gray;flex-grow: 1;}#sk-container-id-2 div.sk-label:hover label.sk-toggleable__label {background-color: #d4ebff;}#sk-container-id-2 div.sk-serial::before {content: \"\";position: absolute;border-left: 1px solid gray;box-sizing: border-box;top: 0;bottom: 0;left: 50%;z-index: 0;}#sk-container-id-2 div.sk-serial {display: flex;flex-direction: column;align-items: center;background-color: white;padding-right: 0.2em;padding-left: 0.2em;position: relative;}#sk-container-id-2 div.sk-item {position: relative;z-index: 1;}#sk-container-id-2 div.sk-parallel {display: flex;align-items: stretch;justify-content: center;background-color: white;position: relative;}#sk-container-id-2 div.sk-item::before, #sk-container-id-2 div.sk-parallel-item::before {content: \"\";position: absolute;border-left: 1px solid gray;box-sizing: border-box;top: 0;bottom: 0;left: 50%;z-index: -1;}#sk-container-id-2 div.sk-parallel-item {display: flex;flex-direction: column;z-index: 1;position: relative;background-color: white;}#sk-container-id-2 div.sk-parallel-item:first-child::after {align-self: flex-end;width: 50%;}#sk-container-id-2 div.sk-parallel-item:last-child::after {align-self: flex-start;width: 50%;}#sk-container-id-2 div.sk-parallel-item:only-child::after {width: 0;}#sk-container-id-2 div.sk-dashed-wrapped {border: 1px dashed gray;margin: 0 0.4em 0.5em 0.4em;box-sizing: border-box;padding-bottom: 0.4em;background-color: white;}#sk-container-id-2 div.sk-label label {font-family: monospace;font-weight: bold;display: inline-block;line-height: 1.2em;}#sk-container-id-2 div.sk-label-container {text-align: center;}#sk-container-id-2 div.sk-container {/* jupyter's `normalize.less` sets `[hidden] { display: none; }` but bootstrap.min.css set `[hidden] { display: none !important; }` so we also need the `!important` here to be able to override the default hidden behavior on the sphinx rendered scikit-learn.org. See: https://github.com/scikit-learn/scikit-learn/issues/21755 */display: inline-block !important;position: relative;}#sk-container-id-2 div.sk-text-repr-fallback {display: none;}</style><div id=\"sk-container-id-2\" class=\"sk-top-container\"><div class=\"sk-text-repr-fallback\"><pre>DecisionTreeClassifier()</pre><b>In a Jupyter environment, please rerun this cell to show the HTML representation or trust the notebook. <br />On GitHub, the HTML representation is unable to render, please try loading this page with nbviewer.org.</b></div><div class=\"sk-container\" hidden><div class=\"sk-item\"><div class=\"sk-estimator sk-toggleable\"><input class=\"sk-toggleable__control sk-hidden--visually\" id=\"sk-estimator-id-2\" type=\"checkbox\" checked><label for=\"sk-estimator-id-2\" class=\"sk-toggleable__label sk-toggleable__label-arrow\">DecisionTreeClassifier</label><div class=\"sk-toggleable__content\"><pre>DecisionTreeClassifier()</pre></div></div></div></div></div>"
      ],
      "text/plain": [
       "DecisionTreeClassifier()"
      ]
     },
     "execution_count": 67,
     "metadata": {},
     "output_type": "execute_result"
    }
   ],
   "source": [
    "dt.fit(d_x_train,d_y_train)"
   ]
  },
  {
   "cell_type": "code",
   "execution_count": 68,
   "id": "c4269a75-354b-4ae0-abd3-573e469dcd5b",
   "metadata": {},
   "outputs": [],
   "source": [
    "d_p=dt.predict(d_x_test)"
   ]
  },
  {
   "cell_type": "code",
   "execution_count": 69,
   "id": "3728ed1e-b174-41ed-aaa8-382935dd805d",
   "metadata": {},
   "outputs": [
    {
     "data": {
      "text/plain": [
       "array([[19044,   112],\n",
       "       [   93,   751]], dtype=int64)"
      ]
     },
     "execution_count": 69,
     "metadata": {},
     "output_type": "execute_result"
    }
   ],
   "source": [
    "d_m=confusion_matrix(d_p,d_y_test)\n",
    "d_m"
   ]
  },
  {
   "cell_type": "code",
   "execution_count": 70,
   "id": "d8846061-5b76-43ce-ba1e-5e382ab3ec98",
   "metadata": {},
   "outputs": [],
   "source": [
    "TN,FP,FN,TP =d_m.ravel()"
   ]
  },
  {
   "cell_type": "code",
   "execution_count": 71,
   "id": "cf9fada3-2898-44d2-ace8-63ff7450cc9f",
   "metadata": {},
   "outputs": [
    {
     "data": {
      "text/plain": [
       "0.8702201622247973"
      ]
     },
     "execution_count": 71,
     "metadata": {},
     "output_type": "execute_result"
    }
   ],
   "source": [
    "dp= TP/ (TP + FP)\n",
    "dp"
   ]
  },
  {
   "cell_type": "code",
   "execution_count": 72,
   "id": "5d0d8d92-095b-478c-8286-2a46c9d600ab",
   "metadata": {},
   "outputs": [
    {
     "data": {
      "text/plain": [
       "0.8898104265402843"
      ]
     },
     "execution_count": 72,
     "metadata": {},
     "output_type": "execute_result"
    }
   ],
   "source": [
    "dr= TP / (TP + FN)\n",
    "dr"
   ]
  },
  {
   "cell_type": "code",
   "execution_count": 73,
   "id": "8a70d112-9e2a-4fb0-8d29-ce5e55bc352f",
   "metadata": {},
   "outputs": [
    {
     "data": {
      "text/plain": [
       "0.8799062683069713"
      ]
     },
     "execution_count": 73,
     "metadata": {},
     "output_type": "execute_result"
    }
   ],
   "source": [
    "df1= 2* (dp * dr) / (dp + dr)\n",
    "df1"
   ]
  },
  {
   "cell_type": "code",
   "execution_count": 74,
   "id": "9f1c6724-8e39-45f9-b7f2-09cda7486984",
   "metadata": {},
   "outputs": [
    {
     "data": {
      "text/plain": [
       "98.97500000000001"
      ]
     },
     "execution_count": 74,
     "metadata": {},
     "output_type": "execute_result"
    }
   ],
   "source": [
    "d_acc=d_m.diagonal().sum()/d_m.sum()*100\n",
    "d_acc"
   ]
  },
  {
   "cell_type": "code",
   "execution_count": 75,
   "id": "06cd3d48-302d-4a86-a23d-64f9dd0b7132",
   "metadata": {},
   "outputs": [
    {
     "name": "stdout",
     "output_type": "stream",
     "text": [
      "              precision    recall  f1-score   support\n",
      "\n",
      "           0       1.00      0.99      0.99     19156\n",
      "           1       0.87      0.89      0.88       844\n",
      "\n",
      "    accuracy                           0.99     20000\n",
      "   macro avg       0.93      0.94      0.94     20000\n",
      "weighted avg       0.99      0.99      0.99     20000\n",
      "\n"
     ]
    }
   ],
   "source": [
    "print(classification_report(d_p,d_y_test))"
   ]
  },
  {
   "cell_type": "markdown",
   "id": "77d8227f-7a33-455f-9bca-9a45333c7029",
   "metadata": {},
   "source": [
    "# RANDOM FOREST"
   ]
  },
  {
   "cell_type": "code",
   "execution_count": 76,
   "id": "7a7d0edb-b7f7-4945-a91d-ebef80d65994",
   "metadata": {},
   "outputs": [],
   "source": [
    "from sklearn.ensemble import RandomForestClassifier\n",
    "rf=RandomForestClassifier()"
   ]
  },
  {
   "cell_type": "code",
   "execution_count": 77,
   "id": "e04b678f-28a4-4431-b1ef-dff63495ae1a",
   "metadata": {},
   "outputs": [
    {
     "data": {
      "text/html": [
       "<style>#sk-container-id-3 {color: black;background-color: white;}#sk-container-id-3 pre{padding: 0;}#sk-container-id-3 div.sk-toggleable {background-color: white;}#sk-container-id-3 label.sk-toggleable__label {cursor: pointer;display: block;width: 100%;margin-bottom: 0;padding: 0.3em;box-sizing: border-box;text-align: center;}#sk-container-id-3 label.sk-toggleable__label-arrow:before {content: \"▸\";float: left;margin-right: 0.25em;color: #696969;}#sk-container-id-3 label.sk-toggleable__label-arrow:hover:before {color: black;}#sk-container-id-3 div.sk-estimator:hover label.sk-toggleable__label-arrow:before {color: black;}#sk-container-id-3 div.sk-toggleable__content {max-height: 0;max-width: 0;overflow: hidden;text-align: left;background-color: #f0f8ff;}#sk-container-id-3 div.sk-toggleable__content pre {margin: 0.2em;color: black;border-radius: 0.25em;background-color: #f0f8ff;}#sk-container-id-3 input.sk-toggleable__control:checked~div.sk-toggleable__content {max-height: 200px;max-width: 100%;overflow: auto;}#sk-container-id-3 input.sk-toggleable__control:checked~label.sk-toggleable__label-arrow:before {content: \"▾\";}#sk-container-id-3 div.sk-estimator input.sk-toggleable__control:checked~label.sk-toggleable__label {background-color: #d4ebff;}#sk-container-id-3 div.sk-label input.sk-toggleable__control:checked~label.sk-toggleable__label {background-color: #d4ebff;}#sk-container-id-3 input.sk-hidden--visually {border: 0;clip: rect(1px 1px 1px 1px);clip: rect(1px, 1px, 1px, 1px);height: 1px;margin: -1px;overflow: hidden;padding: 0;position: absolute;width: 1px;}#sk-container-id-3 div.sk-estimator {font-family: monospace;background-color: #f0f8ff;border: 1px dotted black;border-radius: 0.25em;box-sizing: border-box;margin-bottom: 0.5em;}#sk-container-id-3 div.sk-estimator:hover {background-color: #d4ebff;}#sk-container-id-3 div.sk-parallel-item::after {content: \"\";width: 100%;border-bottom: 1px solid gray;flex-grow: 1;}#sk-container-id-3 div.sk-label:hover label.sk-toggleable__label {background-color: #d4ebff;}#sk-container-id-3 div.sk-serial::before {content: \"\";position: absolute;border-left: 1px solid gray;box-sizing: border-box;top: 0;bottom: 0;left: 50%;z-index: 0;}#sk-container-id-3 div.sk-serial {display: flex;flex-direction: column;align-items: center;background-color: white;padding-right: 0.2em;padding-left: 0.2em;position: relative;}#sk-container-id-3 div.sk-item {position: relative;z-index: 1;}#sk-container-id-3 div.sk-parallel {display: flex;align-items: stretch;justify-content: center;background-color: white;position: relative;}#sk-container-id-3 div.sk-item::before, #sk-container-id-3 div.sk-parallel-item::before {content: \"\";position: absolute;border-left: 1px solid gray;box-sizing: border-box;top: 0;bottom: 0;left: 50%;z-index: -1;}#sk-container-id-3 div.sk-parallel-item {display: flex;flex-direction: column;z-index: 1;position: relative;background-color: white;}#sk-container-id-3 div.sk-parallel-item:first-child::after {align-self: flex-end;width: 50%;}#sk-container-id-3 div.sk-parallel-item:last-child::after {align-self: flex-start;width: 50%;}#sk-container-id-3 div.sk-parallel-item:only-child::after {width: 0;}#sk-container-id-3 div.sk-dashed-wrapped {border: 1px dashed gray;margin: 0 0.4em 0.5em 0.4em;box-sizing: border-box;padding-bottom: 0.4em;background-color: white;}#sk-container-id-3 div.sk-label label {font-family: monospace;font-weight: bold;display: inline-block;line-height: 1.2em;}#sk-container-id-3 div.sk-label-container {text-align: center;}#sk-container-id-3 div.sk-container {/* jupyter's `normalize.less` sets `[hidden] { display: none; }` but bootstrap.min.css set `[hidden] { display: none !important; }` so we also need the `!important` here to be able to override the default hidden behavior on the sphinx rendered scikit-learn.org. See: https://github.com/scikit-learn/scikit-learn/issues/21755 */display: inline-block !important;position: relative;}#sk-container-id-3 div.sk-text-repr-fallback {display: none;}</style><div id=\"sk-container-id-3\" class=\"sk-top-container\"><div class=\"sk-text-repr-fallback\"><pre>RandomForestClassifier()</pre><b>In a Jupyter environment, please rerun this cell to show the HTML representation or trust the notebook. <br />On GitHub, the HTML representation is unable to render, please try loading this page with nbviewer.org.</b></div><div class=\"sk-container\" hidden><div class=\"sk-item\"><div class=\"sk-estimator sk-toggleable\"><input class=\"sk-toggleable__control sk-hidden--visually\" id=\"sk-estimator-id-3\" type=\"checkbox\" checked><label for=\"sk-estimator-id-3\" class=\"sk-toggleable__label sk-toggleable__label-arrow\">RandomForestClassifier</label><div class=\"sk-toggleable__content\"><pre>RandomForestClassifier()</pre></div></div></div></div></div>"
      ],
      "text/plain": [
       "RandomForestClassifier()"
      ]
     },
     "execution_count": 77,
     "metadata": {},
     "output_type": "execute_result"
    }
   ],
   "source": [
    "rf.fit(d_x_train,d_y_train)"
   ]
  },
  {
   "cell_type": "code",
   "execution_count": 78,
   "id": "7b47af68-a5d4-4fef-85e7-410c29216687",
   "metadata": {},
   "outputs": [],
   "source": [
    "rp1=rf.predict(d_x_test)"
   ]
  },
  {
   "cell_type": "code",
   "execution_count": 79,
   "id": "b7eab682-e4c0-41a3-be49-8948aa55dc7d",
   "metadata": {},
   "outputs": [
    {
     "data": {
      "text/plain": [
       "array([[19079,   160],\n",
       "       [   58,   703]], dtype=int64)"
      ]
     },
     "execution_count": 79,
     "metadata": {},
     "output_type": "execute_result"
    }
   ],
   "source": [
    "r_m=confusion_matrix(rp1,d_y_test)\n",
    "r_m"
   ]
  },
  {
   "cell_type": "code",
   "execution_count": 80,
   "id": "f073897c-92bd-4ead-847a-73d713e9eebd",
   "metadata": {},
   "outputs": [],
   "source": [
    "TN,FP,FN,TP =r_m.ravel()"
   ]
  },
  {
   "cell_type": "code",
   "execution_count": 81,
   "id": "9a9e467e-6138-4ea5-bab8-5e78df41b714",
   "metadata": {},
   "outputs": [
    {
     "data": {
      "text/plain": [
       "0.8146002317497103"
      ]
     },
     "execution_count": 81,
     "metadata": {},
     "output_type": "execute_result"
    }
   ],
   "source": [
    "rp= TP/ (TP + FP)\n",
    "rp"
   ]
  },
  {
   "cell_type": "code",
   "execution_count": 82,
   "id": "9ba2bcf9-2304-4bc9-972a-f5f7c77ded18",
   "metadata": {},
   "outputs": [
    {
     "data": {
      "text/plain": [
       "0.923784494086728"
      ]
     },
     "execution_count": 82,
     "metadata": {},
     "output_type": "execute_result"
    }
   ],
   "source": [
    "rr= TP / (TP + FN)\n",
    "rr"
   ]
  },
  {
   "cell_type": "code",
   "execution_count": 83,
   "id": "3eb282de-a16c-40ac-b973-fc686ca53877",
   "metadata": {},
   "outputs": [
    {
     "data": {
      "text/plain": [
       "0.8657635467980295"
      ]
     },
     "execution_count": 83,
     "metadata": {},
     "output_type": "execute_result"
    }
   ],
   "source": [
    "rf1= 2* (rp * rr) / (rp + rr)\n",
    "rf1"
   ]
  },
  {
   "cell_type": "code",
   "execution_count": 84,
   "id": "367296d2-f829-4dfa-85e1-c803c491d435",
   "metadata": {},
   "outputs": [
    {
     "data": {
      "text/plain": [
       "98.91"
      ]
     },
     "execution_count": 84,
     "metadata": {},
     "output_type": "execute_result"
    }
   ],
   "source": [
    "r_acc=r_m.diagonal().sum()/r_m.sum()*100\n",
    "r_acc"
   ]
  },
  {
   "cell_type": "code",
   "execution_count": 85,
   "id": "37bdef8a-6270-4777-8d0c-38e908dac1f4",
   "metadata": {},
   "outputs": [
    {
     "name": "stdout",
     "output_type": "stream",
     "text": [
      "              precision    recall  f1-score   support\n",
      "\n",
      "           0       1.00      0.99      0.99     19239\n",
      "           1       0.81      0.92      0.87       761\n",
      "\n",
      "    accuracy                           0.99     20000\n",
      "   macro avg       0.91      0.96      0.93     20000\n",
      "weighted avg       0.99      0.99      0.99     20000\n",
      "\n"
     ]
    }
   ],
   "source": [
    "print(classification_report(rp1,d_y_test))"
   ]
  },
  {
   "cell_type": "markdown",
   "id": "6a5c9891-0361-44ac-9ea3-97b45a50a57f",
   "metadata": {},
   "source": [
    "# KNN"
   ]
  },
  {
   "cell_type": "code",
   "execution_count": 86,
   "id": "91fbb2c0-51df-4943-8970-fadaf653891b",
   "metadata": {},
   "outputs": [],
   "source": [
    "from sklearn.neighbors import KNeighborsClassifier\n",
    "knn=KNeighborsClassifier(n_neighbors=40)"
   ]
  },
  {
   "cell_type": "code",
   "execution_count": 87,
   "id": "178af087-dd7e-49e4-89e5-921c7b3da2a5",
   "metadata": {},
   "outputs": [
    {
     "data": {
      "text/html": [
       "<style>#sk-container-id-4 {color: black;background-color: white;}#sk-container-id-4 pre{padding: 0;}#sk-container-id-4 div.sk-toggleable {background-color: white;}#sk-container-id-4 label.sk-toggleable__label {cursor: pointer;display: block;width: 100%;margin-bottom: 0;padding: 0.3em;box-sizing: border-box;text-align: center;}#sk-container-id-4 label.sk-toggleable__label-arrow:before {content: \"▸\";float: left;margin-right: 0.25em;color: #696969;}#sk-container-id-4 label.sk-toggleable__label-arrow:hover:before {color: black;}#sk-container-id-4 div.sk-estimator:hover label.sk-toggleable__label-arrow:before {color: black;}#sk-container-id-4 div.sk-toggleable__content {max-height: 0;max-width: 0;overflow: hidden;text-align: left;background-color: #f0f8ff;}#sk-container-id-4 div.sk-toggleable__content pre {margin: 0.2em;color: black;border-radius: 0.25em;background-color: #f0f8ff;}#sk-container-id-4 input.sk-toggleable__control:checked~div.sk-toggleable__content {max-height: 200px;max-width: 100%;overflow: auto;}#sk-container-id-4 input.sk-toggleable__control:checked~label.sk-toggleable__label-arrow:before {content: \"▾\";}#sk-container-id-4 div.sk-estimator input.sk-toggleable__control:checked~label.sk-toggleable__label {background-color: #d4ebff;}#sk-container-id-4 div.sk-label input.sk-toggleable__control:checked~label.sk-toggleable__label {background-color: #d4ebff;}#sk-container-id-4 input.sk-hidden--visually {border: 0;clip: rect(1px 1px 1px 1px);clip: rect(1px, 1px, 1px, 1px);height: 1px;margin: -1px;overflow: hidden;padding: 0;position: absolute;width: 1px;}#sk-container-id-4 div.sk-estimator {font-family: monospace;background-color: #f0f8ff;border: 1px dotted black;border-radius: 0.25em;box-sizing: border-box;margin-bottom: 0.5em;}#sk-container-id-4 div.sk-estimator:hover {background-color: #d4ebff;}#sk-container-id-4 div.sk-parallel-item::after {content: \"\";width: 100%;border-bottom: 1px solid gray;flex-grow: 1;}#sk-container-id-4 div.sk-label:hover label.sk-toggleable__label {background-color: #d4ebff;}#sk-container-id-4 div.sk-serial::before {content: \"\";position: absolute;border-left: 1px solid gray;box-sizing: border-box;top: 0;bottom: 0;left: 50%;z-index: 0;}#sk-container-id-4 div.sk-serial {display: flex;flex-direction: column;align-items: center;background-color: white;padding-right: 0.2em;padding-left: 0.2em;position: relative;}#sk-container-id-4 div.sk-item {position: relative;z-index: 1;}#sk-container-id-4 div.sk-parallel {display: flex;align-items: stretch;justify-content: center;background-color: white;position: relative;}#sk-container-id-4 div.sk-item::before, #sk-container-id-4 div.sk-parallel-item::before {content: \"\";position: absolute;border-left: 1px solid gray;box-sizing: border-box;top: 0;bottom: 0;left: 50%;z-index: -1;}#sk-container-id-4 div.sk-parallel-item {display: flex;flex-direction: column;z-index: 1;position: relative;background-color: white;}#sk-container-id-4 div.sk-parallel-item:first-child::after {align-self: flex-end;width: 50%;}#sk-container-id-4 div.sk-parallel-item:last-child::after {align-self: flex-start;width: 50%;}#sk-container-id-4 div.sk-parallel-item:only-child::after {width: 0;}#sk-container-id-4 div.sk-dashed-wrapped {border: 1px dashed gray;margin: 0 0.4em 0.5em 0.4em;box-sizing: border-box;padding-bottom: 0.4em;background-color: white;}#sk-container-id-4 div.sk-label label {font-family: monospace;font-weight: bold;display: inline-block;line-height: 1.2em;}#sk-container-id-4 div.sk-label-container {text-align: center;}#sk-container-id-4 div.sk-container {/* jupyter's `normalize.less` sets `[hidden] { display: none; }` but bootstrap.min.css set `[hidden] { display: none !important; }` so we also need the `!important` here to be able to override the default hidden behavior on the sphinx rendered scikit-learn.org. See: https://github.com/scikit-learn/scikit-learn/issues/21755 */display: inline-block !important;position: relative;}#sk-container-id-4 div.sk-text-repr-fallback {display: none;}</style><div id=\"sk-container-id-4\" class=\"sk-top-container\"><div class=\"sk-text-repr-fallback\"><pre>KNeighborsClassifier(n_neighbors=40)</pre><b>In a Jupyter environment, please rerun this cell to show the HTML representation or trust the notebook. <br />On GitHub, the HTML representation is unable to render, please try loading this page with nbviewer.org.</b></div><div class=\"sk-container\" hidden><div class=\"sk-item\"><div class=\"sk-estimator sk-toggleable\"><input class=\"sk-toggleable__control sk-hidden--visually\" id=\"sk-estimator-id-4\" type=\"checkbox\" checked><label for=\"sk-estimator-id-4\" class=\"sk-toggleable__label sk-toggleable__label-arrow\">KNeighborsClassifier</label><div class=\"sk-toggleable__content\"><pre>KNeighborsClassifier(n_neighbors=40)</pre></div></div></div></div></div>"
      ],
      "text/plain": [
       "KNeighborsClassifier(n_neighbors=40)"
      ]
     },
     "execution_count": 87,
     "metadata": {},
     "output_type": "execute_result"
    }
   ],
   "source": [
    "knn.fit(d_x_train,d_y_train)"
   ]
  },
  {
   "cell_type": "code",
   "execution_count": 88,
   "id": "9a7d47bd-58cb-4081-8939-068e9ed0da9f",
   "metadata": {},
   "outputs": [],
   "source": [
    "kp1=knn.predict(d_x_test)"
   ]
  },
  {
   "cell_type": "code",
   "execution_count": 89,
   "id": "8207eaef-e7eb-49f5-a347-df9f6f352520",
   "metadata": {},
   "outputs": [
    {
     "data": {
      "text/plain": [
       "array([[19137,   863],\n",
       "       [    0,     0]], dtype=int64)"
      ]
     },
     "execution_count": 89,
     "metadata": {},
     "output_type": "execute_result"
    }
   ],
   "source": [
    "k_c=confusion_matrix(kp1,d_y_test)\n",
    "k_c"
   ]
  },
  {
   "cell_type": "code",
   "execution_count": 90,
   "id": "edbe5fdb-da0b-41cc-a528-e30d68d65e1f",
   "metadata": {},
   "outputs": [],
   "source": [
    "TN,FP,FN,TP =k_c.ravel()"
   ]
  },
  {
   "cell_type": "code",
   "execution_count": 91,
   "id": "2e45f8fc-ff56-453c-bb8d-ac8af21ceb9a",
   "metadata": {},
   "outputs": [
    {
     "data": {
      "text/plain": [
       "0.0"
      ]
     },
     "execution_count": 91,
     "metadata": {},
     "output_type": "execute_result"
    }
   ],
   "source": [
    "kp= TP/ (TP + FP)\n",
    "kp"
   ]
  },
  {
   "cell_type": "code",
   "execution_count": 92,
   "id": "2cfc2555-3ab8-4913-8858-fa51f1026c1a",
   "metadata": {},
   "outputs": [],
   "source": [
    "#kr= TP / (TP + FN)\n",
    "kr=0"
   ]
  },
  {
   "cell_type": "code",
   "execution_count": 93,
   "id": "759be55b-a88c-453a-8f36-419c57f27b06",
   "metadata": {},
   "outputs": [],
   "source": [
    "#kf1= 2* (kp * kr) / (kp + kr)\n",
    "kf1=0"
   ]
  },
  {
   "cell_type": "code",
   "execution_count": 94,
   "id": "c9df35b6-86b9-4567-b08d-05d367c8f9e9",
   "metadata": {},
   "outputs": [
    {
     "data": {
      "text/plain": [
       "95.685"
      ]
     },
     "execution_count": 94,
     "metadata": {},
     "output_type": "execute_result"
    }
   ],
   "source": [
    "k_acc=k_c.diagonal().sum()/k_c.sum()*100\n",
    "k_acc"
   ]
  },
  {
   "cell_type": "code",
   "execution_count": 95,
   "id": "504230d6-9aab-40b5-9a4d-6f40057d87f0",
   "metadata": {},
   "outputs": [
    {
     "name": "stdout",
     "output_type": "stream",
     "text": [
      "              precision    recall  f1-score   support\n",
      "\n",
      "           0       1.00      0.96      0.98     20000\n",
      "           1       0.00      0.00      0.00         0\n",
      "\n",
      "    accuracy                           0.96     20000\n",
      "   macro avg       0.50      0.48      0.49     20000\n",
      "weighted avg       1.00      0.96      0.98     20000\n",
      "\n"
     ]
    }
   ],
   "source": [
    "print(classification_report(kp1,d_y_test))"
   ]
  },
  {
   "cell_type": "markdown",
   "id": "78b35e8a-8a68-4c5e-af13-6d0bec21b6f5",
   "metadata": {},
   "source": [
    "# SVM"
   ]
  },
  {
   "cell_type": "code",
   "execution_count": 96,
   "id": "68cf95c3-fdbe-4af9-b5f7-5c43977b30a7",
   "metadata": {},
   "outputs": [],
   "source": [
    "from sklearn.svm import SVC\n",
    "svc=SVC()"
   ]
  },
  {
   "cell_type": "code",
   "execution_count": 97,
   "id": "b3f19544-276b-41d6-9a97-126e7cff80e2",
   "metadata": {},
   "outputs": [
    {
     "data": {
      "text/html": [
       "<style>#sk-container-id-5 {color: black;background-color: white;}#sk-container-id-5 pre{padding: 0;}#sk-container-id-5 div.sk-toggleable {background-color: white;}#sk-container-id-5 label.sk-toggleable__label {cursor: pointer;display: block;width: 100%;margin-bottom: 0;padding: 0.3em;box-sizing: border-box;text-align: center;}#sk-container-id-5 label.sk-toggleable__label-arrow:before {content: \"▸\";float: left;margin-right: 0.25em;color: #696969;}#sk-container-id-5 label.sk-toggleable__label-arrow:hover:before {color: black;}#sk-container-id-5 div.sk-estimator:hover label.sk-toggleable__label-arrow:before {color: black;}#sk-container-id-5 div.sk-toggleable__content {max-height: 0;max-width: 0;overflow: hidden;text-align: left;background-color: #f0f8ff;}#sk-container-id-5 div.sk-toggleable__content pre {margin: 0.2em;color: black;border-radius: 0.25em;background-color: #f0f8ff;}#sk-container-id-5 input.sk-toggleable__control:checked~div.sk-toggleable__content {max-height: 200px;max-width: 100%;overflow: auto;}#sk-container-id-5 input.sk-toggleable__control:checked~label.sk-toggleable__label-arrow:before {content: \"▾\";}#sk-container-id-5 div.sk-estimator input.sk-toggleable__control:checked~label.sk-toggleable__label {background-color: #d4ebff;}#sk-container-id-5 div.sk-label input.sk-toggleable__control:checked~label.sk-toggleable__label {background-color: #d4ebff;}#sk-container-id-5 input.sk-hidden--visually {border: 0;clip: rect(1px 1px 1px 1px);clip: rect(1px, 1px, 1px, 1px);height: 1px;margin: -1px;overflow: hidden;padding: 0;position: absolute;width: 1px;}#sk-container-id-5 div.sk-estimator {font-family: monospace;background-color: #f0f8ff;border: 1px dotted black;border-radius: 0.25em;box-sizing: border-box;margin-bottom: 0.5em;}#sk-container-id-5 div.sk-estimator:hover {background-color: #d4ebff;}#sk-container-id-5 div.sk-parallel-item::after {content: \"\";width: 100%;border-bottom: 1px solid gray;flex-grow: 1;}#sk-container-id-5 div.sk-label:hover label.sk-toggleable__label {background-color: #d4ebff;}#sk-container-id-5 div.sk-serial::before {content: \"\";position: absolute;border-left: 1px solid gray;box-sizing: border-box;top: 0;bottom: 0;left: 50%;z-index: 0;}#sk-container-id-5 div.sk-serial {display: flex;flex-direction: column;align-items: center;background-color: white;padding-right: 0.2em;padding-left: 0.2em;position: relative;}#sk-container-id-5 div.sk-item {position: relative;z-index: 1;}#sk-container-id-5 div.sk-parallel {display: flex;align-items: stretch;justify-content: center;background-color: white;position: relative;}#sk-container-id-5 div.sk-item::before, #sk-container-id-5 div.sk-parallel-item::before {content: \"\";position: absolute;border-left: 1px solid gray;box-sizing: border-box;top: 0;bottom: 0;left: 50%;z-index: -1;}#sk-container-id-5 div.sk-parallel-item {display: flex;flex-direction: column;z-index: 1;position: relative;background-color: white;}#sk-container-id-5 div.sk-parallel-item:first-child::after {align-self: flex-end;width: 50%;}#sk-container-id-5 div.sk-parallel-item:last-child::after {align-self: flex-start;width: 50%;}#sk-container-id-5 div.sk-parallel-item:only-child::after {width: 0;}#sk-container-id-5 div.sk-dashed-wrapped {border: 1px dashed gray;margin: 0 0.4em 0.5em 0.4em;box-sizing: border-box;padding-bottom: 0.4em;background-color: white;}#sk-container-id-5 div.sk-label label {font-family: monospace;font-weight: bold;display: inline-block;line-height: 1.2em;}#sk-container-id-5 div.sk-label-container {text-align: center;}#sk-container-id-5 div.sk-container {/* jupyter's `normalize.less` sets `[hidden] { display: none; }` but bootstrap.min.css set `[hidden] { display: none !important; }` so we also need the `!important` here to be able to override the default hidden behavior on the sphinx rendered scikit-learn.org. See: https://github.com/scikit-learn/scikit-learn/issues/21755 */display: inline-block !important;position: relative;}#sk-container-id-5 div.sk-text-repr-fallback {display: none;}</style><div id=\"sk-container-id-5\" class=\"sk-top-container\"><div class=\"sk-text-repr-fallback\"><pre>SVC()</pre><b>In a Jupyter environment, please rerun this cell to show the HTML representation or trust the notebook. <br />On GitHub, the HTML representation is unable to render, please try loading this page with nbviewer.org.</b></div><div class=\"sk-container\" hidden><div class=\"sk-item\"><div class=\"sk-estimator sk-toggleable\"><input class=\"sk-toggleable__control sk-hidden--visually\" id=\"sk-estimator-id-5\" type=\"checkbox\" checked><label for=\"sk-estimator-id-5\" class=\"sk-toggleable__label sk-toggleable__label-arrow\">SVC</label><div class=\"sk-toggleable__content\"><pre>SVC()</pre></div></div></div></div></div>"
      ],
      "text/plain": [
       "SVC()"
      ]
     },
     "execution_count": 97,
     "metadata": {},
     "output_type": "execute_result"
    }
   ],
   "source": [
    "svc.fit(d_x_train,d_y_train)"
   ]
  },
  {
   "cell_type": "code",
   "execution_count": 98,
   "id": "312983ed-b237-44b7-99d2-b74830d2c4ae",
   "metadata": {},
   "outputs": [],
   "source": [
    "sp1=svc.predict(d_x_test)"
   ]
  },
  {
   "cell_type": "code",
   "execution_count": 99,
   "id": "b5337a83-f49c-432f-ae70-7b373e3d9043",
   "metadata": {},
   "outputs": [
    {
     "data": {
      "text/plain": [
       "array([[19137,   863],\n",
       "       [    0,     0]], dtype=int64)"
      ]
     },
     "execution_count": 99,
     "metadata": {},
     "output_type": "execute_result"
    }
   ],
   "source": [
    "sm=confusion_matrix(sp1,d_y_test)\n",
    "sm"
   ]
  },
  {
   "cell_type": "code",
   "execution_count": 100,
   "id": "9ae70f87-6669-4358-af32-eec474aa0602",
   "metadata": {},
   "outputs": [],
   "source": [
    "TN,FP,FN,TP =sm.ravel()"
   ]
  },
  {
   "cell_type": "code",
   "execution_count": 101,
   "id": "638caef6-3ec3-42eb-bf55-7413a8da09f9",
   "metadata": {},
   "outputs": [],
   "source": [
    "#sp= TP/ (TP + FP)\n",
    "sp=0"
   ]
  },
  {
   "cell_type": "code",
   "execution_count": 102,
   "id": "18ee2e4c-e8a2-46fe-9a91-551e821f3678",
   "metadata": {},
   "outputs": [],
   "source": [
    "#sr= TP / (TP + FN)\n",
    "sr=0"
   ]
  },
  {
   "cell_type": "code",
   "execution_count": 103,
   "id": "e603c739-3e7a-4b3a-92b0-3bf68be58050",
   "metadata": {},
   "outputs": [],
   "source": [
    "#sf1= 2* (sp * sr) / (sp + sr)\n",
    "sf1=0"
   ]
  },
  {
   "cell_type": "code",
   "execution_count": 104,
   "id": "ea336a57-fca7-4a6a-be1d-515f9f5a549c",
   "metadata": {},
   "outputs": [
    {
     "data": {
      "text/plain": [
       "95.685"
      ]
     },
     "execution_count": 104,
     "metadata": {},
     "output_type": "execute_result"
    }
   ],
   "source": [
    "s_acc=sm.diagonal().sum()/sm.sum()*100\n",
    "s_acc"
   ]
  },
  {
   "cell_type": "code",
   "execution_count": 105,
   "id": "8c7ee252-1337-4c48-81d6-22ed49f7eef7",
   "metadata": {},
   "outputs": [
    {
     "name": "stdout",
     "output_type": "stream",
     "text": [
      "              precision    recall  f1-score   support\n",
      "\n",
      "           0       1.00      0.96      0.98     20000\n",
      "           1       0.00      0.00      0.00         0\n",
      "\n",
      "    accuracy                           0.96     20000\n",
      "   macro avg       0.50      0.48      0.49     20000\n",
      "weighted avg       1.00      0.96      0.98     20000\n",
      "\n"
     ]
    }
   ],
   "source": [
    "print(classification_report(sp1,d_y_test))"
   ]
  },
  {
   "cell_type": "markdown",
   "id": "c2cdf854-4b4c-47cf-84ba-86ea34d201ff",
   "metadata": {},
   "source": [
    "# NAIVE BAYES"
   ]
  },
  {
   "cell_type": "code",
   "execution_count": 106,
   "id": "18f9f157-8a3b-48a1-bfb6-cfa384f31417",
   "metadata": {},
   "outputs": [],
   "source": [
    "from sklearn.naive_bayes import MultinomialNB\n",
    "nb=MultinomialNB()"
   ]
  },
  {
   "cell_type": "code",
   "execution_count": 107,
   "id": "4bb7e8c0-03b4-4d8b-9b5b-65eda4e2ba2f",
   "metadata": {},
   "outputs": [
    {
     "data": {
      "text/html": [
       "<style>#sk-container-id-6 {color: black;background-color: white;}#sk-container-id-6 pre{padding: 0;}#sk-container-id-6 div.sk-toggleable {background-color: white;}#sk-container-id-6 label.sk-toggleable__label {cursor: pointer;display: block;width: 100%;margin-bottom: 0;padding: 0.3em;box-sizing: border-box;text-align: center;}#sk-container-id-6 label.sk-toggleable__label-arrow:before {content: \"▸\";float: left;margin-right: 0.25em;color: #696969;}#sk-container-id-6 label.sk-toggleable__label-arrow:hover:before {color: black;}#sk-container-id-6 div.sk-estimator:hover label.sk-toggleable__label-arrow:before {color: black;}#sk-container-id-6 div.sk-toggleable__content {max-height: 0;max-width: 0;overflow: hidden;text-align: left;background-color: #f0f8ff;}#sk-container-id-6 div.sk-toggleable__content pre {margin: 0.2em;color: black;border-radius: 0.25em;background-color: #f0f8ff;}#sk-container-id-6 input.sk-toggleable__control:checked~div.sk-toggleable__content {max-height: 200px;max-width: 100%;overflow: auto;}#sk-container-id-6 input.sk-toggleable__control:checked~label.sk-toggleable__label-arrow:before {content: \"▾\";}#sk-container-id-6 div.sk-estimator input.sk-toggleable__control:checked~label.sk-toggleable__label {background-color: #d4ebff;}#sk-container-id-6 div.sk-label input.sk-toggleable__control:checked~label.sk-toggleable__label {background-color: #d4ebff;}#sk-container-id-6 input.sk-hidden--visually {border: 0;clip: rect(1px 1px 1px 1px);clip: rect(1px, 1px, 1px, 1px);height: 1px;margin: -1px;overflow: hidden;padding: 0;position: absolute;width: 1px;}#sk-container-id-6 div.sk-estimator {font-family: monospace;background-color: #f0f8ff;border: 1px dotted black;border-radius: 0.25em;box-sizing: border-box;margin-bottom: 0.5em;}#sk-container-id-6 div.sk-estimator:hover {background-color: #d4ebff;}#sk-container-id-6 div.sk-parallel-item::after {content: \"\";width: 100%;border-bottom: 1px solid gray;flex-grow: 1;}#sk-container-id-6 div.sk-label:hover label.sk-toggleable__label {background-color: #d4ebff;}#sk-container-id-6 div.sk-serial::before {content: \"\";position: absolute;border-left: 1px solid gray;box-sizing: border-box;top: 0;bottom: 0;left: 50%;z-index: 0;}#sk-container-id-6 div.sk-serial {display: flex;flex-direction: column;align-items: center;background-color: white;padding-right: 0.2em;padding-left: 0.2em;position: relative;}#sk-container-id-6 div.sk-item {position: relative;z-index: 1;}#sk-container-id-6 div.sk-parallel {display: flex;align-items: stretch;justify-content: center;background-color: white;position: relative;}#sk-container-id-6 div.sk-item::before, #sk-container-id-6 div.sk-parallel-item::before {content: \"\";position: absolute;border-left: 1px solid gray;box-sizing: border-box;top: 0;bottom: 0;left: 50%;z-index: -1;}#sk-container-id-6 div.sk-parallel-item {display: flex;flex-direction: column;z-index: 1;position: relative;background-color: white;}#sk-container-id-6 div.sk-parallel-item:first-child::after {align-self: flex-end;width: 50%;}#sk-container-id-6 div.sk-parallel-item:last-child::after {align-self: flex-start;width: 50%;}#sk-container-id-6 div.sk-parallel-item:only-child::after {width: 0;}#sk-container-id-6 div.sk-dashed-wrapped {border: 1px dashed gray;margin: 0 0.4em 0.5em 0.4em;box-sizing: border-box;padding-bottom: 0.4em;background-color: white;}#sk-container-id-6 div.sk-label label {font-family: monospace;font-weight: bold;display: inline-block;line-height: 1.2em;}#sk-container-id-6 div.sk-label-container {text-align: center;}#sk-container-id-6 div.sk-container {/* jupyter's `normalize.less` sets `[hidden] { display: none; }` but bootstrap.min.css set `[hidden] { display: none !important; }` so we also need the `!important` here to be able to override the default hidden behavior on the sphinx rendered scikit-learn.org. See: https://github.com/scikit-learn/scikit-learn/issues/21755 */display: inline-block !important;position: relative;}#sk-container-id-6 div.sk-text-repr-fallback {display: none;}</style><div id=\"sk-container-id-6\" class=\"sk-top-container\"><div class=\"sk-text-repr-fallback\"><pre>MultinomialNB()</pre><b>In a Jupyter environment, please rerun this cell to show the HTML representation or trust the notebook. <br />On GitHub, the HTML representation is unable to render, please try loading this page with nbviewer.org.</b></div><div class=\"sk-container\" hidden><div class=\"sk-item\"><div class=\"sk-estimator sk-toggleable\"><input class=\"sk-toggleable__control sk-hidden--visually\" id=\"sk-estimator-id-6\" type=\"checkbox\" checked><label for=\"sk-estimator-id-6\" class=\"sk-toggleable__label sk-toggleable__label-arrow\">MultinomialNB</label><div class=\"sk-toggleable__content\"><pre>MultinomialNB()</pre></div></div></div></div></div>"
      ],
      "text/plain": [
       "MultinomialNB()"
      ]
     },
     "execution_count": 107,
     "metadata": {},
     "output_type": "execute_result"
    }
   ],
   "source": [
    "nb.fit(d_x_train,d_y_train)"
   ]
  },
  {
   "cell_type": "code",
   "execution_count": 108,
   "id": "61a6629f-762b-41e3-a25b-e966eb2a595a",
   "metadata": {},
   "outputs": [],
   "source": [
    "np1=nb.predict(d_x_test)"
   ]
  },
  {
   "cell_type": "code",
   "execution_count": 109,
   "id": "05831757-65d3-48af-809a-ca0a5a76f533",
   "metadata": {},
   "outputs": [
    {
     "data": {
      "text/plain": [
       "array([[19137,   863],\n",
       "       [    0,     0]], dtype=int64)"
      ]
     },
     "execution_count": 109,
     "metadata": {},
     "output_type": "execute_result"
    }
   ],
   "source": [
    "n_m=confusion_matrix(np1,d_y_test)\n",
    "n_m"
   ]
  },
  {
   "cell_type": "code",
   "execution_count": 110,
   "id": "0b105ac1-b4aa-49bc-8054-786eb28bb590",
   "metadata": {},
   "outputs": [],
   "source": [
    "TN,FP,FN,TP =n_m.ravel()"
   ]
  },
  {
   "cell_type": "code",
   "execution_count": 111,
   "id": "eb918b18-f9f5-42ed-8d03-920342daa718",
   "metadata": {},
   "outputs": [],
   "source": [
    "#np= TP/ (TP + FP)\n",
    "np=0"
   ]
  },
  {
   "cell_type": "code",
   "execution_count": 112,
   "id": "d3a69316-14ad-4edc-87b9-d08ac4946c10",
   "metadata": {},
   "outputs": [],
   "source": [
    "#nr= TP / (TP + FN)\n",
    "nr=0"
   ]
  },
  {
   "cell_type": "code",
   "execution_count": 113,
   "id": "d995da6a-6972-4943-b5a3-795afd6a09df",
   "metadata": {},
   "outputs": [],
   "source": [
    "#nf1= 2* (np * nr) / (np + nr)\n",
    "nf1=0"
   ]
  },
  {
   "cell_type": "code",
   "execution_count": 114,
   "id": "2c5e07fd-fc99-456f-9cc0-f2a4011e777b",
   "metadata": {},
   "outputs": [
    {
     "data": {
      "text/plain": [
       "95.685"
      ]
     },
     "execution_count": 114,
     "metadata": {},
     "output_type": "execute_result"
    }
   ],
   "source": [
    "n_acc=n_m.diagonal().sum()/n_m.sum()*100\n",
    "n_acc"
   ]
  },
  {
   "cell_type": "code",
   "execution_count": 115,
   "id": "07f6bcb9-e96a-4de8-a6de-36fc6bfaaf3b",
   "metadata": {},
   "outputs": [
    {
     "name": "stdout",
     "output_type": "stream",
     "text": [
      "              precision    recall  f1-score   support\n",
      "\n",
      "           0       1.00      0.96      0.98     20000\n",
      "           1       0.00      0.00      0.00         0\n",
      "\n",
      "    accuracy                           0.96     20000\n",
      "   macro avg       0.50      0.48      0.49     20000\n",
      "weighted avg       1.00      0.96      0.98     20000\n",
      "\n"
     ]
    }
   ],
   "source": [
    "print(classification_report(np1,d_y_test))"
   ]
  },
  {
   "cell_type": "markdown",
   "id": "437c8a9a-2097-4bce-9939-14ae92c7243a",
   "metadata": {},
   "source": [
    "# REPORT"
   ]
  },
  {
   "cell_type": "code",
   "execution_count": 116,
   "id": "f535c27a-2c5a-4720-8b68-7f5384e45929",
   "metadata": {},
   "outputs": [],
   "source": [
    "list1=[\"LOGISTIC REGRESSION\",\"DECISION TREE\",\"RANDOM FOREST\",\"KNN\",\"SVM\",\"NAIVE BAYES\"]\n",
    "list2=[ac1,d_acc,r_acc,k_acc,s_acc,n_acc]\n",
    "list3=[lp,dp,rp,kp,sp,np]\n",
    "list4=[lr,dr,rr,kr,sr,nr]\n",
    "list5=[lf1,df1,rf1,kf1,sf1,nf1]"
   ]
  },
  {
   "cell_type": "code",
   "execution_count": 117,
   "id": "8759d585-b669-4d6a-95ff-1f10b0a0a5c7",
   "metadata": {},
   "outputs": [
    {
     "data": {
      "text/html": [
       "<div>\n",
       "<style scoped>\n",
       "    .dataframe tbody tr th:only-of-type {\n",
       "        vertical-align: middle;\n",
       "    }\n",
       "\n",
       "    .dataframe tbody tr th {\n",
       "        vertical-align: top;\n",
       "    }\n",
       "\n",
       "    .dataframe thead th {\n",
       "        text-align: right;\n",
       "    }\n",
       "</style>\n",
       "<table border=\"1\" class=\"dataframe\">\n",
       "  <thead>\n",
       "    <tr style=\"text-align: right;\">\n",
       "      <th></th>\n",
       "      <th>MODEL NAME</th>\n",
       "      <th>ACCURACY</th>\n",
       "      <th>PRECISION</th>\n",
       "      <th>RECALL</th>\n",
       "      <th>F-1 SCORE</th>\n",
       "    </tr>\n",
       "  </thead>\n",
       "  <tbody>\n",
       "    <tr>\n",
       "      <th>0</th>\n",
       "      <td>LOGISTIC REGRESSION</td>\n",
       "      <td>96.420</td>\n",
       "      <td>0.383546</td>\n",
       "      <td>0.642718</td>\n",
       "      <td>0.480406</td>\n",
       "    </tr>\n",
       "    <tr>\n",
       "      <th>1</th>\n",
       "      <td>DECISION TREE</td>\n",
       "      <td>98.975</td>\n",
       "      <td>0.870220</td>\n",
       "      <td>0.889810</td>\n",
       "      <td>0.879906</td>\n",
       "    </tr>\n",
       "    <tr>\n",
       "      <th>2</th>\n",
       "      <td>RANDOM FOREST</td>\n",
       "      <td>98.910</td>\n",
       "      <td>0.814600</td>\n",
       "      <td>0.923784</td>\n",
       "      <td>0.865764</td>\n",
       "    </tr>\n",
       "    <tr>\n",
       "      <th>3</th>\n",
       "      <td>KNN</td>\n",
       "      <td>95.685</td>\n",
       "      <td>0.000000</td>\n",
       "      <td>0.000000</td>\n",
       "      <td>0.000000</td>\n",
       "    </tr>\n",
       "    <tr>\n",
       "      <th>4</th>\n",
       "      <td>SVM</td>\n",
       "      <td>95.685</td>\n",
       "      <td>0.000000</td>\n",
       "      <td>0.000000</td>\n",
       "      <td>0.000000</td>\n",
       "    </tr>\n",
       "    <tr>\n",
       "      <th>5</th>\n",
       "      <td>NAIVE BAYES</td>\n",
       "      <td>95.685</td>\n",
       "      <td>0.000000</td>\n",
       "      <td>0.000000</td>\n",
       "      <td>0.000000</td>\n",
       "    </tr>\n",
       "  </tbody>\n",
       "</table>\n",
       "</div>"
      ],
      "text/plain": [
       "            MODEL NAME  ACCURACY  PRECISION    RECALL  F-1 SCORE\n",
       "0  LOGISTIC REGRESSION    96.420   0.383546  0.642718   0.480406\n",
       "1        DECISION TREE    98.975   0.870220  0.889810   0.879906\n",
       "2        RANDOM FOREST    98.910   0.814600  0.923784   0.865764\n",
       "3                  KNN    95.685   0.000000  0.000000   0.000000\n",
       "4                  SVM    95.685   0.000000  0.000000   0.000000\n",
       "5          NAIVE BAYES    95.685   0.000000  0.000000   0.000000"
      ]
     },
     "execution_count": 117,
     "metadata": {},
     "output_type": "execute_result"
    }
   ],
   "source": [
    "result=pd.DataFrame({\"MODEL NAME\":list1,\"ACCURACY\":list2,\"PRECISION\":list3,\"RECALL\":list4,\"F-1 SCORE\":list5})\n",
    "result"
   ]
  },
  {
   "cell_type": "markdown",
   "id": "b689830b-ff47-45cc-8cad-efe7918b93cf",
   "metadata": {},
   "source": [
    "LOGISTIC REGRESSION is best fitted model  because other models are overfitted and having large difference in precision  and recall."
   ]
  },
  {
   "cell_type": "markdown",
   "id": "5b050acf-f183-4ddc-a114-c642ea491632",
   "metadata": {},
   "source": [
    "# CLASS IMBALANCEMENT TREATMENT"
   ]
  },
  {
   "cell_type": "markdown",
   "id": "338407c5-8cdc-4395-88cb-18b7b27d54ac",
   "metadata": {},
   "source": [
    "# SMOTE"
   ]
  },
  {
   "cell_type": "code",
   "execution_count": 118,
   "id": "e6d7afaa-5fed-4d89-b430-d04c81495026",
   "metadata": {},
   "outputs": [],
   "source": [
    "from imblearn.over_sampling import SMOTE\n",
    "smote=SMOTE()"
   ]
  },
  {
   "cell_type": "code",
   "execution_count": 119,
   "id": "95f2d00a-ae5c-4392-8ee3-ceb807587c46",
   "metadata": {},
   "outputs": [],
   "source": [
    "x_smote,y_smote=smote.fit_resample(x,y)"
   ]
  },
  {
   "cell_type": "code",
   "execution_count": 120,
   "id": "d359027b-70ea-4621-8450-af84946a6a0b",
   "metadata": {},
   "outputs": [
    {
     "data": {
      "text/plain": [
       "((191430, 15), (191430,))"
      ]
     },
     "execution_count": 120,
     "metadata": {},
     "output_type": "execute_result"
    }
   ],
   "source": [
    "x_smote.shape,y_smote.shape"
   ]
  },
  {
   "cell_type": "code",
   "execution_count": 121,
   "id": "ad80bd7b-b78d-4caa-a85f-2ca9c07ed767",
   "metadata": {},
   "outputs": [
    {
     "data": {
      "text/plain": [
       "Panic Disorder Diagnosis\n",
       "0    95715\n",
       "1    95715\n",
       "Name: count, dtype: int64"
      ]
     },
     "execution_count": 121,
     "metadata": {},
     "output_type": "execute_result"
    }
   ],
   "source": [
    "y_smote.value_counts()"
   ]
  },
  {
   "cell_type": "markdown",
   "id": "28b2c4c1-5d77-469c-8f4d-92335c52e8c6",
   "metadata": {},
   "source": [
    "# random over sampling"
   ]
  },
  {
   "cell_type": "code",
   "execution_count": 122,
   "id": "ca4bd0ca-3319-4b81-87f0-a24e0545d8f5",
   "metadata": {},
   "outputs": [],
   "source": [
    "#class_1_over=tr_1.sample(c_0,replace=True)\n",
    "#class_1_0=pd.concat([class_1_over,tr_0],axis=0)\n",
    "#class_1_0.shape\n",
    "#class_1_0[\"Chronic Medical Conditions\"].value_counts()"
   ]
  },
  {
   "cell_type": "markdown",
   "id": "5e72b481-6bf9-4f30-87b4-5c6eb6748457",
   "metadata": {},
   "source": [
    "# IMBlearn Oversamling"
   ]
  },
  {
   "cell_type": "code",
   "execution_count": 123,
   "id": "f89efcea-1bd5-4032-a9d8-c5f074223531",
   "metadata": {},
   "outputs": [],
   "source": [
    "#x=train.iloc[:,1:-1]\n",
    "#y=train.iloc[:,-1]\n",
    "#x.head()\n",
    "#y.head()\n",
    "#import imblearn\n",
    "#from imblearn.over_sampling import RandomOverSampler\n",
    "#ab1=RandomOverSampler(random_state=42)\n",
    "#x1,y1=ab1.fit_resample(x,y)\n",
    "#x1.shape,y1.shape"
   ]
  },
  {
   "cell_type": "markdown",
   "id": "d0caae2e-3b12-4c0f-ad74-9265aa0ac526",
   "metadata": {},
   "source": [
    "# Inbalance Statement"
   ]
  },
  {
   "cell_type": "code",
   "execution_count": 124,
   "id": "aace3020-bcc3-4be2-876b-b5435c6c4b60",
   "metadata": {},
   "outputs": [],
   "source": [
    "#train[\"Panic Disorder Diagnosis\"].value_counts()"
   ]
  },
  {
   "cell_type": "code",
   "execution_count": 125,
   "id": "af5dbe5c-79ac-4c30-9281-f0a7ab08ad60",
   "metadata": {},
   "outputs": [],
   "source": [
    "#c_0,c_1=train[\"Panic Disorder Diagnosis\"].value_counts()\n",
    "#c_0,c_1"
   ]
  },
  {
   "cell_type": "code",
   "execution_count": 126,
   "id": "bc8616fc-7553-4238-83ee-13efd4faed75",
   "metadata": {},
   "outputs": [],
   "source": [
    "#tr_0=train[train[\"Panic Disorder Diagnosis\"]==0]\n",
    "#tr_1=train[train[\"Panic Disorder Diagnosis\"]==1]\n",
    "#tr_0.shape,tr_1.shape"
   ]
  },
  {
   "cell_type": "markdown",
   "id": "1f58163c-a398-429f-a1be-b38a8678c708",
   "metadata": {},
   "source": [
    "# Random undersampling"
   ]
  },
  {
   "cell_type": "code",
   "execution_count": 127,
   "id": "154e528e-aa0c-46de-a5fd-fdd8d8f04439",
   "metadata": {},
   "outputs": [],
   "source": [
    "#import random\n",
    "#class_0_under=tr_0.sample(c_1)\n",
    "#class_0_1=pd.concat([class_0_under,tr_1],axis=0)\n",
    "#class_0_1.shape\n",
    "#class_0_1[\"Panic Disorder Diagnosis\"].value_counts()"
   ]
  },
  {
   "cell_type": "markdown",
   "id": "91198260-cd9d-4a0c-adde-b2b07d04b635",
   "metadata": {},
   "source": [
    "# Imblearn Undersampling"
   ]
  },
  {
   "cell_type": "code",
   "execution_count": 128,
   "id": "2d7924c0-13cc-451e-90f6-fe5052e25f4b",
   "metadata": {},
   "outputs": [],
   "source": [
    "#from imblearn.under_sampling import RandomUnderSampler\n",
    "#a2=RandomUnderSampler(sampling_strategy=\"all\")\n",
    "#x2,y2=a2.fit_resample(x,y)\n",
    "#x2.shape,y2.shape\n",
    "#x2_tr,x2_te,y2_tr,y2_te=train_test_split(x2,y2,test_size=0.2,random_state=101)\n",
    "#x2_tr.shape,x2_te.shape,y2_tr.shape,y2_te.shape"
   ]
  },
  {
   "cell_type": "markdown",
   "id": "91daf414-ed67-4c39-889b-bc80452355e5",
   "metadata": {},
   "source": [
    "# Nermiss"
   ]
  },
  {
   "cell_type": "code",
   "execution_count": 129,
   "id": "83a74652-e8e2-4dfd-8b63-909b8508a65b",
   "metadata": {},
   "outputs": [],
   "source": [
    "#from imblearn.under_sampling import NearMiss\n",
    "#nm=NearMiss()\n",
    "#x_nm,y_nm=nm.fit_resample(x,y) \n",
    "#x_nm.shape,y_nm.shape\n",
    "#y_nm.value_counts()\n",
    "\n",
    "#xn_tr,xn_te,yn_tr,yn_te=train_test_split(x_nm,y_nm,test_size=0.2,random_state=101)\n",
    "#xn_tr.shape,xn_te.shape,yn_tr.shape,yn_te.shape\n"
   ]
  },
  {
   "cell_type": "markdown",
   "id": "04aa8b15-e584-407e-955a-b3e01aa47657",
   "metadata": {},
   "source": [
    "# OUTLIER TREATMENT"
   ]
  },
  {
   "cell_type": "code",
   "execution_count": 130,
   "id": "546d1591-4617-4294-862a-f0ff03e85034",
   "metadata": {},
   "outputs": [
    {
     "data": {
      "text/plain": [
       "Age                    int64\n",
       "Gender                 int32\n",
       "Family History         int32\n",
       "Personal History       int32\n",
       "Current Stressors      int32\n",
       "Symptoms               int32\n",
       "Severity               int32\n",
       "Impact on Life         int32\n",
       "Demographics           int32\n",
       "Medical History        int32\n",
       "Psychiatric History    int32\n",
       "Substance Use          int32\n",
       "Coping Mechanisms      int32\n",
       "Social Support         int32\n",
       "Lifestyle Factors      int32\n",
       "dtype: object"
      ]
     },
     "execution_count": 130,
     "metadata": {},
     "output_type": "execute_result"
    }
   ],
   "source": [
    "x_smote.dtypes"
   ]
  },
  {
   "cell_type": "code",
   "execution_count": 131,
   "id": "51ae5e0f-5690-44be-b3f4-839cff636956",
   "metadata": {},
   "outputs": [
    {
     "data": {
      "text/plain": [
       "<Axes: >"
      ]
     },
     "execution_count": 131,
     "metadata": {},
     "output_type": "execute_result"
    },
    {
     "data": {
      "image/png": "[encoded data removed]",
      "text/plain": [
       "<Figure size 3000x1000 with 1 Axes>"
      ]
     },
     "metadata": {},
     "output_type": "display_data"
    }
   ],
   "source": [
    "plt.figure(figsize=[30,10])\n",
    "sns.boxplot(data=x_smote)"
   ]
  },
  {
   "cell_type": "markdown",
   "id": "d366b372-51eb-4be1-95a5-6694095dbf1f",
   "metadata": {},
   "source": [
    "There are no outliers in this data"
   ]
  },
  {
   "cell_type": "markdown",
   "id": "b21de590-760d-470a-933e-441c7352e55a",
   "metadata": {},
   "source": [
    "# skewness treatment"
   ]
  },
  {
   "cell_type": "code",
   "execution_count": 132,
   "id": "1398365a-9c70-4400-9a4f-f9abfb35c240",
   "metadata": {},
   "outputs": [
    {
     "data": {
      "text/plain": [
       "Age                   -0.007444\n",
       "Gender                 0.305290\n",
       "Family History        -0.049266\n",
       "Personal History      -0.098453\n",
       "Current Stressors      0.673923\n",
       "Symptoms              -0.198604\n",
       "Severity              -0.235708\n",
       "Impact on Life        -0.293336\n",
       "Demographics           0.485912\n",
       "Medical History        0.573368\n",
       "Psychiatric History   -0.254869\n",
       "Substance Use          0.264445\n",
       "Coping Mechanisms     -0.040714\n",
       "Social Support         0.159562\n",
       "Lifestyle Factors     -1.051207\n",
       "dtype: float64"
      ]
     },
     "execution_count": 132,
     "metadata": {},
     "output_type": "execute_result"
    }
   ],
   "source": [
    "x_smote.skew()"
   ]
  },
  {
   "cell_type": "markdown",
   "id": "0f077788-98f6-4ebf-bacf-907b94c62995",
   "metadata": {},
   "source": [
    "There is no skewness in dataset"
   ]
  },
  {
   "cell_type": "markdown",
   "id": "35057cf5-710b-4767-b186-660be1e2c554",
   "metadata": {},
   "source": [
    "# model building"
   ]
  },
  {
   "cell_type": "code",
   "execution_count": 133,
   "id": "1c895205-9824-48f2-956f-26a5d3f1ccd9",
   "metadata": {},
   "outputs": [],
   "source": [
    "x_tr,x_te,y_tr,y_te=train_test_split(x_smote,y_smote,test_size=0.2,random_state=101)"
   ]
  },
  {
   "cell_type": "code",
   "execution_count": 134,
   "id": "b9e123f5-ec50-46e1-8e6a-49d1d678dfc6",
   "metadata": {},
   "outputs": [
    {
     "data": {
      "text/plain": [
       "((153144, 15), (38286, 15), (153144,), (38286,))"
      ]
     },
     "execution_count": 134,
     "metadata": {},
     "output_type": "execute_result"
    }
   ],
   "source": [
    "x_tr.shape,x_te.shape,y_tr.shape,y_te.shape"
   ]
  },
  {
   "cell_type": "code",
   "execution_count": 135,
   "id": "69a0e317-6cf9-4df0-94ef-513397c91f5e",
   "metadata": {},
   "outputs": [
    {
     "data": {
      "text/html": [
       "<div>\n",
       "<style scoped>\n",
       "    .dataframe tbody tr th:only-of-type {\n",
       "        vertical-align: middle;\n",
       "    }\n",
       "\n",
       "    .dataframe tbody tr th {\n",
       "        vertical-align: top;\n",
       "    }\n",
       "\n",
       "    .dataframe thead th {\n",
       "        text-align: right;\n",
       "    }\n",
       "</style>\n",
       "<table border=\"1\" class=\"dataframe\">\n",
       "  <thead>\n",
       "    <tr style=\"text-align: right;\">\n",
       "      <th></th>\n",
       "      <th>Age</th>\n",
       "      <th>Gender</th>\n",
       "      <th>Family History</th>\n",
       "      <th>Personal History</th>\n",
       "      <th>Current Stressors</th>\n",
       "      <th>Symptoms</th>\n",
       "      <th>Severity</th>\n",
       "      <th>Impact on Life</th>\n",
       "      <th>Demographics</th>\n",
       "      <th>Medical History</th>\n",
       "      <th>Psychiatric History</th>\n",
       "      <th>Substance Use</th>\n",
       "      <th>Coping Mechanisms</th>\n",
       "      <th>Social Support</th>\n",
       "      <th>Lifestyle Factors</th>\n",
       "    </tr>\n",
       "  </thead>\n",
       "  <tbody>\n",
       "    <tr>\n",
       "      <th>137745</th>\n",
       "      <td>29</td>\n",
       "      <td>0</td>\n",
       "      <td>1</td>\n",
       "      <td>0</td>\n",
       "      <td>0</td>\n",
       "      <td>1</td>\n",
       "      <td>2</td>\n",
       "      <td>1</td>\n",
       "      <td>0</td>\n",
       "      <td>0</td>\n",
       "      <td>0</td>\n",
       "      <td>1</td>\n",
       "      <td>1</td>\n",
       "      <td>2</td>\n",
       "      <td>2</td>\n",
       "    </tr>\n",
       "    <tr>\n",
       "      <th>119457</th>\n",
       "      <td>57</td>\n",
       "      <td>0</td>\n",
       "      <td>1</td>\n",
       "      <td>1</td>\n",
       "      <td>0</td>\n",
       "      <td>4</td>\n",
       "      <td>0</td>\n",
       "      <td>2</td>\n",
       "      <td>0</td>\n",
       "      <td>1</td>\n",
       "      <td>2</td>\n",
       "      <td>0</td>\n",
       "      <td>2</td>\n",
       "      <td>2</td>\n",
       "      <td>2</td>\n",
       "    </tr>\n",
       "    <tr>\n",
       "      <th>167733</th>\n",
       "      <td>64</td>\n",
       "      <td>1</td>\n",
       "      <td>0</td>\n",
       "      <td>0</td>\n",
       "      <td>0</td>\n",
       "      <td>3</td>\n",
       "      <td>0</td>\n",
       "      <td>2</td>\n",
       "      <td>1</td>\n",
       "      <td>1</td>\n",
       "      <td>2</td>\n",
       "      <td>0</td>\n",
       "      <td>0</td>\n",
       "      <td>1</td>\n",
       "      <td>2</td>\n",
       "    </tr>\n",
       "    <tr>\n",
       "      <th>160390</th>\n",
       "      <td>53</td>\n",
       "      <td>0</td>\n",
       "      <td>0</td>\n",
       "      <td>1</td>\n",
       "      <td>0</td>\n",
       "      <td>2</td>\n",
       "      <td>0</td>\n",
       "      <td>2</td>\n",
       "      <td>0</td>\n",
       "      <td>1</td>\n",
       "      <td>1</td>\n",
       "      <td>1</td>\n",
       "      <td>0</td>\n",
       "      <td>1</td>\n",
       "      <td>2</td>\n",
       "    </tr>\n",
       "    <tr>\n",
       "      <th>87731</th>\n",
       "      <td>58</td>\n",
       "      <td>0</td>\n",
       "      <td>0</td>\n",
       "      <td>1</td>\n",
       "      <td>0</td>\n",
       "      <td>4</td>\n",
       "      <td>1</td>\n",
       "      <td>2</td>\n",
       "      <td>0</td>\n",
       "      <td>0</td>\n",
       "      <td>1</td>\n",
       "      <td>0</td>\n",
       "      <td>0</td>\n",
       "      <td>0</td>\n",
       "      <td>0</td>\n",
       "    </tr>\n",
       "  </tbody>\n",
       "</table>\n",
       "</div>"
      ],
      "text/plain": [
       "        Age  Gender  Family History  Personal History  Current Stressors  \\\n",
       "137745   29       0               1                 0                  0   \n",
       "119457   57       0               1                 1                  0   \n",
       "167733   64       1               0                 0                  0   \n",
       "160390   53       0               0                 1                  0   \n",
       "87731    58       0               0                 1                  0   \n",
       "\n",
       "        Symptoms  Severity  Impact on Life  Demographics  Medical History  \\\n",
       "137745         1         2               1             0                0   \n",
       "119457         4         0               2             0                1   \n",
       "167733         3         0               2             1                1   \n",
       "160390         2         0               2             0                1   \n",
       "87731          4         1               2             0                0   \n",
       "\n",
       "        Psychiatric History  Substance Use  Coping Mechanisms  Social Support  \\\n",
       "137745                    0              1                  1               2   \n",
       "119457                    2              0                  2               2   \n",
       "167733                    2              0                  0               1   \n",
       "160390                    1              1                  0               1   \n",
       "87731                     1              0                  0               0   \n",
       "\n",
       "        Lifestyle Factors  \n",
       "137745                  2  \n",
       "119457                  2  \n",
       "167733                  2  \n",
       "160390                  2  \n",
       "87731                   0  "
      ]
     },
     "execution_count": 135,
     "metadata": {},
     "output_type": "execute_result"
    }
   ],
   "source": [
    "x_tr.head()"
   ]
  },
  {
   "cell_type": "markdown",
   "id": "81d8c618-ca3f-4b42-994b-e5cb1e422869",
   "metadata": {},
   "source": [
    "# LOGISTIC REGRESSION"
   ]
  },
  {
   "cell_type": "code",
   "execution_count": 136,
   "id": "455ed73f-8aef-49f1-a341-d9f6b8c9dc09",
   "metadata": {},
   "outputs": [],
   "source": [
    "from sklearn.linear_model import LogisticRegression\n",
    "lg= LogisticRegression()"
   ]
  },
  {
   "cell_type": "code",
   "execution_count": 137,
   "id": "444ff0dc-941e-4320-adc9-3608fd76e5f0",
   "metadata": {},
   "outputs": [
    {
     "data": {
      "text/html": [
       "<style>#sk-container-id-7 {color: black;background-color: white;}#sk-container-id-7 pre{padding: 0;}#sk-container-id-7 div.sk-toggleable {background-color: white;}#sk-container-id-7 label.sk-toggleable__label {cursor: pointer;display: block;width: 100%;margin-bottom: 0;padding: 0.3em;box-sizing: border-box;text-align: center;}#sk-container-id-7 label.sk-toggleable__label-arrow:before {content: \"▸\";float: left;margin-right: 0.25em;color: #696969;}#sk-container-id-7 label.sk-toggleable__label-arrow:hover:before {color: black;}#sk-container-id-7 div.sk-estimator:hover label.sk-toggleable__label-arrow:before {color: black;}#sk-container-id-7 div.sk-toggleable__content {max-height: 0;max-width: 0;overflow: hidden;text-align: left;background-color: #f0f8ff;}#sk-container-id-7 div.sk-toggleable__content pre {margin: 0.2em;color: black;border-radius: 0.25em;background-color: #f0f8ff;}#sk-container-id-7 input.sk-toggleable__control:checked~div.sk-toggleable__content {max-height: 200px;max-width: 100%;overflow: auto;}#sk-container-id-7 input.sk-toggleable__control:checked~label.sk-toggleable__label-arrow:before {content: \"▾\";}#sk-container-id-7 div.sk-estimator input.sk-toggleable__control:checked~label.sk-toggleable__label {background-color: #d4ebff;}#sk-container-id-7 div.sk-label input.sk-toggleable__control:checked~label.sk-toggleable__label {background-color: #d4ebff;}#sk-container-id-7 input.sk-hidden--visually {border: 0;clip: rect(1px 1px 1px 1px);clip: rect(1px, 1px, 1px, 1px);height: 1px;margin: -1px;overflow: hidden;padding: 0;position: absolute;width: 1px;}#sk-container-id-7 div.sk-estimator {font-family: monospace;background-color: #f0f8ff;border: 1px dotted black;border-radius: 0.25em;box-sizing: border-box;margin-bottom: 0.5em;}#sk-container-id-7 div.sk-estimator:hover {background-color: #d4ebff;}#sk-container-id-7 div.sk-parallel-item::after {content: \"\";width: 100%;border-bottom: 1px solid gray;flex-grow: 1;}#sk-container-id-7 div.sk-label:hover label.sk-toggleable__label {background-color: #d4ebff;}#sk-container-id-7 div.sk-serial::before {content: \"\";position: absolute;border-left: 1px solid gray;box-sizing: border-box;top: 0;bottom: 0;left: 50%;z-index: 0;}#sk-container-id-7 div.sk-serial {display: flex;flex-direction: column;align-items: center;background-color: white;padding-right: 0.2em;padding-left: 0.2em;position: relative;}#sk-container-id-7 div.sk-item {position: relative;z-index: 1;}#sk-container-id-7 div.sk-parallel {display: flex;align-items: stretch;justify-content: center;background-color: white;position: relative;}#sk-container-id-7 div.sk-item::before, #sk-container-id-7 div.sk-parallel-item::before {content: \"\";position: absolute;border-left: 1px solid gray;box-sizing: border-box;top: 0;bottom: 0;left: 50%;z-index: -1;}#sk-container-id-7 div.sk-parallel-item {display: flex;flex-direction: column;z-index: 1;position: relative;background-color: white;}#sk-container-id-7 div.sk-parallel-item:first-child::after {align-self: flex-end;width: 50%;}#sk-container-id-7 div.sk-parallel-item:last-child::after {align-self: flex-start;width: 50%;}#sk-container-id-7 div.sk-parallel-item:only-child::after {width: 0;}#sk-container-id-7 div.sk-dashed-wrapped {border: 1px dashed gray;margin: 0 0.4em 0.5em 0.4em;box-sizing: border-box;padding-bottom: 0.4em;background-color: white;}#sk-container-id-7 div.sk-label label {font-family: monospace;font-weight: bold;display: inline-block;line-height: 1.2em;}#sk-container-id-7 div.sk-label-container {text-align: center;}#sk-container-id-7 div.sk-container {/* jupyter's `normalize.less` sets `[hidden] { display: none; }` but bootstrap.min.css set `[hidden] { display: none !important; }` so we also need the `!important` here to be able to override the default hidden behavior on the sphinx rendered scikit-learn.org. See: https://github.com/scikit-learn/scikit-learn/issues/21755 */display: inline-block !important;position: relative;}#sk-container-id-7 div.sk-text-repr-fallback {display: none;}</style><div id=\"sk-container-id-7\" class=\"sk-top-container\"><div class=\"sk-text-repr-fallback\"><pre>LogisticRegression()</pre><b>In a Jupyter environment, please rerun this cell to show the HTML representation or trust the notebook. <br />On GitHub, the HTML representation is unable to render, please try loading this page with nbviewer.org.</b></div><div class=\"sk-container\" hidden><div class=\"sk-item\"><div class=\"sk-estimator sk-toggleable\"><input class=\"sk-toggleable__control sk-hidden--visually\" id=\"sk-estimator-id-7\" type=\"checkbox\" checked><label for=\"sk-estimator-id-7\" class=\"sk-toggleable__label sk-toggleable__label-arrow\">LogisticRegression</label><div class=\"sk-toggleable__content\"><pre>LogisticRegression()</pre></div></div></div></div></div>"
      ],
      "text/plain": [
       "LogisticRegression()"
      ]
     },
     "execution_count": 137,
     "metadata": {},
     "output_type": "execute_result"
    }
   ],
   "source": [
    "lg.fit(x_tr,y_tr)"
   ]
  },
  {
   "cell_type": "code",
   "execution_count": 138,
   "id": "d5413949-59c7-4c7e-8de6-1b0405be453a",
   "metadata": {},
   "outputs": [],
   "source": [
    "p2=lg.predict(x_te)"
   ]
  },
  {
   "cell_type": "code",
   "execution_count": 139,
   "id": "fa3f1be8-4f51-4ed4-a8dc-932fbd98185b",
   "metadata": {},
   "outputs": [],
   "source": [
    "p2_value=lg.predict_proba(x_te)"
   ]
  },
  {
   "cell_type": "code",
   "execution_count": 140,
   "id": "1ad7d2ba-e9d6-4f54-a7f1-82e2b0bb89d9",
   "metadata": {},
   "outputs": [
    {
     "data": {
      "text/plain": [
       "array([[16697,  1067],\n",
       "       [ 2473, 18049]], dtype=int64)"
      ]
     },
     "execution_count": 140,
     "metadata": {},
     "output_type": "execute_result"
    }
   ],
   "source": [
    "m11=confusion_matrix(p2,y_te)\n",
    "m11"
   ]
  },
  {
   "cell_type": "code",
   "execution_count": 141,
   "id": "2960b7a2-a95a-4c31-936c-863522150863",
   "metadata": {},
   "outputs": [],
   "source": [
    "TN,FP,FN,TP =m11.ravel()"
   ]
  },
  {
   "cell_type": "code",
   "execution_count": 142,
   "id": "998c5e21-8f0f-44e3-a05d-c2c8ad811a78",
   "metadata": {},
   "outputs": [
    {
     "data": {
      "text/plain": [
       "0.9441828834484202"
      ]
     },
     "execution_count": 142,
     "metadata": {},
     "output_type": "execute_result"
    }
   ],
   "source": [
    "ulp= TP/ (TP + FP)\n",
    "ulp"
   ]
  },
  {
   "cell_type": "code",
   "execution_count": 143,
   "id": "9141b618-4991-4a40-89c1-71686bd111be",
   "metadata": {},
   "outputs": [
    {
     "data": {
      "text/plain": [
       "0.8794951759087808"
      ]
     },
     "execution_count": 143,
     "metadata": {},
     "output_type": "execute_result"
    }
   ],
   "source": [
    "ulr= TP/ (TP + FN)\n",
    "ulr"
   ]
  },
  {
   "cell_type": "code",
   "execution_count": 144,
   "id": "9abfe9e6-c8fc-4f37-8aa8-94eac1126ff5",
   "metadata": {},
   "outputs": [
    {
     "data": {
      "text/plain": [
       "0.9106917604319088"
      ]
     },
     "execution_count": 144,
     "metadata": {},
     "output_type": "execute_result"
    }
   ],
   "source": [
    "ulf1= 2* (ulp * ulr) / (ulp + ulr)\n",
    "ulf1"
   ]
  },
  {
   "cell_type": "code",
   "execution_count": 145,
   "id": "f1f43b35-3f70-410c-91de-4b00c373df7f",
   "metadata": {},
   "outputs": [
    {
     "data": {
      "text/plain": [
       "90.75380034477355"
      ]
     },
     "execution_count": 145,
     "metadata": {},
     "output_type": "execute_result"
    }
   ],
   "source": [
    "uac1=m11.diagonal().sum()/m11.sum()*100\n",
    "uac1"
   ]
  },
  {
   "cell_type": "code",
   "execution_count": 146,
   "id": "d40d312e-9542-4d56-9318-b38fed4e7e4a",
   "metadata": {},
   "outputs": [
    {
     "name": "stdout",
     "output_type": "stream",
     "text": [
      "              precision    recall  f1-score   support\n",
      "\n",
      "           0       0.87      0.94      0.90     17764\n",
      "           1       0.94      0.88      0.91     20522\n",
      "\n",
      "    accuracy                           0.91     38286\n",
      "   macro avg       0.91      0.91      0.91     38286\n",
      "weighted avg       0.91      0.91      0.91     38286\n",
      "\n"
     ]
    }
   ],
   "source": [
    "from sklearn.metrics import classification_report\n",
    "print(classification_report(p2,y_te))"
   ]
  },
  {
   "cell_type": "markdown",
   "id": "54212f92-5019-4c6a-835a-f17c44fc07f2",
   "metadata": {},
   "source": [
    "# precision recall curve"
   ]
  },
  {
   "cell_type": "code",
   "execution_count": 147,
   "id": "c96bfead-4f8e-4ae1-a762-d75b1caff6ec",
   "metadata": {},
   "outputs": [
    {
     "data": {
      "text/html": [
       "<div>\n",
       "<style scoped>\n",
       "    .dataframe tbody tr th:only-of-type {\n",
       "        vertical-align: middle;\n",
       "    }\n",
       "\n",
       "    .dataframe tbody tr th {\n",
       "        vertical-align: top;\n",
       "    }\n",
       "\n",
       "    .dataframe thead th {\n",
       "        text-align: right;\n",
       "    }\n",
       "</style>\n",
       "<table border=\"1\" class=\"dataframe\">\n",
       "  <thead>\n",
       "    <tr style=\"text-align: right;\">\n",
       "      <th></th>\n",
       "      <th>0</th>\n",
       "      <th>1</th>\n",
       "    </tr>\n",
       "  </thead>\n",
       "  <tbody>\n",
       "    <tr>\n",
       "      <th>0</th>\n",
       "      <td>0.999999</td>\n",
       "      <td>1.425091e-06</td>\n",
       "    </tr>\n",
       "    <tr>\n",
       "      <th>1</th>\n",
       "      <td>0.347734</td>\n",
       "      <td>6.522656e-01</td>\n",
       "    </tr>\n",
       "    <tr>\n",
       "      <th>2</th>\n",
       "      <td>0.999899</td>\n",
       "      <td>1.007336e-04</td>\n",
       "    </tr>\n",
       "    <tr>\n",
       "      <th>3</th>\n",
       "      <td>0.069245</td>\n",
       "      <td>9.307551e-01</td>\n",
       "    </tr>\n",
       "    <tr>\n",
       "      <th>4</th>\n",
       "      <td>0.009145</td>\n",
       "      <td>9.908554e-01</td>\n",
       "    </tr>\n",
       "    <tr>\n",
       "      <th>...</th>\n",
       "      <td>...</td>\n",
       "      <td>...</td>\n",
       "    </tr>\n",
       "    <tr>\n",
       "      <th>38281</th>\n",
       "      <td>0.209979</td>\n",
       "      <td>7.900209e-01</td>\n",
       "    </tr>\n",
       "    <tr>\n",
       "      <th>38282</th>\n",
       "      <td>1.000000</td>\n",
       "      <td>2.697940e-08</td>\n",
       "    </tr>\n",
       "    <tr>\n",
       "      <th>38283</th>\n",
       "      <td>0.255192</td>\n",
       "      <td>7.448081e-01</td>\n",
       "    </tr>\n",
       "    <tr>\n",
       "      <th>38284</th>\n",
       "      <td>0.051176</td>\n",
       "      <td>9.488239e-01</td>\n",
       "    </tr>\n",
       "    <tr>\n",
       "      <th>38285</th>\n",
       "      <td>0.609902</td>\n",
       "      <td>3.900980e-01</td>\n",
       "    </tr>\n",
       "  </tbody>\n",
       "</table>\n",
       "<p>38286 rows × 2 columns</p>\n",
       "</div>"
      ],
      "text/plain": [
       "              0             1\n",
       "0      0.999999  1.425091e-06\n",
       "1      0.347734  6.522656e-01\n",
       "2      0.999899  1.007336e-04\n",
       "3      0.069245  9.307551e-01\n",
       "4      0.009145  9.908554e-01\n",
       "...         ...           ...\n",
       "38281  0.209979  7.900209e-01\n",
       "38282  1.000000  2.697940e-08\n",
       "38283  0.255192  7.448081e-01\n",
       "38284  0.051176  9.488239e-01\n",
       "38285  0.609902  3.900980e-01\n",
       "\n",
       "[38286 rows x 2 columns]"
      ]
     },
     "execution_count": 147,
     "metadata": {},
     "output_type": "execute_result"
    }
   ],
   "source": [
    "df=pd.DataFrame(p2_value)\n",
    "df"
   ]
  },
  {
   "cell_type": "code",
   "execution_count": 148,
   "id": "fcd59efa-4afb-4deb-ae63-8d96c2c114b6",
   "metadata": {},
   "outputs": [],
   "source": [
    "from sklearn.metrics import precision_recall_curve\n",
    "from sklearn.metrics import f1_score"
   ]
  },
  {
   "cell_type": "code",
   "execution_count": 149,
   "id": "1c41358e-feea-4cef-b7b4-e7ea013a50ee",
   "metadata": {},
   "outputs": [],
   "source": [
    "precision,recall,threshold=precision_recall_curve(y_te,df.iloc[:,1])"
   ]
  },
  {
   "cell_type": "code",
   "execution_count": 150,
   "id": "ddc778bd-70ec-4e6f-98be-dd5eba3d5e0f",
   "metadata": {},
   "outputs": [
    {
     "data": {
      "text/plain": [
       "array([0.49929478, 0.49930782, 0.49932087, ..., 1.        , 1.        ,\n",
       "       1.        ])"
      ]
     },
     "execution_count": 150,
     "metadata": {},
     "output_type": "execute_result"
    }
   ],
   "source": [
    "precision"
   ]
  },
  {
   "cell_type": "code",
   "execution_count": 151,
   "id": "6b8ed74d-f911-4304-86f7-2b31d9b32f08",
   "metadata": {},
   "outputs": [
    {
     "data": {
      "text/plain": [
       "array([1.00000000e+00, 1.00000000e+00, 1.00000000e+00, ...,\n",
       "       1.04624398e-04, 5.23121992e-05, 0.00000000e+00])"
      ]
     },
     "execution_count": 151,
     "metadata": {},
     "output_type": "execute_result"
    }
   ],
   "source": [
    "recall"
   ]
  },
  {
   "cell_type": "code",
   "execution_count": 152,
   "id": "137f993b-eb63-4aec-ab50-71021fcc7dd7",
   "metadata": {},
   "outputs": [
    {
     "data": {
      "text/plain": [
       "array([1.78086858e-09, 1.85844878e-09, 2.17054147e-09, ...,\n",
       "       9.98668512e-01, 9.98753191e-01, 9.98766025e-01])"
      ]
     },
     "execution_count": 152,
     "metadata": {},
     "output_type": "execute_result"
    }
   ],
   "source": [
    "threshold"
   ]
  },
  {
   "cell_type": "code",
   "execution_count": 153,
   "id": "6aab9a9d-0a7d-48f8-9201-0353faf48435",
   "metadata": {},
   "outputs": [
    {
     "data": {
      "image/png": "[encoded data removed]",
      "text/plain": [
       "<Figure size 640x480 with 1 Axes>"
      ]
     },
     "metadata": {},
     "output_type": "display_data"
    }
   ],
   "source": [
    "plt.plot(recall,precision,label=\"PRC\")\n",
    "plt.xlabel(\"recall\")\n",
    "plt.ylabel(\"precision\")\n",
    "plt.legend(loc=\"upper right\")\n",
    "plt.title(\"precision-recall\")\n",
    "plt.gca().invert_xaxis()"
   ]
  },
  {
   "cell_type": "markdown",
   "id": "8b1bf07f-998f-4863-bfbb-9776b24d5bb4",
   "metadata": {},
   "source": [
    "# decision tree"
   ]
  },
  {
   "cell_type": "code",
   "execution_count": 154,
   "id": "59ec60f1-a046-4375-8e23-9c6ad2f99396",
   "metadata": {},
   "outputs": [],
   "source": [
    "from sklearn.tree import DecisionTreeClassifier\n",
    "dt=DecisionTreeClassifier()"
   ]
  },
  {
   "cell_type": "code",
   "execution_count": 155,
   "id": "0645bb31-0ffd-412e-9174-bef7a403b8b7",
   "metadata": {},
   "outputs": [
    {
     "data": {
      "text/html": [
       "<style>#sk-container-id-8 {color: black;background-color: white;}#sk-container-id-8 pre{padding: 0;}#sk-container-id-8 div.sk-toggleable {background-color: white;}#sk-container-id-8 label.sk-toggleable__label {cursor: pointer;display: block;width: 100%;margin-bottom: 0;padding: 0.3em;box-sizing: border-box;text-align: center;}#sk-container-id-8 label.sk-toggleable__label-arrow:before {content: \"▸\";float: left;margin-right: 0.25em;color: #696969;}#sk-container-id-8 label.sk-toggleable__label-arrow:hover:before {color: black;}#sk-container-id-8 div.sk-estimator:hover label.sk-toggleable__label-arrow:before {color: black;}#sk-container-id-8 div.sk-toggleable__content {max-height: 0;max-width: 0;overflow: hidden;text-align: left;background-color: #f0f8ff;}#sk-container-id-8 div.sk-toggleable__content pre {margin: 0.2em;color: black;border-radius: 0.25em;background-color: #f0f8ff;}#sk-container-id-8 input.sk-toggleable__control:checked~div.sk-toggleable__content {max-height: 200px;max-width: 100%;overflow: auto;}#sk-container-id-8 input.sk-toggleable__control:checked~label.sk-toggleable__label-arrow:before {content: \"▾\";}#sk-container-id-8 div.sk-estimator input.sk-toggleable__control:checked~label.sk-toggleable__label {background-color: #d4ebff;}#sk-container-id-8 div.sk-label input.sk-toggleable__control:checked~label.sk-toggleable__label {background-color: #d4ebff;}#sk-container-id-8 input.sk-hidden--visually {border: 0;clip: rect(1px 1px 1px 1px);clip: rect(1px, 1px, 1px, 1px);height: 1px;margin: -1px;overflow: hidden;padding: 0;position: absolute;width: 1px;}#sk-container-id-8 div.sk-estimator {font-family: monospace;background-color: #f0f8ff;border: 1px dotted black;border-radius: 0.25em;box-sizing: border-box;margin-bottom: 0.5em;}#sk-container-id-8 div.sk-estimator:hover {background-color: #d4ebff;}#sk-container-id-8 div.sk-parallel-item::after {content: \"\";width: 100%;border-bottom: 1px solid gray;flex-grow: 1;}#sk-container-id-8 div.sk-label:hover label.sk-toggleable__label {background-color: #d4ebff;}#sk-container-id-8 div.sk-serial::before {content: \"\";position: absolute;border-left: 1px solid gray;box-sizing: border-box;top: 0;bottom: 0;left: 50%;z-index: 0;}#sk-container-id-8 div.sk-serial {display: flex;flex-direction: column;align-items: center;background-color: white;padding-right: 0.2em;padding-left: 0.2em;position: relative;}#sk-container-id-8 div.sk-item {position: relative;z-index: 1;}#sk-container-id-8 div.sk-parallel {display: flex;align-items: stretch;justify-content: center;background-color: white;position: relative;}#sk-container-id-8 div.sk-item::before, #sk-container-id-8 div.sk-parallel-item::before {content: \"\";position: absolute;border-left: 1px solid gray;box-sizing: border-box;top: 0;bottom: 0;left: 50%;z-index: -1;}#sk-container-id-8 div.sk-parallel-item {display: flex;flex-direction: column;z-index: 1;position: relative;background-color: white;}#sk-container-id-8 div.sk-parallel-item:first-child::after {align-self: flex-end;width: 50%;}#sk-container-id-8 div.sk-parallel-item:last-child::after {align-self: flex-start;width: 50%;}#sk-container-id-8 div.sk-parallel-item:only-child::after {width: 0;}#sk-container-id-8 div.sk-dashed-wrapped {border: 1px dashed gray;margin: 0 0.4em 0.5em 0.4em;box-sizing: border-box;padding-bottom: 0.4em;background-color: white;}#sk-container-id-8 div.sk-label label {font-family: monospace;font-weight: bold;display: inline-block;line-height: 1.2em;}#sk-container-id-8 div.sk-label-container {text-align: center;}#sk-container-id-8 div.sk-container {/* jupyter's `normalize.less` sets `[hidden] { display: none; }` but bootstrap.min.css set `[hidden] { display: none !important; }` so we also need the `!important` here to be able to override the default hidden behavior on the sphinx rendered scikit-learn.org. See: https://github.com/scikit-learn/scikit-learn/issues/21755 */display: inline-block !important;position: relative;}#sk-container-id-8 div.sk-text-repr-fallback {display: none;}</style><div id=\"sk-container-id-8\" class=\"sk-top-container\"><div class=\"sk-text-repr-fallback\"><pre>DecisionTreeClassifier()</pre><b>In a Jupyter environment, please rerun this cell to show the HTML representation or trust the notebook. <br />On GitHub, the HTML representation is unable to render, please try loading this page with nbviewer.org.</b></div><div class=\"sk-container\" hidden><div class=\"sk-item\"><div class=\"sk-estimator sk-toggleable\"><input class=\"sk-toggleable__control sk-hidden--visually\" id=\"sk-estimator-id-8\" type=\"checkbox\" checked><label for=\"sk-estimator-id-8\" class=\"sk-toggleable__label sk-toggleable__label-arrow\">DecisionTreeClassifier</label><div class=\"sk-toggleable__content\"><pre>DecisionTreeClassifier()</pre></div></div></div></div></div>"
      ],
      "text/plain": [
       "DecisionTreeClassifier()"
      ]
     },
     "execution_count": 155,
     "metadata": {},
     "output_type": "execute_result"
    }
   ],
   "source": [
    "dt.fit(x_tr,y_tr)"
   ]
  },
  {
   "cell_type": "code",
   "execution_count": 156,
   "id": "8494a0be-5c24-4044-92fd-48ca2a3105ad",
   "metadata": {},
   "outputs": [],
   "source": [
    "d_p1=dt.predict(x_te)"
   ]
  },
  {
   "cell_type": "code",
   "execution_count": 157,
   "id": "79c92aa5-c581-4c95-a3df-3ceda0f57996",
   "metadata": {},
   "outputs": [
    {
     "data": {
      "text/plain": [
       "array([[18761,    93],\n",
       "       [  409, 19023]], dtype=int64)"
      ]
     },
     "execution_count": 157,
     "metadata": {},
     "output_type": "execute_result"
    }
   ],
   "source": [
    "d_m11=confusion_matrix(d_p1,y_te)\n",
    "d_m11"
   ]
  },
  {
   "cell_type": "code",
   "execution_count": 158,
   "id": "8c2b25ee-66d2-4537-b482-10d93435a38b",
   "metadata": {},
   "outputs": [],
   "source": [
    "TN,FP,FN,TP =d_m11.ravel()"
   ]
  },
  {
   "cell_type": "code",
   "execution_count": 159,
   "id": "296c5a88-2a55-461f-b3e2-7164b6d58c7c",
   "metadata": {},
   "outputs": [
    {
     "data": {
      "text/plain": [
       "0.9951349654739485"
      ]
     },
     "execution_count": 159,
     "metadata": {},
     "output_type": "execute_result"
    }
   ],
   "source": [
    "udp= TP/ (TP + FP)\n",
    "udp"
   ]
  },
  {
   "cell_type": "code",
   "execution_count": 160,
   "id": "9646a9df-affa-448e-8583-ec2ef0360f88",
   "metadata": {},
   "outputs": [
    {
     "data": {
      "text/plain": [
       "0.9789522437216962"
      ]
     },
     "execution_count": 160,
     "metadata": {},
     "output_type": "execute_result"
    }
   ],
   "source": [
    "udr= TP / (TP + FN)\n",
    "udr"
   ]
  },
  {
   "cell_type": "code",
   "execution_count": 161,
   "id": "9858607c-5d60-4863-b7ad-96fe981ba35a",
   "metadata": {},
   "outputs": [
    {
     "data": {
      "text/plain": [
       "0.9869772750856076"
      ]
     },
     "execution_count": 161,
     "metadata": {},
     "output_type": "execute_result"
    }
   ],
   "source": [
    "udf1= 2* (udp * udr) / (udp + udr)\n",
    "udf1"
   ]
  },
  {
   "cell_type": "code",
   "execution_count": 162,
   "id": "29a0cf01-a1bd-42a6-b735-6df7a4960ab7",
   "metadata": {},
   "outputs": [
    {
     "data": {
      "text/plain": [
       "98.6888157551063"
      ]
     },
     "execution_count": 162,
     "metadata": {},
     "output_type": "execute_result"
    }
   ],
   "source": [
    "d_ac1=d_m11.diagonal().sum()/d_m11.sum()*100\n",
    "d_ac1 "
   ]
  },
  {
   "cell_type": "code",
   "execution_count": 163,
   "id": "c042d004-bee7-4ee1-bf09-35da55e029df",
   "metadata": {},
   "outputs": [
    {
     "name": "stdout",
     "output_type": "stream",
     "text": [
      "              precision    recall  f1-score   support\n",
      "\n",
      "           0       0.98      1.00      0.99     18854\n",
      "           1       1.00      0.98      0.99     19432\n",
      "\n",
      "    accuracy                           0.99     38286\n",
      "   macro avg       0.99      0.99      0.99     38286\n",
      "weighted avg       0.99      0.99      0.99     38286\n",
      "\n"
     ]
    }
   ],
   "source": [
    "print(classification_report(d_p1,y_te))"
   ]
  },
  {
   "cell_type": "markdown",
   "id": "22cf3f8a-dcc3-4b6c-9f21-a3f8923aa81c",
   "metadata": {},
   "source": [
    "# Random forest"
   ]
  },
  {
   "cell_type": "code",
   "execution_count": 164,
   "id": "de53ccbe-954b-4c3f-a214-3bedd2e68e0a",
   "metadata": {},
   "outputs": [],
   "source": [
    "from sklearn.ensemble import RandomForestClassifier\n",
    "rf=RandomForestClassifier()"
   ]
  },
  {
   "cell_type": "code",
   "execution_count": 165,
   "id": "b84729d3-0e48-427f-963a-7fdb20f34bf7",
   "metadata": {},
   "outputs": [
    {
     "data": {
      "text/html": [
       "<style>#sk-container-id-9 {color: black;background-color: white;}#sk-container-id-9 pre{padding: 0;}#sk-container-id-9 div.sk-toggleable {background-color: white;}#sk-container-id-9 label.sk-toggleable__label {cursor: pointer;display: block;width: 100%;margin-bottom: 0;padding: 0.3em;box-sizing: border-box;text-align: center;}#sk-container-id-9 label.sk-toggleable__label-arrow:before {content: \"▸\";float: left;margin-right: 0.25em;color: #696969;}#sk-container-id-9 label.sk-toggleable__label-arrow:hover:before {color: black;}#sk-container-id-9 div.sk-estimator:hover label.sk-toggleable__label-arrow:before {color: black;}#sk-container-id-9 div.sk-toggleable__content {max-height: 0;max-width: 0;overflow: hidden;text-align: left;background-color: #f0f8ff;}#sk-container-id-9 div.sk-toggleable__content pre {margin: 0.2em;color: black;border-radius: 0.25em;background-color: #f0f8ff;}#sk-container-id-9 input.sk-toggleable__control:checked~div.sk-toggleable__content {max-height: 200px;max-width: 100%;overflow: auto;}#sk-container-id-9 input.sk-toggleable__control:checked~label.sk-toggleable__label-arrow:before {content: \"▾\";}#sk-container-id-9 div.sk-estimator input.sk-toggleable__control:checked~label.sk-toggleable__label {background-color: #d4ebff;}#sk-container-id-9 div.sk-label input.sk-toggleable__control:checked~label.sk-toggleable__label {background-color: #d4ebff;}#sk-container-id-9 input.sk-hidden--visually {border: 0;clip: rect(1px 1px 1px 1px);clip: rect(1px, 1px, 1px, 1px);height: 1px;margin: -1px;overflow: hidden;padding: 0;position: absolute;width: 1px;}#sk-container-id-9 div.sk-estimator {font-family: monospace;background-color: #f0f8ff;border: 1px dotted black;border-radius: 0.25em;box-sizing: border-box;margin-bottom: 0.5em;}#sk-container-id-9 div.sk-estimator:hover {background-color: #d4ebff;}#sk-container-id-9 div.sk-parallel-item::after {content: \"\";width: 100%;border-bottom: 1px solid gray;flex-grow: 1;}#sk-container-id-9 div.sk-label:hover label.sk-toggleable__label {background-color: #d4ebff;}#sk-container-id-9 div.sk-serial::before {content: \"\";position: absolute;border-left: 1px solid gray;box-sizing: border-box;top: 0;bottom: 0;left: 50%;z-index: 0;}#sk-container-id-9 div.sk-serial {display: flex;flex-direction: column;align-items: center;background-color: white;padding-right: 0.2em;padding-left: 0.2em;position: relative;}#sk-container-id-9 div.sk-item {position: relative;z-index: 1;}#sk-container-id-9 div.sk-parallel {display: flex;align-items: stretch;justify-content: center;background-color: white;position: relative;}#sk-container-id-9 div.sk-item::before, #sk-container-id-9 div.sk-parallel-item::before {content: \"\";position: absolute;border-left: 1px solid gray;box-sizing: border-box;top: 0;bottom: 0;left: 50%;z-index: -1;}#sk-container-id-9 div.sk-parallel-item {display: flex;flex-direction: column;z-index: 1;position: relative;background-color: white;}#sk-container-id-9 div.sk-parallel-item:first-child::after {align-self: flex-end;width: 50%;}#sk-container-id-9 div.sk-parallel-item:last-child::after {align-self: flex-start;width: 50%;}#sk-container-id-9 div.sk-parallel-item:only-child::after {width: 0;}#sk-container-id-9 div.sk-dashed-wrapped {border: 1px dashed gray;margin: 0 0.4em 0.5em 0.4em;box-sizing: border-box;padding-bottom: 0.4em;background-color: white;}#sk-container-id-9 div.sk-label label {font-family: monospace;font-weight: bold;display: inline-block;line-height: 1.2em;}#sk-container-id-9 div.sk-label-container {text-align: center;}#sk-container-id-9 div.sk-container {/* jupyter's `normalize.less` sets `[hidden] { display: none; }` but bootstrap.min.css set `[hidden] { display: none !important; }` so we also need the `!important` here to be able to override the default hidden behavior on the sphinx rendered scikit-learn.org. See: https://github.com/scikit-learn/scikit-learn/issues/21755 */display: inline-block !important;position: relative;}#sk-container-id-9 div.sk-text-repr-fallback {display: none;}</style><div id=\"sk-container-id-9\" class=\"sk-top-container\"><div class=\"sk-text-repr-fallback\"><pre>RandomForestClassifier()</pre><b>In a Jupyter environment, please rerun this cell to show the HTML representation or trust the notebook. <br />On GitHub, the HTML representation is unable to render, please try loading this page with nbviewer.org.</b></div><div class=\"sk-container\" hidden><div class=\"sk-item\"><div class=\"sk-estimator sk-toggleable\"><input class=\"sk-toggleable__control sk-hidden--visually\" id=\"sk-estimator-id-9\" type=\"checkbox\" checked><label for=\"sk-estimator-id-9\" class=\"sk-toggleable__label sk-toggleable__label-arrow\">RandomForestClassifier</label><div class=\"sk-toggleable__content\"><pre>RandomForestClassifier()</pre></div></div></div></div></div>"
      ],
      "text/plain": [
       "RandomForestClassifier()"
      ]
     },
     "execution_count": 165,
     "metadata": {},
     "output_type": "execute_result"
    }
   ],
   "source": [
    "rf.fit(x_tr,y_tr)"
   ]
  },
  {
   "cell_type": "code",
   "execution_count": 166,
   "id": "43f50ec7-8b54-4368-8649-0d16a9e82486",
   "metadata": {},
   "outputs": [],
   "source": [
    "rp11=rf.predict(x_te)"
   ]
  },
  {
   "cell_type": "code",
   "execution_count": 167,
   "id": "b891bc22-138e-4225-93a8-10077a5bdd08",
   "metadata": {},
   "outputs": [
    {
     "data": {
      "text/plain": [
       "array([[18746,    42],\n",
       "       [  424, 19074]], dtype=int64)"
      ]
     },
     "execution_count": 167,
     "metadata": {},
     "output_type": "execute_result"
    }
   ],
   "source": [
    "r_m1=confusion_matrix(rp11,y_te)\n",
    "r_m1"
   ]
  },
  {
   "cell_type": "code",
   "execution_count": 168,
   "id": "f7463809-112d-497d-8ece-8e8830b0a19d",
   "metadata": {},
   "outputs": [],
   "source": [
    "TN,FP,FN,TP =r_m1.ravel()"
   ]
  },
  {
   "cell_type": "code",
   "execution_count": 169,
   "id": "a2129b0f-8c4c-4ba5-a16d-36fd2a2469d5",
   "metadata": {},
   "outputs": [
    {
     "data": {
      "text/plain": [
       "0.9978028876333961"
      ]
     },
     "execution_count": 169,
     "metadata": {},
     "output_type": "execute_result"
    }
   ],
   "source": [
    "rfp= TP/ (TP + FP)\n",
    "rfp"
   ]
  },
  {
   "cell_type": "code",
   "execution_count": 170,
   "id": "674a6eb6-6944-4637-b3f0-fd19011f6843",
   "metadata": {},
   "outputs": [
    {
     "data": {
      "text/plain": [
       "0.9782541799158888"
      ]
     },
     "execution_count": 170,
     "metadata": {},
     "output_type": "execute_result"
    }
   ],
   "source": [
    "rfr= TP / (TP + FN)\n",
    "rfr"
   ]
  },
  {
   "cell_type": "code",
   "execution_count": 171,
   "id": "25893829-83ac-48af-9c35-88ca8512f93f",
   "metadata": {},
   "outputs": [
    {
     "data": {
      "text/plain": [
       "0.9879318381934014"
      ]
     },
     "execution_count": 171,
     "metadata": {},
     "output_type": "execute_result"
    }
   ],
   "source": [
    "rff1= 2* (rfp * rfr) / (rfp + rfr)\n",
    "rff1"
   ]
  },
  {
   "cell_type": "code",
   "execution_count": 172,
   "id": "7090d44f-8cb2-4160-b0a5-69197336820b",
   "metadata": {},
   "outputs": [
    {
     "data": {
      "text/plain": [
       "98.78284490414251"
      ]
     },
     "execution_count": 172,
     "metadata": {},
     "output_type": "execute_result"
    }
   ],
   "source": [
    "rf_acc=r_m1.diagonal().sum()/r_m1.sum()*100\n",
    "rf_acc"
   ]
  },
  {
   "cell_type": "code",
   "execution_count": 173,
   "id": "9e921ae3-7427-4afd-b1ba-5d91374749c2",
   "metadata": {},
   "outputs": [
    {
     "name": "stdout",
     "output_type": "stream",
     "text": [
      "              precision    recall  f1-score   support\n",
      "\n",
      "           0       0.98      1.00      0.99     18788\n",
      "           1       1.00      0.98      0.99     19498\n",
      "\n",
      "    accuracy                           0.99     38286\n",
      "   macro avg       0.99      0.99      0.99     38286\n",
      "weighted avg       0.99      0.99      0.99     38286\n",
      "\n"
     ]
    }
   ],
   "source": [
    "print(classification_report(rp11,y_te))"
   ]
  },
  {
   "cell_type": "markdown",
   "id": "e142b88b-320c-4438-9c0f-ab0dd594ffde",
   "metadata": {},
   "source": [
    "# KNN"
   ]
  },
  {
   "cell_type": "code",
   "execution_count": 174,
   "id": "8351332a-3360-4afe-8deb-ed657e35b376",
   "metadata": {},
   "outputs": [],
   "source": [
    "from sklearn.neighbors import KNeighborsClassifier\n",
    "knn=KNeighborsClassifier(n_neighbors=40)"
   ]
  },
  {
   "cell_type": "code",
   "execution_count": 175,
   "id": "82253cf9-4c43-4a54-88eb-36d1fcd4b50b",
   "metadata": {},
   "outputs": [
    {
     "data": {
      "text/html": [
       "<style>#sk-container-id-10 {color: black;background-color: white;}#sk-container-id-10 pre{padding: 0;}#sk-container-id-10 div.sk-toggleable {background-color: white;}#sk-container-id-10 label.sk-toggleable__label {cursor: pointer;display: block;width: 100%;margin-bottom: 0;padding: 0.3em;box-sizing: border-box;text-align: center;}#sk-container-id-10 label.sk-toggleable__label-arrow:before {content: \"▸\";float: left;margin-right: 0.25em;color: #696969;}#sk-container-id-10 label.sk-toggleable__label-arrow:hover:before {color: black;}#sk-container-id-10 div.sk-estimator:hover label.sk-toggleable__label-arrow:before {color: black;}#sk-container-id-10 div.sk-toggleable__content {max-height: 0;max-width: 0;overflow: hidden;text-align: left;background-color: #f0f8ff;}#sk-container-id-10 div.sk-toggleable__content pre {margin: 0.2em;color: black;border-radius: 0.25em;background-color: #f0f8ff;}#sk-container-id-10 input.sk-toggleable__control:checked~div.sk-toggleable__content {max-height: 200px;max-width: 100%;overflow: auto;}#sk-container-id-10 input.sk-toggleable__control:checked~label.sk-toggleable__label-arrow:before {content: \"▾\";}#sk-container-id-10 div.sk-estimator input.sk-toggleable__control:checked~label.sk-toggleable__label {background-color: #d4ebff;}#sk-container-id-10 div.sk-label input.sk-toggleable__control:checked~label.sk-toggleable__label {background-color: #d4ebff;}#sk-container-id-10 input.sk-hidden--visually {border: 0;clip: rect(1px 1px 1px 1px);clip: rect(1px, 1px, 1px, 1px);height: 1px;margin: -1px;overflow: hidden;padding: 0;position: absolute;width: 1px;}#sk-container-id-10 div.sk-estimator {font-family: monospace;background-color: #f0f8ff;border: 1px dotted black;border-radius: 0.25em;box-sizing: border-box;margin-bottom: 0.5em;}#sk-container-id-10 div.sk-estimator:hover {background-color: #d4ebff;}#sk-container-id-10 div.sk-parallel-item::after {content: \"\";width: 100%;border-bottom: 1px solid gray;flex-grow: 1;}#sk-container-id-10 div.sk-label:hover label.sk-toggleable__label {background-color: #d4ebff;}#sk-container-id-10 div.sk-serial::before {content: \"\";position: absolute;border-left: 1px solid gray;box-sizing: border-box;top: 0;bottom: 0;left: 50%;z-index: 0;}#sk-container-id-10 div.sk-serial {display: flex;flex-direction: column;align-items: center;background-color: white;padding-right: 0.2em;padding-left: 0.2em;position: relative;}#sk-container-id-10 div.sk-item {position: relative;z-index: 1;}#sk-container-id-10 div.sk-parallel {display: flex;align-items: stretch;justify-content: center;background-color: white;position: relative;}#sk-container-id-10 div.sk-item::before, #sk-container-id-10 div.sk-parallel-item::before {content: \"\";position: absolute;border-left: 1px solid gray;box-sizing: border-box;top: 0;bottom: 0;left: 50%;z-index: -1;}#sk-container-id-10 div.sk-parallel-item {display: flex;flex-direction: column;z-index: 1;position: relative;background-color: white;}#sk-container-id-10 div.sk-parallel-item:first-child::after {align-self: flex-end;width: 50%;}#sk-container-id-10 div.sk-parallel-item:last-child::after {align-self: flex-start;width: 50%;}#sk-container-id-10 div.sk-parallel-item:only-child::after {width: 0;}#sk-container-id-10 div.sk-dashed-wrapped {border: 1px dashed gray;margin: 0 0.4em 0.5em 0.4em;box-sizing: border-box;padding-bottom: 0.4em;background-color: white;}#sk-container-id-10 div.sk-label label {font-family: monospace;font-weight: bold;display: inline-block;line-height: 1.2em;}#sk-container-id-10 div.sk-label-container {text-align: center;}#sk-container-id-10 div.sk-container {/* jupyter's `normalize.less` sets `[hidden] { display: none; }` but bootstrap.min.css set `[hidden] { display: none !important; }` so we also need the `!important` here to be able to override the default hidden behavior on the sphinx rendered scikit-learn.org. See: https://github.com/scikit-learn/scikit-learn/issues/21755 */display: inline-block !important;position: relative;}#sk-container-id-10 div.sk-text-repr-fallback {display: none;}</style><div id=\"sk-container-id-10\" class=\"sk-top-container\"><div class=\"sk-text-repr-fallback\"><pre>KNeighborsClassifier(n_neighbors=40)</pre><b>In a Jupyter environment, please rerun this cell to show the HTML representation or trust the notebook. <br />On GitHub, the HTML representation is unable to render, please try loading this page with nbviewer.org.</b></div><div class=\"sk-container\" hidden><div class=\"sk-item\"><div class=\"sk-estimator sk-toggleable\"><input class=\"sk-toggleable__control sk-hidden--visually\" id=\"sk-estimator-id-10\" type=\"checkbox\" checked><label for=\"sk-estimator-id-10\" class=\"sk-toggleable__label sk-toggleable__label-arrow\">KNeighborsClassifier</label><div class=\"sk-toggleable__content\"><pre>KNeighborsClassifier(n_neighbors=40)</pre></div></div></div></div></div>"
      ],
      "text/plain": [
       "KNeighborsClassifier(n_neighbors=40)"
      ]
     },
     "execution_count": 175,
     "metadata": {},
     "output_type": "execute_result"
    }
   ],
   "source": [
    "knn.fit(x_tr,y_tr)"
   ]
  },
  {
   "cell_type": "code",
   "execution_count": 176,
   "id": "fe663d1c-564d-4ed0-b214-6d21e76193be",
   "metadata": {},
   "outputs": [],
   "source": [
    "kp11=knn.predict(x_te)"
   ]
  },
  {
   "cell_type": "code",
   "execution_count": 177,
   "id": "c427712a-2090-4b89-8c3e-17a88bcfec02",
   "metadata": {},
   "outputs": [
    {
     "data": {
      "text/plain": [
       "array([[15011,     3],\n",
       "       [ 4159, 19113]], dtype=int64)"
      ]
     },
     "execution_count": 177,
     "metadata": {},
     "output_type": "execute_result"
    }
   ],
   "source": [
    "k_c1=confusion_matrix(kp11,y_te)\n",
    "k_c1"
   ]
  },
  {
   "cell_type": "code",
   "execution_count": 178,
   "id": "c057958f-aa2e-4dff-b5d5-ae4e2216512a",
   "metadata": {},
   "outputs": [],
   "source": [
    "TN,FP,FN,TP =k_c1.ravel()"
   ]
  },
  {
   "cell_type": "code",
   "execution_count": 179,
   "id": "ba19ce68-4a96-43ca-a35f-9b50a6d52ceb",
   "metadata": {},
   "outputs": [
    {
     "data": {
      "text/plain": [
       "0.9998430634023855"
      ]
     },
     "execution_count": 179,
     "metadata": {},
     "output_type": "execute_result"
    }
   ],
   "source": [
    "k_p1= TP/ (TP + FP)\n",
    "k_p1"
   ]
  },
  {
   "cell_type": "code",
   "execution_count": 180,
   "id": "f67399a4-4402-4baa-a909-093b49ae2fba",
   "metadata": {},
   "outputs": [
    {
     "data": {
      "text/plain": [
       "0.8212873839807494"
      ]
     },
     "execution_count": 180,
     "metadata": {},
     "output_type": "execute_result"
    }
   ],
   "source": [
    "kr1= TP / (TP + FN)\n",
    "kr1"
   ]
  },
  {
   "cell_type": "code",
   "execution_count": 181,
   "id": "2d71c249-d89b-489b-a459-77defe0518ed",
   "metadata": {},
   "outputs": [
    {
     "data": {
      "text/plain": [
       "0.9018118335377937"
      ]
     },
     "execution_count": 181,
     "metadata": {},
     "output_type": "execute_result"
    }
   ],
   "source": [
    "kf11= 2* (k_p1 * kr1) / (k_p1 + kr1)\n",
    "kf11"
   ]
  },
  {
   "cell_type": "code",
   "execution_count": 182,
   "id": "18d7b061-fd13-48a0-a385-fbf21397fd67",
   "metadata": {},
   "outputs": [
    {
     "data": {
      "text/plain": [
       "89.12918560309251"
      ]
     },
     "execution_count": 182,
     "metadata": {},
     "output_type": "execute_result"
    }
   ],
   "source": [
    "k1_acc=k_c1.diagonal().sum()/k_c1.sum()*100\n",
    "k1_acc"
   ]
  },
  {
   "cell_type": "code",
   "execution_count": 183,
   "id": "02a5489d-4c6b-4a6f-9150-9182b4603eff",
   "metadata": {},
   "outputs": [
    {
     "name": "stdout",
     "output_type": "stream",
     "text": [
      "              precision    recall  f1-score   support\n",
      "\n",
      "           0       0.78      1.00      0.88     15014\n",
      "           1       1.00      0.82      0.90     23272\n",
      "\n",
      "    accuracy                           0.89     38286\n",
      "   macro avg       0.89      0.91      0.89     38286\n",
      "weighted avg       0.91      0.89      0.89     38286\n",
      "\n"
     ]
    }
   ],
   "source": [
    "print(classification_report(kp11,y_te))"
   ]
  },
  {
   "cell_type": "markdown",
   "id": "ba340ca5-fc34-4b29-a63a-1f5193255ed2",
   "metadata": {},
   "source": [
    "# SVM"
   ]
  },
  {
   "cell_type": "code",
   "execution_count": 184,
   "id": "c0d83598-8534-453a-b714-9a51de4978de",
   "metadata": {},
   "outputs": [],
   "source": [
    "#from sklearn.svm import SVC\n",
    "#svc=SVC()\n",
    "#svc.fit(x_tr,y_tr)\n",
    "#s_p1=svc.predict(x_te)\n",
    "#sm1=confusion_matrix(s_p1,y_te)\n",
    "#sm1\n",
    "#TN,FP,FN,TP =sm1.ravel()\n",
    "#s_p= TP/ (TP + FP)\n",
    "#s_p\n",
    "#s_r= TP / (TP + FN)\n",
    "#s_r\n",
    "#s_f1= 2* (s_p * s_r) / (s_p + s_r)\n",
    "#s_f1\n",
    "#s_acc1=sm1.diagonal().sum()/sm1.sum()*100\n",
    "#s_acc1\n",
    "#print(classification_report(s_p1,y_te))\n"
   ]
  },
  {
   "cell_type": "markdown",
   "id": "917776d6-1f31-44ce-966f-ccd2d993ae4e",
   "metadata": {},
   "source": [
    "# NAIVE BAYES"
   ]
  },
  {
   "cell_type": "code",
   "execution_count": 185,
   "id": "0e3b6916-a7bd-4e41-a37a-0cc66af692d8",
   "metadata": {},
   "outputs": [],
   "source": [
    "from sklearn.naive_bayes import MultinomialNB\n",
    "nb=MultinomialNB()"
   ]
  },
  {
   "cell_type": "code",
   "execution_count": 186,
   "id": "ceb7d7fe-9c70-4cbc-8e7b-6b144b225d91",
   "metadata": {},
   "outputs": [
    {
     "data": {
      "text/html": [
       "<style>#sk-container-id-11 {color: black;background-color: white;}#sk-container-id-11 pre{padding: 0;}#sk-container-id-11 div.sk-toggleable {background-color: white;}#sk-container-id-11 label.sk-toggleable__label {cursor: pointer;display: block;width: 100%;margin-bottom: 0;padding: 0.3em;box-sizing: border-box;text-align: center;}#sk-container-id-11 label.sk-toggleable__label-arrow:before {content: \"▸\";float: left;margin-right: 0.25em;color: #696969;}#sk-container-id-11 label.sk-toggleable__label-arrow:hover:before {color: black;}#sk-container-id-11 div.sk-estimator:hover label.sk-toggleable__label-arrow:before {color: black;}#sk-container-id-11 div.sk-toggleable__content {max-height: 0;max-width: 0;overflow: hidden;text-align: left;background-color: #f0f8ff;}#sk-container-id-11 div.sk-toggleable__content pre {margin: 0.2em;color: black;border-radius: 0.25em;background-color: #f0f8ff;}#sk-container-id-11 input.sk-toggleable__control:checked~div.sk-toggleable__content {max-height: 200px;max-width: 100%;overflow: auto;}#sk-container-id-11 input.sk-toggleable__control:checked~label.sk-toggleable__label-arrow:before {content: \"▾\";}#sk-container-id-11 div.sk-estimator input.sk-toggleable__control:checked~label.sk-toggleable__label {background-color: #d4ebff;}#sk-container-id-11 div.sk-label input.sk-toggleable__control:checked~label.sk-toggleable__label {background-color: #d4ebff;}#sk-container-id-11 input.sk-hidden--visually {border: 0;clip: rect(1px 1px 1px 1px);clip: rect(1px, 1px, 1px, 1px);height: 1px;margin: -1px;overflow: hidden;padding: 0;position: absolute;width: 1px;}#sk-container-id-11 div.sk-estimator {font-family: monospace;background-color: #f0f8ff;border: 1px dotted black;border-radius: 0.25em;box-sizing: border-box;margin-bottom: 0.5em;}#sk-container-id-11 div.sk-estimator:hover {background-color: #d4ebff;}#sk-container-id-11 div.sk-parallel-item::after {content: \"\";width: 100%;border-bottom: 1px solid gray;flex-grow: 1;}#sk-container-id-11 div.sk-label:hover label.sk-toggleable__label {background-color: #d4ebff;}#sk-container-id-11 div.sk-serial::before {content: \"\";position: absolute;border-left: 1px solid gray;box-sizing: border-box;top: 0;bottom: 0;left: 50%;z-index: 0;}#sk-container-id-11 div.sk-serial {display: flex;flex-direction: column;align-items: center;background-color: white;padding-right: 0.2em;padding-left: 0.2em;position: relative;}#sk-container-id-11 div.sk-item {position: relative;z-index: 1;}#sk-container-id-11 div.sk-parallel {display: flex;align-items: stretch;justify-content: center;background-color: white;position: relative;}#sk-container-id-11 div.sk-item::before, #sk-container-id-11 div.sk-parallel-item::before {content: \"\";position: absolute;border-left: 1px solid gray;box-sizing: border-box;top: 0;bottom: 0;left: 50%;z-index: -1;}#sk-container-id-11 div.sk-parallel-item {display: flex;flex-direction: column;z-index: 1;position: relative;background-color: white;}#sk-container-id-11 div.sk-parallel-item:first-child::after {align-self: flex-end;width: 50%;}#sk-container-id-11 div.sk-parallel-item:last-child::after {align-self: flex-start;width: 50%;}#sk-container-id-11 div.sk-parallel-item:only-child::after {width: 0;}#sk-container-id-11 div.sk-dashed-wrapped {border: 1px dashed gray;margin: 0 0.4em 0.5em 0.4em;box-sizing: border-box;padding-bottom: 0.4em;background-color: white;}#sk-container-id-11 div.sk-label label {font-family: monospace;font-weight: bold;display: inline-block;line-height: 1.2em;}#sk-container-id-11 div.sk-label-container {text-align: center;}#sk-container-id-11 div.sk-container {/* jupyter's `normalize.less` sets `[hidden] { display: none; }` but bootstrap.min.css set `[hidden] { display: none !important; }` so we also need the `!important` here to be able to override the default hidden behavior on the sphinx rendered scikit-learn.org. See: https://github.com/scikit-learn/scikit-learn/issues/21755 */display: inline-block !important;position: relative;}#sk-container-id-11 div.sk-text-repr-fallback {display: none;}</style><div id=\"sk-container-id-11\" class=\"sk-top-container\"><div class=\"sk-text-repr-fallback\"><pre>MultinomialNB()</pre><b>In a Jupyter environment, please rerun this cell to show the HTML representation or trust the notebook. <br />On GitHub, the HTML representation is unable to render, please try loading this page with nbviewer.org.</b></div><div class=\"sk-container\" hidden><div class=\"sk-item\"><div class=\"sk-estimator sk-toggleable\"><input class=\"sk-toggleable__control sk-hidden--visually\" id=\"sk-estimator-id-11\" type=\"checkbox\" checked><label for=\"sk-estimator-id-11\" class=\"sk-toggleable__label sk-toggleable__label-arrow\">MultinomialNB</label><div class=\"sk-toggleable__content\"><pre>MultinomialNB()</pre></div></div></div></div></div>"
      ],
      "text/plain": [
       "MultinomialNB()"
      ]
     },
     "execution_count": 186,
     "metadata": {},
     "output_type": "execute_result"
    }
   ],
   "source": [
    "nb.fit(x_tr,y_tr)"
   ]
  },
  {
   "cell_type": "code",
   "execution_count": 187,
   "id": "3dc30bd9-eaa5-48c0-9fe9-c36cd91f6fc3",
   "metadata": {},
   "outputs": [],
   "source": [
    "n_p1=nb.predict(x_te)"
   ]
  },
  {
   "cell_type": "code",
   "execution_count": 188,
   "id": "e48ed351-67b0-446f-ba2a-126acf263bba",
   "metadata": {},
   "outputs": [
    {
     "data": {
      "text/plain": [
       "array([[15433,  2531],\n",
       "       [ 3737, 16585]], dtype=int64)"
      ]
     },
     "execution_count": 188,
     "metadata": {},
     "output_type": "execute_result"
    }
   ],
   "source": [
    "n_m1=confusion_matrix(n_p1,y_te)\n",
    "n_m1"
   ]
  },
  {
   "cell_type": "code",
   "execution_count": 189,
   "id": "1f55cc21-f76f-439d-804b-c6653807110d",
   "metadata": {},
   "outputs": [],
   "source": [
    "TN,FP,FN,TP =n_m1.ravel()"
   ]
  },
  {
   "cell_type": "code",
   "execution_count": 190,
   "id": "8de14405-8cf6-482c-97ca-33351e6e8f54",
   "metadata": {},
   "outputs": [
    {
     "data": {
      "text/plain": [
       "0.867597823812513"
      ]
     },
     "execution_count": 190,
     "metadata": {},
     "output_type": "execute_result"
    }
   ],
   "source": [
    "n_p= TP/ (TP + FP)\n",
    "n_p"
   ]
  },
  {
   "cell_type": "code",
   "execution_count": 191,
   "id": "ed2bbb28-5d16-4afd-a524-919c3da3c295",
   "metadata": {},
   "outputs": [
    {
     "data": {
      "text/plain": [
       "0.8161106190335596"
      ]
     },
     "execution_count": 191,
     "metadata": {},
     "output_type": "execute_result"
    }
   ],
   "source": [
    "n_r= TP / (TP + FN)\n",
    "n_r"
   ]
  },
  {
   "cell_type": "code",
   "execution_count": 192,
   "id": "dc047874-ffab-4118-a231-af9f89624033",
   "metadata": {},
   "outputs": [
    {
     "data": {
      "text/plain": [
       "0.8410669912267357"
      ]
     },
     "execution_count": 192,
     "metadata": {},
     "output_type": "execute_result"
    }
   ],
   "source": [
    "n_f1= 2* (n_p * n_r) / (n_p + n_r)\n",
    "n_f1"
   ]
  },
  {
   "cell_type": "code",
   "execution_count": 193,
   "id": "3beb57a5-6e51-420b-9491-70edc294dc5e",
   "metadata": {},
   "outputs": [
    {
     "data": {
      "text/plain": [
       "83.62848038447474"
      ]
     },
     "execution_count": 193,
     "metadata": {},
     "output_type": "execute_result"
    }
   ],
   "source": [
    "n_ac1=n_m1.diagonal().sum()/n_m1.sum()*100\n",
    "n_ac1"
   ]
  },
  {
   "cell_type": "code",
   "execution_count": 194,
   "id": "e35f8608-a6d1-4787-860c-d1ac18bac102",
   "metadata": {},
   "outputs": [
    {
     "name": "stdout",
     "output_type": "stream",
     "text": [
      "              precision    recall  f1-score   support\n",
      "\n",
      "           0       0.81      0.86      0.83     17964\n",
      "           1       0.87      0.82      0.84     20322\n",
      "\n",
      "    accuracy                           0.84     38286\n",
      "   macro avg       0.84      0.84      0.84     38286\n",
      "weighted avg       0.84      0.84      0.84     38286\n",
      "\n"
     ]
    }
   ],
   "source": [
    "print(classification_report(n_p1,y_te))"
   ]
  },
  {
   "cell_type": "markdown",
   "id": "789fc906-d629-4418-8bf3-51b7dd8a35c7",
   "metadata": {},
   "source": [
    "# REPORT"
   ]
  },
  {
   "cell_type": "code",
   "execution_count": 195,
   "id": "c2c637b6-5208-4651-be66-2b7256970ca3",
   "metadata": {},
   "outputs": [],
   "source": [
    "list1=[\"LOGISTIC REGRESSION\",\"DECISION TREE\",\"RANDOM FOREST\",\"KNN\",\"NAIVE BAYES\"]\n",
    "list2=[uac1,d_ac1,rf_acc,k1_acc,n_ac1]\n",
    "list3=[ulp,udp,rfp,k_p1,n_p]\n",
    "list4=[ulr,udr,rfr,kr1,n_r]\n",
    "list5=[ulf1,udf1,rff1,kf11,n_f1]"
   ]
  },
  {
   "cell_type": "code",
   "execution_count": 196,
   "id": "30c51709-a04f-4801-a9f9-0015b2c53c1b",
   "metadata": {},
   "outputs": [
    {
     "data": {
      "text/html": [
       "<div>\n",
       "<style scoped>\n",
       "    .dataframe tbody tr th:only-of-type {\n",
       "        vertical-align: middle;\n",
       "    }\n",
       "\n",
       "    .dataframe tbody tr th {\n",
       "        vertical-align: top;\n",
       "    }\n",
       "\n",
       "    .dataframe thead th {\n",
       "        text-align: right;\n",
       "    }\n",
       "</style>\n",
       "<table border=\"1\" class=\"dataframe\">\n",
       "  <thead>\n",
       "    <tr style=\"text-align: right;\">\n",
       "      <th></th>\n",
       "      <th>MODEL NAME</th>\n",
       "      <th>ACCURACY</th>\n",
       "      <th>PRECISION</th>\n",
       "      <th>RECALL</th>\n",
       "      <th>F-1 SCORE</th>\n",
       "    </tr>\n",
       "  </thead>\n",
       "  <tbody>\n",
       "    <tr>\n",
       "      <th>0</th>\n",
       "      <td>LOGISTIC REGRESSION</td>\n",
       "      <td>90.753800</td>\n",
       "      <td>0.944183</td>\n",
       "      <td>0.879495</td>\n",
       "      <td>0.910692</td>\n",
       "    </tr>\n",
       "    <tr>\n",
       "      <th>1</th>\n",
       "      <td>DECISION TREE</td>\n",
       "      <td>98.688816</td>\n",
       "      <td>0.995135</td>\n",
       "      <td>0.978952</td>\n",
       "      <td>0.986977</td>\n",
       "    </tr>\n",
       "    <tr>\n",
       "      <th>2</th>\n",
       "      <td>RANDOM FOREST</td>\n",
       "      <td>98.782845</td>\n",
       "      <td>0.997803</td>\n",
       "      <td>0.978254</td>\n",
       "      <td>0.987932</td>\n",
       "    </tr>\n",
       "    <tr>\n",
       "      <th>3</th>\n",
       "      <td>KNN</td>\n",
       "      <td>89.129186</td>\n",
       "      <td>0.999843</td>\n",
       "      <td>0.821287</td>\n",
       "      <td>0.901812</td>\n",
       "    </tr>\n",
       "    <tr>\n",
       "      <th>4</th>\n",
       "      <td>NAIVE BAYES</td>\n",
       "      <td>83.628480</td>\n",
       "      <td>0.867598</td>\n",
       "      <td>0.816111</td>\n",
       "      <td>0.841067</td>\n",
       "    </tr>\n",
       "  </tbody>\n",
       "</table>\n",
       "</div>"
      ],
      "text/plain": [
       "            MODEL NAME   ACCURACY  PRECISION    RECALL  F-1 SCORE\n",
       "0  LOGISTIC REGRESSION  90.753800   0.944183  0.879495   0.910692\n",
       "1        DECISION TREE  98.688816   0.995135  0.978952   0.986977\n",
       "2        RANDOM FOREST  98.782845   0.997803  0.978254   0.987932\n",
       "3                  KNN  89.129186   0.999843  0.821287   0.901812\n",
       "4          NAIVE BAYES  83.628480   0.867598  0.816111   0.841067"
      ]
     },
     "execution_count": 196,
     "metadata": {},
     "output_type": "execute_result"
    }
   ],
   "source": [
    "result1=pd.DataFrame({\"MODEL NAME\":list1,\"ACCURACY\":list2,\"PRECISION\":list3,\"RECALL\":list4,\"F-1 SCORE\":list5})\n",
    "result1"
   ]
  },
  {
   "cell_type": "markdown",
   "id": "46626c67-fe8f-4b0a-8cbc-a213ec374f38",
   "metadata": {},
   "source": [
    " FROM ABOVE DATAFRAME LOGISTIC REGRESSION ARE BEST SUITED MODEL THAN OTHERS.OTHER SOME MODELS ARE OVERFITTED,AND SOME HAVING LESS ACCURACY."
   ]
  },
  {
   "cell_type": "markdown",
   "id": "86670b4f-166c-4f8c-8c79-3997fe455234",
   "metadata": {},
   "source": [
    "# FEATURE ENGINEERING"
   ]
  },
  {
   "cell_type": "markdown",
   "id": "63e006d2-f328-4d08-9ebb-ad862c33eba2",
   "metadata": {},
   "source": [
    "# CHI SQUARE TECHNIQUE"
   ]
  },
  {
   "cell_type": "code",
   "execution_count": 197,
   "id": "1bd370d4-759d-4a95-8ea9-6ee8fdc1629f",
   "metadata": {},
   "outputs": [],
   "source": [
    "#from sklearn.feature_selection import VarianceThreshold\n",
    "#from sklearn.feature_selection import SelectFromModel\n",
    "#from sklearn.ensemble import RandomForestClassifier\n",
    "#from sklearn.feature_selection import SelectKBest\n",
    "#from sklearn.feature_selection import chi2\n",
    "#cst=SelectKBest(score_func=chi2,k=\"all\")\n",
    "#cst_fit=cst.fit(x_smote,y_smote)\n",
    "#cst_fit\n",
    "#cst_score=cst_fit.scores_\n",
    "#cst_score\n",
    "#rdf2=pd.DataFrame(cst_score)\n",
    "#rdf2\n",
    "#rpdf3=pd.DataFrame({\"feature_score\":list(cst_score),\"columns\":list(x_smote)})\n",
    "#rpdf3"
   ]
  },
  {
   "cell_type": "markdown",
   "id": "6a04e2d1-f715-4cb2-acf1-2418a23f51a2",
   "metadata": {},
   "source": [
    "# DT-FEATURE TECHNIQUE"
   ]
  },
  {
   "cell_type": "code",
   "execution_count": 198,
   "id": "3beff3f5-c1c7-4073-8f7b-e47043baf8e2",
   "metadata": {},
   "outputs": [],
   "source": [
    "#from sklearn.tree import DecisionTreeClassifier\n",
    "#dt=DecisionTreeClassifier()\n",
    "#dt.fit(x_tr,y_tr)\n",
    "#d_p=dt.predict(x_te)\n",
    "#from sklearn.metrics import confusion_matrix\n",
    "#d_m=confusion_matrix(d_p,y_te)\n",
    "#d_m\n",
    "#d_ac=d_m.diagonal().sum()/d_m.sum()*100\n",
    "#d_ac\n",
    "#from sklearn.metrics import classification_report\n",
    "#print(classification_report(d_p,y_te)) \n",
    "#dt.feature_importances_\n",
    "#df=pd.DataFrame(dt.feature_importances_)\n",
    "#df\n",
    "#pdf1=pd.DataFrame({\"feature_score\":list(dt.feature_importances_),\"columns\":list(x_smote)})\n",
    "#pdf1\n"
   ]
  },
  {
   "cell_type": "markdown",
   "id": "c8a697f1-bc3e-4266-82cd-bbc409e573cf",
   "metadata": {},
   "source": [
    "# RF-FEATURE TECHNIQUE"
   ]
  },
  {
   "cell_type": "code",
   "execution_count": 199,
   "id": "d35d0157-b9b8-4e56-91e3-1fd0faba864d",
   "metadata": {},
   "outputs": [],
   "source": [
    "#from sklearn.ensemble import RandomForestClassifier\n",
    "#rf=RandomForestClassifier()\n",
    "#rf.fit(x_tr,y_tr)\n",
    "#fr_p=rf.predict(x_te)\n",
    "#fr_m=confusion_matrix(fr_p,y_te)\n",
    "#fr_m\n",
    "#fr_ac=fr_m.diagonal().sum()/fr_m.sum()*100\n",
    "#fr_ac\n",
    "#print(classification_report(fr_p,y_te))\n",
    "#rf.feature_importances_\n",
    "#df1=pd.DataFrame(rf.feature_importances_)\n",
    "#df1\n",
    "#pdf2=pd.DataFrame({\"feature_score\":list(rf.feature_importances_),\"columns\":list(x_smote)})\n",
    "#pdf2\n",
    "\n"
   ]
  },
  {
   "cell_type": "markdown",
   "id": "836ddbf7-848f-4966-80f1-5e2ec56a05bd",
   "metadata": {},
   "source": [
    "# RFE(Recursive feature elimination)"
   ]
  },
  {
   "cell_type": "code",
   "execution_count": 200,
   "id": "f60c318d-92ff-48bc-884c-2ba6010a8988",
   "metadata": {},
   "outputs": [],
   "source": [
    "from sklearn.feature_selection import RFE"
   ]
  },
  {
   "cell_type": "code",
   "execution_count": 201,
   "id": "326e4f25-323b-4f51-9ac1-8dfc5b951749",
   "metadata": {},
   "outputs": [],
   "source": [
    "rfe=RFE(rf)"
   ]
  },
  {
   "cell_type": "code",
   "execution_count": 202,
   "id": "af126a3d-1af3-4f30-81af-6ccf0317627f",
   "metadata": {},
   "outputs": [
    {
     "data": {
      "text/html": [
       "<style>#sk-container-id-12 {color: black;background-color: white;}#sk-container-id-12 pre{padding: 0;}#sk-container-id-12 div.sk-toggleable {background-color: white;}#sk-container-id-12 label.sk-toggleable__label {cursor: pointer;display: block;width: 100%;margin-bottom: 0;padding: 0.3em;box-sizing: border-box;text-align: center;}#sk-container-id-12 label.sk-toggleable__label-arrow:before {content: \"▸\";float: left;margin-right: 0.25em;color: #696969;}#sk-container-id-12 label.sk-toggleable__label-arrow:hover:before {color: black;}#sk-container-id-12 div.sk-estimator:hover label.sk-toggleable__label-arrow:before {color: black;}#sk-container-id-12 div.sk-toggleable__content {max-height: 0;max-width: 0;overflow: hidden;text-align: left;background-color: #f0f8ff;}#sk-container-id-12 div.sk-toggleable__content pre {margin: 0.2em;color: black;border-radius: 0.25em;background-color: #f0f8ff;}#sk-container-id-12 input.sk-toggleable__control:checked~div.sk-toggleable__content {max-height: 200px;max-width: 100%;overflow: auto;}#sk-container-id-12 input.sk-toggleable__control:checked~label.sk-toggleable__label-arrow:before {content: \"▾\";}#sk-container-id-12 div.sk-estimator input.sk-toggleable__control:checked~label.sk-toggleable__label {background-color: #d4ebff;}#sk-container-id-12 div.sk-label input.sk-toggleable__control:checked~label.sk-toggleable__label {background-color: #d4ebff;}#sk-container-id-12 input.sk-hidden--visually {border: 0;clip: rect(1px 1px 1px 1px);clip: rect(1px, 1px, 1px, 1px);height: 1px;margin: -1px;overflow: hidden;padding: 0;position: absolute;width: 1px;}#sk-container-id-12 div.sk-estimator {font-family: monospace;background-color: #f0f8ff;border: 1px dotted black;border-radius: 0.25em;box-sizing: border-box;margin-bottom: 0.5em;}#sk-container-id-12 div.sk-estimator:hover {background-color: #d4ebff;}#sk-container-id-12 div.sk-parallel-item::after {content: \"\";width: 100%;border-bottom: 1px solid gray;flex-grow: 1;}#sk-container-id-12 div.sk-label:hover label.sk-toggleable__label {background-color: #d4ebff;}#sk-container-id-12 div.sk-serial::before {content: \"\";position: absolute;border-left: 1px solid gray;box-sizing: border-box;top: 0;bottom: 0;left: 50%;z-index: 0;}#sk-container-id-12 div.sk-serial {display: flex;flex-direction: column;align-items: center;background-color: white;padding-right: 0.2em;padding-left: 0.2em;position: relative;}#sk-container-id-12 div.sk-item {position: relative;z-index: 1;}#sk-container-id-12 div.sk-parallel {display: flex;align-items: stretch;justify-content: center;background-color: white;position: relative;}#sk-container-id-12 div.sk-item::before, #sk-container-id-12 div.sk-parallel-item::before {content: \"\";position: absolute;border-left: 1px solid gray;box-sizing: border-box;top: 0;bottom: 0;left: 50%;z-index: -1;}#sk-container-id-12 div.sk-parallel-item {display: flex;flex-direction: column;z-index: 1;position: relative;background-color: white;}#sk-container-id-12 div.sk-parallel-item:first-child::after {align-self: flex-end;width: 50%;}#sk-container-id-12 div.sk-parallel-item:last-child::after {align-self: flex-start;width: 50%;}#sk-container-id-12 div.sk-parallel-item:only-child::after {width: 0;}#sk-container-id-12 div.sk-dashed-wrapped {border: 1px dashed gray;margin: 0 0.4em 0.5em 0.4em;box-sizing: border-box;padding-bottom: 0.4em;background-color: white;}#sk-container-id-12 div.sk-label label {font-family: monospace;font-weight: bold;display: inline-block;line-height: 1.2em;}#sk-container-id-12 div.sk-label-container {text-align: center;}#sk-container-id-12 div.sk-container {/* jupyter's `normalize.less` sets `[hidden] { display: none; }` but bootstrap.min.css set `[hidden] { display: none !important; }` so we also need the `!important` here to be able to override the default hidden behavior on the sphinx rendered scikit-learn.org. See: https://github.com/scikit-learn/scikit-learn/issues/21755 */display: inline-block !important;position: relative;}#sk-container-id-12 div.sk-text-repr-fallback {display: none;}</style><div id=\"sk-container-id-12\" class=\"sk-top-container\"><div class=\"sk-text-repr-fallback\"><pre>RFE(estimator=RandomForestClassifier())</pre><b>In a Jupyter environment, please rerun this cell to show the HTML representation or trust the notebook. <br />On GitHub, the HTML representation is unable to render, please try loading this page with nbviewer.org.</b></div><div class=\"sk-container\" hidden><div class=\"sk-item sk-dashed-wrapped\"><div class=\"sk-label-container\"><div class=\"sk-label sk-toggleable\"><input class=\"sk-toggleable__control sk-hidden--visually\" id=\"sk-estimator-id-12\" type=\"checkbox\" ><label for=\"sk-estimator-id-12\" class=\"sk-toggleable__label sk-toggleable__label-arrow\">RFE</label><div class=\"sk-toggleable__content\"><pre>RFE(estimator=RandomForestClassifier())</pre></div></div></div><div class=\"sk-parallel\"><div class=\"sk-parallel-item\"><div class=\"sk-item\"><div class=\"sk-label-container\"><div class=\"sk-label sk-toggleable\"><input class=\"sk-toggleable__control sk-hidden--visually\" id=\"sk-estimator-id-13\" type=\"checkbox\" ><label for=\"sk-estimator-id-13\" class=\"sk-toggleable__label sk-toggleable__label-arrow\">estimator: RandomForestClassifier</label><div class=\"sk-toggleable__content\"><pre>RandomForestClassifier()</pre></div></div></div><div class=\"sk-serial\"><div class=\"sk-item\"><div class=\"sk-estimator sk-toggleable\"><input class=\"sk-toggleable__control sk-hidden--visually\" id=\"sk-estimator-id-14\" type=\"checkbox\" ><label for=\"sk-estimator-id-14\" class=\"sk-toggleable__label sk-toggleable__label-arrow\">RandomForestClassifier</label><div class=\"sk-toggleable__content\"><pre>RandomForestClassifier()</pre></div></div></div></div></div></div></div></div></div></div>"
      ],
      "text/plain": [
       "RFE(estimator=RandomForestClassifier())"
      ]
     },
     "execution_count": 202,
     "metadata": {},
     "output_type": "execute_result"
    }
   ],
   "source": [
    "rfe.fit(x_smote,y_smote)"
   ]
  },
  {
   "cell_type": "code",
   "execution_count": 203,
   "id": "fa739e8b-b43e-4acc-9ff6-e042bfa3d7be",
   "metadata": {},
   "outputs": [
    {
     "data": {
      "text/plain": [
       "array([ True, False, False, False,  True,  True,  True,  True,  True,\n",
       "       False, False, False, False, False,  True])"
      ]
     },
     "execution_count": 203,
     "metadata": {},
     "output_type": "execute_result"
    }
   ],
   "source": [
    "rfe.support_ "
   ]
  },
  {
   "cell_type": "code",
   "execution_count": 204,
   "id": "a6881d4c-2199-4e78-af14-ccf128b8f0e0",
   "metadata": {},
   "outputs": [
    {
     "data": {
      "text/html": [
       "<div>\n",
       "<style scoped>\n",
       "    .dataframe tbody tr th:only-of-type {\n",
       "        vertical-align: middle;\n",
       "    }\n",
       "\n",
       "    .dataframe tbody tr th {\n",
       "        vertical-align: top;\n",
       "    }\n",
       "\n",
       "    .dataframe thead th {\n",
       "        text-align: right;\n",
       "    }\n",
       "</style>\n",
       "<table border=\"1\" class=\"dataframe\">\n",
       "  <thead>\n",
       "    <tr style=\"text-align: right;\">\n",
       "      <th></th>\n",
       "      <th>0</th>\n",
       "    </tr>\n",
       "  </thead>\n",
       "  <tbody>\n",
       "    <tr>\n",
       "      <th>0</th>\n",
       "      <td>True</td>\n",
       "    </tr>\n",
       "    <tr>\n",
       "      <th>1</th>\n",
       "      <td>False</td>\n",
       "    </tr>\n",
       "    <tr>\n",
       "      <th>2</th>\n",
       "      <td>False</td>\n",
       "    </tr>\n",
       "    <tr>\n",
       "      <th>3</th>\n",
       "      <td>False</td>\n",
       "    </tr>\n",
       "    <tr>\n",
       "      <th>4</th>\n",
       "      <td>True</td>\n",
       "    </tr>\n",
       "    <tr>\n",
       "      <th>5</th>\n",
       "      <td>True</td>\n",
       "    </tr>\n",
       "    <tr>\n",
       "      <th>6</th>\n",
       "      <td>True</td>\n",
       "    </tr>\n",
       "    <tr>\n",
       "      <th>7</th>\n",
       "      <td>True</td>\n",
       "    </tr>\n",
       "    <tr>\n",
       "      <th>8</th>\n",
       "      <td>True</td>\n",
       "    </tr>\n",
       "    <tr>\n",
       "      <th>9</th>\n",
       "      <td>False</td>\n",
       "    </tr>\n",
       "    <tr>\n",
       "      <th>10</th>\n",
       "      <td>False</td>\n",
       "    </tr>\n",
       "    <tr>\n",
       "      <th>11</th>\n",
       "      <td>False</td>\n",
       "    </tr>\n",
       "    <tr>\n",
       "      <th>12</th>\n",
       "      <td>False</td>\n",
       "    </tr>\n",
       "    <tr>\n",
       "      <th>13</th>\n",
       "      <td>False</td>\n",
       "    </tr>\n",
       "    <tr>\n",
       "      <th>14</th>\n",
       "      <td>True</td>\n",
       "    </tr>\n",
       "  </tbody>\n",
       "</table>\n",
       "</div>"
      ],
      "text/plain": [
       "        0\n",
       "0    True\n",
       "1   False\n",
       "2   False\n",
       "3   False\n",
       "4    True\n",
       "5    True\n",
       "6    True\n",
       "7    True\n",
       "8    True\n",
       "9   False\n",
       "10  False\n",
       "11  False\n",
       "12  False\n",
       "13  False\n",
       "14   True"
      ]
     },
     "execution_count": 204,
     "metadata": {},
     "output_type": "execute_result"
    }
   ],
   "source": [
    "df3=pd.DataFrame(rfe.support_)\n",
    "df3"
   ]
  },
  {
   "cell_type": "code",
   "execution_count": 205,
   "id": "0d1846c4-9731-456c-bd14-508b128cf200",
   "metadata": {},
   "outputs": [
    {
     "data": {
      "text/html": [
       "<div>\n",
       "<style scoped>\n",
       "    .dataframe tbody tr th:only-of-type {\n",
       "        vertical-align: middle;\n",
       "    }\n",
       "\n",
       "    .dataframe tbody tr th {\n",
       "        vertical-align: top;\n",
       "    }\n",
       "\n",
       "    .dataframe thead th {\n",
       "        text-align: right;\n",
       "    }\n",
       "</style>\n",
       "<table border=\"1\" class=\"dataframe\">\n",
       "  <thead>\n",
       "    <tr style=\"text-align: right;\">\n",
       "      <th></th>\n",
       "      <th>feature_score</th>\n",
       "      <th>columns</th>\n",
       "    </tr>\n",
       "  </thead>\n",
       "  <tbody>\n",
       "    <tr>\n",
       "      <th>0</th>\n",
       "      <td>True</td>\n",
       "      <td>Age</td>\n",
       "    </tr>\n",
       "    <tr>\n",
       "      <th>1</th>\n",
       "      <td>False</td>\n",
       "      <td>Gender</td>\n",
       "    </tr>\n",
       "    <tr>\n",
       "      <th>2</th>\n",
       "      <td>False</td>\n",
       "      <td>Family History</td>\n",
       "    </tr>\n",
       "    <tr>\n",
       "      <th>3</th>\n",
       "      <td>False</td>\n",
       "      <td>Personal History</td>\n",
       "    </tr>\n",
       "    <tr>\n",
       "      <th>4</th>\n",
       "      <td>True</td>\n",
       "      <td>Current Stressors</td>\n",
       "    </tr>\n",
       "    <tr>\n",
       "      <th>5</th>\n",
       "      <td>True</td>\n",
       "      <td>Symptoms</td>\n",
       "    </tr>\n",
       "    <tr>\n",
       "      <th>6</th>\n",
       "      <td>True</td>\n",
       "      <td>Severity</td>\n",
       "    </tr>\n",
       "    <tr>\n",
       "      <th>7</th>\n",
       "      <td>True</td>\n",
       "      <td>Impact on Life</td>\n",
       "    </tr>\n",
       "    <tr>\n",
       "      <th>8</th>\n",
       "      <td>True</td>\n",
       "      <td>Demographics</td>\n",
       "    </tr>\n",
       "    <tr>\n",
       "      <th>9</th>\n",
       "      <td>False</td>\n",
       "      <td>Medical History</td>\n",
       "    </tr>\n",
       "    <tr>\n",
       "      <th>10</th>\n",
       "      <td>False</td>\n",
       "      <td>Psychiatric History</td>\n",
       "    </tr>\n",
       "    <tr>\n",
       "      <th>11</th>\n",
       "      <td>False</td>\n",
       "      <td>Substance Use</td>\n",
       "    </tr>\n",
       "    <tr>\n",
       "      <th>12</th>\n",
       "      <td>False</td>\n",
       "      <td>Coping Mechanisms</td>\n",
       "    </tr>\n",
       "    <tr>\n",
       "      <th>13</th>\n",
       "      <td>False</td>\n",
       "      <td>Social Support</td>\n",
       "    </tr>\n",
       "    <tr>\n",
       "      <th>14</th>\n",
       "      <td>True</td>\n",
       "      <td>Lifestyle Factors</td>\n",
       "    </tr>\n",
       "  </tbody>\n",
       "</table>\n",
       "</div>"
      ],
      "text/plain": [
       "    feature_score              columns\n",
       "0            True                  Age\n",
       "1           False               Gender\n",
       "2           False       Family History\n",
       "3           False     Personal History\n",
       "4            True    Current Stressors\n",
       "5            True             Symptoms\n",
       "6            True             Severity\n",
       "7            True       Impact on Life\n",
       "8            True         Demographics\n",
       "9           False      Medical History\n",
       "10          False  Psychiatric History\n",
       "11          False        Substance Use\n",
       "12          False    Coping Mechanisms\n",
       "13          False       Social Support\n",
       "14           True    Lifestyle Factors"
      ]
     },
     "execution_count": 205,
     "metadata": {},
     "output_type": "execute_result"
    }
   ],
   "source": [
    "pdf4=pd.DataFrame({\"feature_score\":list(rfe.support_),\"columns\":list(x_smote.iloc[:,0:15])})\n",
    "pdf4"
   ]
  },
  {
   "cell_type": "code",
   "execution_count": 206,
   "id": "e73e4d81-dab7-4f63-bd24-93b898751419",
   "metadata": {},
   "outputs": [],
   "source": [
    "unwanted_columns =[\"Gender\",\"Family History\",\"Personal History\",\"Medical History\",\"Psychiatric History\",\"Substance Use\",\"Coping Mechanisms\",\"Social Support\",]\n",
    "data2=x_smote.drop(unwanted_columns, axis=1)"
   ]
  },
  {
   "cell_type": "code",
   "execution_count": 207,
   "id": "635962f0-a600-4297-9630-9315c8544848",
   "metadata": {},
   "outputs": [
    {
     "data": {
      "text/html": [
       "<div>\n",
       "<style scoped>\n",
       "    .dataframe tbody tr th:only-of-type {\n",
       "        vertical-align: middle;\n",
       "    }\n",
       "\n",
       "    .dataframe tbody tr th {\n",
       "        vertical-align: top;\n",
       "    }\n",
       "\n",
       "    .dataframe thead th {\n",
       "        text-align: right;\n",
       "    }\n",
       "</style>\n",
       "<table border=\"1\" class=\"dataframe\">\n",
       "  <thead>\n",
       "    <tr style=\"text-align: right;\">\n",
       "      <th></th>\n",
       "      <th>Age</th>\n",
       "      <th>Current Stressors</th>\n",
       "      <th>Symptoms</th>\n",
       "      <th>Severity</th>\n",
       "      <th>Impact on Life</th>\n",
       "      <th>Demographics</th>\n",
       "      <th>Lifestyle Factors</th>\n",
       "    </tr>\n",
       "  </thead>\n",
       "  <tbody>\n",
       "    <tr>\n",
       "      <th>0</th>\n",
       "      <td>38</td>\n",
       "      <td>2</td>\n",
       "      <td>4</td>\n",
       "      <td>0</td>\n",
       "      <td>0</td>\n",
       "      <td>0</td>\n",
       "      <td>2</td>\n",
       "    </tr>\n",
       "    <tr>\n",
       "      <th>1</th>\n",
       "      <td>51</td>\n",
       "      <td>0</td>\n",
       "      <td>3</td>\n",
       "      <td>0</td>\n",
       "      <td>0</td>\n",
       "      <td>1</td>\n",
       "      <td>2</td>\n",
       "    </tr>\n",
       "    <tr>\n",
       "      <th>2</th>\n",
       "      <td>32</td>\n",
       "      <td>0</td>\n",
       "      <td>3</td>\n",
       "      <td>0</td>\n",
       "      <td>2</td>\n",
       "      <td>1</td>\n",
       "      <td>1</td>\n",
       "    </tr>\n",
       "    <tr>\n",
       "      <th>3</th>\n",
       "      <td>64</td>\n",
       "      <td>2</td>\n",
       "      <td>0</td>\n",
       "      <td>1</td>\n",
       "      <td>1</td>\n",
       "      <td>0</td>\n",
       "      <td>1</td>\n",
       "    </tr>\n",
       "    <tr>\n",
       "      <th>4</th>\n",
       "      <td>31</td>\n",
       "      <td>2</td>\n",
       "      <td>3</td>\n",
       "      <td>0</td>\n",
       "      <td>1</td>\n",
       "      <td>0</td>\n",
       "      <td>2</td>\n",
       "    </tr>\n",
       "    <tr>\n",
       "      <th>...</th>\n",
       "      <td>...</td>\n",
       "      <td>...</td>\n",
       "      <td>...</td>\n",
       "      <td>...</td>\n",
       "      <td>...</td>\n",
       "      <td>...</td>\n",
       "      <td>...</td>\n",
       "    </tr>\n",
       "    <tr>\n",
       "      <th>191425</th>\n",
       "      <td>53</td>\n",
       "      <td>1</td>\n",
       "      <td>3</td>\n",
       "      <td>0</td>\n",
       "      <td>2</td>\n",
       "      <td>0</td>\n",
       "      <td>2</td>\n",
       "    </tr>\n",
       "    <tr>\n",
       "      <th>191426</th>\n",
       "      <td>22</td>\n",
       "      <td>0</td>\n",
       "      <td>0</td>\n",
       "      <td>2</td>\n",
       "      <td>0</td>\n",
       "      <td>0</td>\n",
       "      <td>2</td>\n",
       "    </tr>\n",
       "    <tr>\n",
       "      <th>191427</th>\n",
       "      <td>41</td>\n",
       "      <td>0</td>\n",
       "      <td>1</td>\n",
       "      <td>1</td>\n",
       "      <td>2</td>\n",
       "      <td>1</td>\n",
       "      <td>2</td>\n",
       "    </tr>\n",
       "    <tr>\n",
       "      <th>191428</th>\n",
       "      <td>63</td>\n",
       "      <td>0</td>\n",
       "      <td>4</td>\n",
       "      <td>0</td>\n",
       "      <td>2</td>\n",
       "      <td>0</td>\n",
       "      <td>2</td>\n",
       "    </tr>\n",
       "    <tr>\n",
       "      <th>191429</th>\n",
       "      <td>62</td>\n",
       "      <td>0</td>\n",
       "      <td>1</td>\n",
       "      <td>2</td>\n",
       "      <td>1</td>\n",
       "      <td>0</td>\n",
       "      <td>2</td>\n",
       "    </tr>\n",
       "  </tbody>\n",
       "</table>\n",
       "<p>191430 rows × 7 columns</p>\n",
       "</div>"
      ],
      "text/plain": [
       "        Age  Current Stressors  Symptoms  Severity  Impact on Life  \\\n",
       "0        38                  2         4         0               0   \n",
       "1        51                  0         3         0               0   \n",
       "2        32                  0         3         0               2   \n",
       "3        64                  2         0         1               1   \n",
       "4        31                  2         3         0               1   \n",
       "...     ...                ...       ...       ...             ...   \n",
       "191425   53                  1         3         0               2   \n",
       "191426   22                  0         0         2               0   \n",
       "191427   41                  0         1         1               2   \n",
       "191428   63                  0         4         0               2   \n",
       "191429   62                  0         1         2               1   \n",
       "\n",
       "        Demographics  Lifestyle Factors  \n",
       "0                  0                  2  \n",
       "1                  1                  2  \n",
       "2                  1                  1  \n",
       "3                  0                  1  \n",
       "4                  0                  2  \n",
       "...              ...                ...  \n",
       "191425             0                  2  \n",
       "191426             0                  2  \n",
       "191427             1                  2  \n",
       "191428             0                  2  \n",
       "191429             0                  2  \n",
       "\n",
       "[191430 rows x 7 columns]"
      ]
     },
     "execution_count": 207,
     "metadata": {},
     "output_type": "execute_result"
    }
   ],
   "source": [
    "data2"
   ]
  },
  {
   "cell_type": "markdown",
   "id": "c0989bc6-fffc-43d7-b98f-07911ca5051f",
   "metadata": {},
   "source": [
    "# MODEL BUILDING"
   ]
  },
  {
   "cell_type": "code",
   "execution_count": 208,
   "id": "0f6d615e-2029-4403-a962-df28383e2ffd",
   "metadata": {},
   "outputs": [],
   "source": [
    "x3=data2\n",
    "y3=y_smote"
   ]
  },
  {
   "cell_type": "code",
   "execution_count": 209,
   "id": "3a16aabd-3d93-46d1-b355-158fb02f02dd",
   "metadata": {},
   "outputs": [
    {
     "data": {
      "text/html": [
       "<div>\n",
       "<style scoped>\n",
       "    .dataframe tbody tr th:only-of-type {\n",
       "        vertical-align: middle;\n",
       "    }\n",
       "\n",
       "    .dataframe tbody tr th {\n",
       "        vertical-align: top;\n",
       "    }\n",
       "\n",
       "    .dataframe thead th {\n",
       "        text-align: right;\n",
       "    }\n",
       "</style>\n",
       "<table border=\"1\" class=\"dataframe\">\n",
       "  <thead>\n",
       "    <tr style=\"text-align: right;\">\n",
       "      <th></th>\n",
       "      <th>Age</th>\n",
       "      <th>Current Stressors</th>\n",
       "      <th>Symptoms</th>\n",
       "      <th>Severity</th>\n",
       "      <th>Impact on Life</th>\n",
       "      <th>Demographics</th>\n",
       "      <th>Lifestyle Factors</th>\n",
       "    </tr>\n",
       "  </thead>\n",
       "  <tbody>\n",
       "    <tr>\n",
       "      <th>0</th>\n",
       "      <td>38</td>\n",
       "      <td>2</td>\n",
       "      <td>4</td>\n",
       "      <td>0</td>\n",
       "      <td>0</td>\n",
       "      <td>0</td>\n",
       "      <td>2</td>\n",
       "    </tr>\n",
       "    <tr>\n",
       "      <th>1</th>\n",
       "      <td>51</td>\n",
       "      <td>0</td>\n",
       "      <td>3</td>\n",
       "      <td>0</td>\n",
       "      <td>0</td>\n",
       "      <td>1</td>\n",
       "      <td>2</td>\n",
       "    </tr>\n",
       "  </tbody>\n",
       "</table>\n",
       "</div>"
      ],
      "text/plain": [
       "   Age  Current Stressors  Symptoms  Severity  Impact on Life  Demographics  \\\n",
       "0   38                  2         4         0               0             0   \n",
       "1   51                  0         3         0               0             1   \n",
       "\n",
       "   Lifestyle Factors  \n",
       "0                  2  \n",
       "1                  2  "
      ]
     },
     "execution_count": 209,
     "metadata": {},
     "output_type": "execute_result"
    }
   ],
   "source": [
    "x3.head(2)"
   ]
  },
  {
   "cell_type": "code",
   "execution_count": 210,
   "id": "5a3b6139-1d72-4f9f-90de-7bb79033d9ca",
   "metadata": {},
   "outputs": [
    {
     "data": {
      "text/plain": [
       "0    0\n",
       "1    0\n",
       "Name: Panic Disorder Diagnosis, dtype: int64"
      ]
     },
     "execution_count": 210,
     "metadata": {},
     "output_type": "execute_result"
    }
   ],
   "source": [
    "y3.head(2)"
   ]
  },
  {
   "cell_type": "code",
   "execution_count": 211,
   "id": "91e765c9-59f4-4d4c-9f4f-094e95a08d4c",
   "metadata": {},
   "outputs": [],
   "source": [
    "x3_tr,x3_te,y3_tr,y3_te=train_test_split(x3,y3,test_size=0.2,random_state=101)"
   ]
  },
  {
   "cell_type": "code",
   "execution_count": 212,
   "id": "afce82b5-4004-4ec5-9433-d85b8803e911",
   "metadata": {},
   "outputs": [
    {
     "data": {
      "text/plain": [
       "((153144, 7), (38286, 7), (153144,), (38286,))"
      ]
     },
     "execution_count": 212,
     "metadata": {},
     "output_type": "execute_result"
    }
   ],
   "source": [
    "x3_tr.shape,x3_te.shape,y3_tr.shape,y3_te.shape"
   ]
  },
  {
   "cell_type": "markdown",
   "id": "c610f6d4-98c5-4f60-8f57-f8b1013c92e4",
   "metadata": {},
   "source": [
    "# LOGISTIC REGRESSION"
   ]
  },
  {
   "cell_type": "code",
   "execution_count": 213,
   "id": "672b90b0-5665-4f46-acac-9ea0b46f66aa",
   "metadata": {},
   "outputs": [],
   "source": [
    "from sklearn.linear_model import LogisticRegression\n",
    "lg= LogisticRegression()"
   ]
  },
  {
   "cell_type": "code",
   "execution_count": 214,
   "id": "80290f43-ba4a-446b-b098-b8ce0779aad3",
   "metadata": {},
   "outputs": [
    {
     "data": {
      "text/html": [
       "<style>#sk-container-id-13 {color: black;background-color: white;}#sk-container-id-13 pre{padding: 0;}#sk-container-id-13 div.sk-toggleable {background-color: white;}#sk-container-id-13 label.sk-toggleable__label {cursor: pointer;display: block;width: 100%;margin-bottom: 0;padding: 0.3em;box-sizing: border-box;text-align: center;}#sk-container-id-13 label.sk-toggleable__label-arrow:before {content: \"▸\";float: left;margin-right: 0.25em;color: #696969;}#sk-container-id-13 label.sk-toggleable__label-arrow:hover:before {color: black;}#sk-container-id-13 div.sk-estimator:hover label.sk-toggleable__label-arrow:before {color: black;}#sk-container-id-13 div.sk-toggleable__content {max-height: 0;max-width: 0;overflow: hidden;text-align: left;background-color: #f0f8ff;}#sk-container-id-13 div.sk-toggleable__content pre {margin: 0.2em;color: black;border-radius: 0.25em;background-color: #f0f8ff;}#sk-container-id-13 input.sk-toggleable__control:checked~div.sk-toggleable__content {max-height: 200px;max-width: 100%;overflow: auto;}#sk-container-id-13 input.sk-toggleable__control:checked~label.sk-toggleable__label-arrow:before {content: \"▾\";}#sk-container-id-13 div.sk-estimator input.sk-toggleable__control:checked~label.sk-toggleable__label {background-color: #d4ebff;}#sk-container-id-13 div.sk-label input.sk-toggleable__control:checked~label.sk-toggleable__label {background-color: #d4ebff;}#sk-container-id-13 input.sk-hidden--visually {border: 0;clip: rect(1px 1px 1px 1px);clip: rect(1px, 1px, 1px, 1px);height: 1px;margin: -1px;overflow: hidden;padding: 0;position: absolute;width: 1px;}#sk-container-id-13 div.sk-estimator {font-family: monospace;background-color: #f0f8ff;border: 1px dotted black;border-radius: 0.25em;box-sizing: border-box;margin-bottom: 0.5em;}#sk-container-id-13 div.sk-estimator:hover {background-color: #d4ebff;}#sk-container-id-13 div.sk-parallel-item::after {content: \"\";width: 100%;border-bottom: 1px solid gray;flex-grow: 1;}#sk-container-id-13 div.sk-label:hover label.sk-toggleable__label {background-color: #d4ebff;}#sk-container-id-13 div.sk-serial::before {content: \"\";position: absolute;border-left: 1px solid gray;box-sizing: border-box;top: 0;bottom: 0;left: 50%;z-index: 0;}#sk-container-id-13 div.sk-serial {display: flex;flex-direction: column;align-items: center;background-color: white;padding-right: 0.2em;padding-left: 0.2em;position: relative;}#sk-container-id-13 div.sk-item {position: relative;z-index: 1;}#sk-container-id-13 div.sk-parallel {display: flex;align-items: stretch;justify-content: center;background-color: white;position: relative;}#sk-container-id-13 div.sk-item::before, #sk-container-id-13 div.sk-parallel-item::before {content: \"\";position: absolute;border-left: 1px solid gray;box-sizing: border-box;top: 0;bottom: 0;left: 50%;z-index: -1;}#sk-container-id-13 div.sk-parallel-item {display: flex;flex-direction: column;z-index: 1;position: relative;background-color: white;}#sk-container-id-13 div.sk-parallel-item:first-child::after {align-self: flex-end;width: 50%;}#sk-container-id-13 div.sk-parallel-item:last-child::after {align-self: flex-start;width: 50%;}#sk-container-id-13 div.sk-parallel-item:only-child::after {width: 0;}#sk-container-id-13 div.sk-dashed-wrapped {border: 1px dashed gray;margin: 0 0.4em 0.5em 0.4em;box-sizing: border-box;padding-bottom: 0.4em;background-color: white;}#sk-container-id-13 div.sk-label label {font-family: monospace;font-weight: bold;display: inline-block;line-height: 1.2em;}#sk-container-id-13 div.sk-label-container {text-align: center;}#sk-container-id-13 div.sk-container {/* jupyter's `normalize.less` sets `[hidden] { display: none; }` but bootstrap.min.css set `[hidden] { display: none !important; }` so we also need the `!important` here to be able to override the default hidden behavior on the sphinx rendered scikit-learn.org. See: https://github.com/scikit-learn/scikit-learn/issues/21755 */display: inline-block !important;position: relative;}#sk-container-id-13 div.sk-text-repr-fallback {display: none;}</style><div id=\"sk-container-id-13\" class=\"sk-top-container\"><div class=\"sk-text-repr-fallback\"><pre>LogisticRegression()</pre><b>In a Jupyter environment, please rerun this cell to show the HTML representation or trust the notebook. <br />On GitHub, the HTML representation is unable to render, please try loading this page with nbviewer.org.</b></div><div class=\"sk-container\" hidden><div class=\"sk-item\"><div class=\"sk-estimator sk-toggleable\"><input class=\"sk-toggleable__control sk-hidden--visually\" id=\"sk-estimator-id-15\" type=\"checkbox\" checked><label for=\"sk-estimator-id-15\" class=\"sk-toggleable__label sk-toggleable__label-arrow\">LogisticRegression</label><div class=\"sk-toggleable__content\"><pre>LogisticRegression()</pre></div></div></div></div></div>"
      ],
      "text/plain": [
       "LogisticRegression()"
      ]
     },
     "execution_count": 214,
     "metadata": {},
     "output_type": "execute_result"
    }
   ],
   "source": [
    "lg.fit(x3_tr,y3_tr)"
   ]
  },
  {
   "cell_type": "code",
   "execution_count": 215,
   "id": "a936fa38-90df-4bdf-8fea-70dd4a784cf9",
   "metadata": {},
   "outputs": [],
   "source": [
    "lp2=lg.predict(x3_te)"
   ]
  },
  {
   "cell_type": "code",
   "execution_count": 216,
   "id": "d67bf623-ba6b-49c7-8864-302cf8e24874",
   "metadata": {},
   "outputs": [],
   "source": [
    "lp2_value=lg.predict_proba(x3_te)"
   ]
  },
  {
   "cell_type": "code",
   "execution_count": 217,
   "id": "ebc2548e-98f8-49fa-9255-1cd856e8ce0c",
   "metadata": {},
   "outputs": [
    {
     "data": {
      "text/plain": [
       "array([[16331,  1174],\n",
       "       [ 2839, 17942]], dtype=int64)"
      ]
     },
     "execution_count": 217,
     "metadata": {},
     "output_type": "execute_result"
    }
   ],
   "source": [
    "m_11=confusion_matrix(lp2,y3_te)\n",
    "m_11"
   ]
  },
  {
   "cell_type": "code",
   "execution_count": 218,
   "id": "38b3597e-6353-4a4a-aeaf-bc273a2bd855",
   "metadata": {},
   "outputs": [],
   "source": [
    "TN,FP,FN,TP =m_11.ravel()"
   ]
  },
  {
   "cell_type": "code",
   "execution_count": 219,
   "id": "01258bd4-acc6-4265-93f8-492783957a77",
   "metadata": {},
   "outputs": [
    {
     "data": {
      "text/plain": [
       "0.9385854781335007"
      ]
     },
     "execution_count": 219,
     "metadata": {},
     "output_type": "execute_result"
    }
   ],
   "source": [
    "u_lp= TP/ (TP + FP)\n",
    "u_lp"
   ]
  },
  {
   "cell_type": "code",
   "execution_count": 220,
   "id": "6092886c-4329-457a-b605-f7bdb07f5c71",
   "metadata": {},
   "outputs": [
    {
     "data": {
      "text/plain": [
       "0.8633848226745585"
      ]
     },
     "execution_count": 220,
     "metadata": {},
     "output_type": "execute_result"
    }
   ],
   "source": [
    "u_lr= TP/ (TP + FN)\n",
    "u_lr"
   ]
  },
  {
   "cell_type": "code",
   "execution_count": 221,
   "id": "e6c17bcf-1972-4d06-974c-04c224661e79",
   "metadata": {},
   "outputs": [
    {
     "data": {
      "text/plain": [
       "0.8994159961901897"
      ]
     },
     "execution_count": 221,
     "metadata": {},
     "output_type": "execute_result"
    }
   ],
   "source": [
    "ul_f1= 2* (u_lp * u_lr) / (u_lp + u_lr)\n",
    "ul_f1"
   ]
  },
  {
   "cell_type": "code",
   "execution_count": 222,
   "id": "40765e4a-0c6a-474d-8e68-d3e8eeac280f",
   "metadata": {},
   "outputs": [
    {
     "data": {
      "text/plain": [
       "89.51836180327012"
      ]
     },
     "execution_count": 222,
     "metadata": {},
     "output_type": "execute_result"
    }
   ],
   "source": [
    "u_ac1=m_11.diagonal().sum()/m_11.sum()*100\n",
    "u_ac1"
   ]
  },
  {
   "cell_type": "code",
   "execution_count": 223,
   "id": "382e2f88-6af3-4e8c-814f-0c52590dc13c",
   "metadata": {},
   "outputs": [
    {
     "name": "stdout",
     "output_type": "stream",
     "text": [
      "              precision    recall  f1-score   support\n",
      "\n",
      "           0       0.85      0.93      0.89     17505\n",
      "           1       0.94      0.86      0.90     20781\n",
      "\n",
      "    accuracy                           0.90     38286\n",
      "   macro avg       0.90      0.90      0.89     38286\n",
      "weighted avg       0.90      0.90      0.90     38286\n",
      "\n"
     ]
    }
   ],
   "source": [
    "from sklearn.metrics import classification_report\n",
    "print(classification_report(lp2,y3_te))"
   ]
  },
  {
   "cell_type": "markdown",
   "id": "361bc5f0-f0a8-498a-afd1-4d6d1957b9c5",
   "metadata": {},
   "source": [
    "# PRECISION RECALL CURVE"
   ]
  },
  {
   "cell_type": "code",
   "execution_count": 224,
   "id": "1ea3d72a-3d69-4369-8071-4be2eba1296c",
   "metadata": {},
   "outputs": [
    {
     "data": {
      "text/html": [
       "<div>\n",
       "<style scoped>\n",
       "    .dataframe tbody tr th:only-of-type {\n",
       "        vertical-align: middle;\n",
       "    }\n",
       "\n",
       "    .dataframe tbody tr th {\n",
       "        vertical-align: top;\n",
       "    }\n",
       "\n",
       "    .dataframe thead th {\n",
       "        text-align: right;\n",
       "    }\n",
       "</style>\n",
       "<table border=\"1\" class=\"dataframe\">\n",
       "  <thead>\n",
       "    <tr style=\"text-align: right;\">\n",
       "      <th></th>\n",
       "      <th>0</th>\n",
       "      <th>1</th>\n",
       "    </tr>\n",
       "  </thead>\n",
       "  <tbody>\n",
       "    <tr>\n",
       "      <th>0</th>\n",
       "      <td>1.000000</td>\n",
       "      <td>3.499081e-09</td>\n",
       "    </tr>\n",
       "    <tr>\n",
       "      <th>1</th>\n",
       "      <td>0.499430</td>\n",
       "      <td>5.005697e-01</td>\n",
       "    </tr>\n",
       "    <tr>\n",
       "      <th>2</th>\n",
       "      <td>0.999992</td>\n",
       "      <td>8.290912e-06</td>\n",
       "    </tr>\n",
       "    <tr>\n",
       "      <th>3</th>\n",
       "      <td>0.097987</td>\n",
       "      <td>9.020133e-01</td>\n",
       "    </tr>\n",
       "    <tr>\n",
       "      <th>4</th>\n",
       "      <td>0.022219</td>\n",
       "      <td>9.777809e-01</td>\n",
       "    </tr>\n",
       "    <tr>\n",
       "      <th>...</th>\n",
       "      <td>...</td>\n",
       "      <td>...</td>\n",
       "    </tr>\n",
       "    <tr>\n",
       "      <th>38281</th>\n",
       "      <td>0.550830</td>\n",
       "      <td>4.491699e-01</td>\n",
       "    </tr>\n",
       "    <tr>\n",
       "      <th>38282</th>\n",
       "      <td>1.000000</td>\n",
       "      <td>2.632134e-11</td>\n",
       "    </tr>\n",
       "    <tr>\n",
       "      <th>38283</th>\n",
       "      <td>0.493046</td>\n",
       "      <td>5.069538e-01</td>\n",
       "    </tr>\n",
       "    <tr>\n",
       "      <th>38284</th>\n",
       "      <td>0.045988</td>\n",
       "      <td>9.540121e-01</td>\n",
       "    </tr>\n",
       "    <tr>\n",
       "      <th>38285</th>\n",
       "      <td>0.661823</td>\n",
       "      <td>3.381772e-01</td>\n",
       "    </tr>\n",
       "  </tbody>\n",
       "</table>\n",
       "<p>38286 rows × 2 columns</p>\n",
       "</div>"
      ],
      "text/plain": [
       "              0             1\n",
       "0      1.000000  3.499081e-09\n",
       "1      0.499430  5.005697e-01\n",
       "2      0.999992  8.290912e-06\n",
       "3      0.097987  9.020133e-01\n",
       "4      0.022219  9.777809e-01\n",
       "...         ...           ...\n",
       "38281  0.550830  4.491699e-01\n",
       "38282  1.000000  2.632134e-11\n",
       "38283  0.493046  5.069538e-01\n",
       "38284  0.045988  9.540121e-01\n",
       "38285  0.661823  3.381772e-01\n",
       "\n",
       "[38286 rows x 2 columns]"
      ]
     },
     "execution_count": 224,
     "metadata": {},
     "output_type": "execute_result"
    }
   ],
   "source": [
    "df3=pd.DataFrame(lp2_value)\n",
    "df3"
   ]
  },
  {
   "cell_type": "code",
   "execution_count": 225,
   "id": "5757d94e-0465-488a-8c8d-341753d8779c",
   "metadata": {},
   "outputs": [],
   "source": [
    "from sklearn.metrics import precision_recall_curve\n",
    "from sklearn.metrics import f1_score"
   ]
  },
  {
   "cell_type": "code",
   "execution_count": 226,
   "id": "8d91df35-6bac-4f24-b50b-e3dace7c635b",
   "metadata": {},
   "outputs": [],
   "source": [
    "precision,recall,threshold=precision_recall_curve(y3_te,df3.iloc[:,1])"
   ]
  },
  {
   "cell_type": "code",
   "execution_count": 227,
   "id": "47f42c24-cbae-4b74-ac0f-7e5a2e44a5fc",
   "metadata": {},
   "outputs": [
    {
     "data": {
      "text/plain": [
       "array([0.49929478, 0.49930782, 0.49932087, ..., 1.        , 1.        ,\n",
       "       1.        ])"
      ]
     },
     "execution_count": 227,
     "metadata": {},
     "output_type": "execute_result"
    }
   ],
   "source": [
    "precision"
   ]
  },
  {
   "cell_type": "code",
   "execution_count": 228,
   "id": "2d0fa80c-ed46-48ee-b657-64a5fa8f2c36",
   "metadata": {},
   "outputs": [
    {
     "data": {
      "text/plain": [
       "array([1.00000000e+00, 1.00000000e+00, 1.00000000e+00, ...,\n",
       "       4.18497594e-04, 1.56936598e-04, 0.00000000e+00])"
      ]
     },
     "execution_count": 228,
     "metadata": {},
     "output_type": "execute_result"
    }
   ],
   "source": [
    "recall"
   ]
  },
  {
   "cell_type": "code",
   "execution_count": 229,
   "id": "ffbd2753-1521-4325-a783-c7d3e82008f5",
   "metadata": {},
   "outputs": [
    {
     "data": {
      "text/plain": [
       "array([2.30176277e-11, 2.30863326e-11, 2.32243583e-11, ...,\n",
       "       9.94910428e-01, 9.94925498e-01, 9.94940523e-01])"
      ]
     },
     "execution_count": 229,
     "metadata": {},
     "output_type": "execute_result"
    }
   ],
   "source": [
    "threshold"
   ]
  },
  {
   "cell_type": "code",
   "execution_count": 230,
   "id": "1232c212-cdb1-4718-9b19-84d0bd50ab98",
   "metadata": {},
   "outputs": [
    {
     "data": {
      "image/png": "[encoded data removed]",
      "text/plain": [
       "<Figure size 640x480 with 1 Axes>"
      ]
     },
     "metadata": {},
     "output_type": "display_data"
    }
   ],
   "source": [
    "plt.plot(recall,precision,label=\"PRC\")\n",
    "plt.xlabel(\"recall\")\n",
    "plt.ylabel(\"precision\")\n",
    "plt.legend(loc=\"upper right\")\n",
    "plt.title(\"precision-recall\")\n",
    "plt.gca().invert_xaxis()"
   ]
  },
  {
   "cell_type": "markdown",
   "id": "4f55b7d7-c3f7-465a-a5c3-d092c9879e06",
   "metadata": {},
   "source": [
    "# DECISION TREE"
   ]
  },
  {
   "cell_type": "code",
   "execution_count": 231,
   "id": "0b13e3eb-ace9-44e1-a705-3cc5954fabc8",
   "metadata": {},
   "outputs": [],
   "source": [
    "from sklearn.tree import DecisionTreeClassifier\n",
    "dt=DecisionTreeClassifier()"
   ]
  },
  {
   "cell_type": "code",
   "execution_count": 232,
   "id": "b51cebdc-05ad-4fd6-9442-3768e6634866",
   "metadata": {},
   "outputs": [
    {
     "data": {
      "text/html": [
       "<style>#sk-container-id-14 {color: black;background-color: white;}#sk-container-id-14 pre{padding: 0;}#sk-container-id-14 div.sk-toggleable {background-color: white;}#sk-container-id-14 label.sk-toggleable__label {cursor: pointer;display: block;width: 100%;margin-bottom: 0;padding: 0.3em;box-sizing: border-box;text-align: center;}#sk-container-id-14 label.sk-toggleable__label-arrow:before {content: \"▸\";float: left;margin-right: 0.25em;color: #696969;}#sk-container-id-14 label.sk-toggleable__label-arrow:hover:before {color: black;}#sk-container-id-14 div.sk-estimator:hover label.sk-toggleable__label-arrow:before {color: black;}#sk-container-id-14 div.sk-toggleable__content {max-height: 0;max-width: 0;overflow: hidden;text-align: left;background-color: #f0f8ff;}#sk-container-id-14 div.sk-toggleable__content pre {margin: 0.2em;color: black;border-radius: 0.25em;background-color: #f0f8ff;}#sk-container-id-14 input.sk-toggleable__control:checked~div.sk-toggleable__content {max-height: 200px;max-width: 100%;overflow: auto;}#sk-container-id-14 input.sk-toggleable__control:checked~label.sk-toggleable__label-arrow:before {content: \"▾\";}#sk-container-id-14 div.sk-estimator input.sk-toggleable__control:checked~label.sk-toggleable__label {background-color: #d4ebff;}#sk-container-id-14 div.sk-label input.sk-toggleable__control:checked~label.sk-toggleable__label {background-color: #d4ebff;}#sk-container-id-14 input.sk-hidden--visually {border: 0;clip: rect(1px 1px 1px 1px);clip: rect(1px, 1px, 1px, 1px);height: 1px;margin: -1px;overflow: hidden;padding: 0;position: absolute;width: 1px;}#sk-container-id-14 div.sk-estimator {font-family: monospace;background-color: #f0f8ff;border: 1px dotted black;border-radius: 0.25em;box-sizing: border-box;margin-bottom: 0.5em;}#sk-container-id-14 div.sk-estimator:hover {background-color: #d4ebff;}#sk-container-id-14 div.sk-parallel-item::after {content: \"\";width: 100%;border-bottom: 1px solid gray;flex-grow: 1;}#sk-container-id-14 div.sk-label:hover label.sk-toggleable__label {background-color: #d4ebff;}#sk-container-id-14 div.sk-serial::before {content: \"\";position: absolute;border-left: 1px solid gray;box-sizing: border-box;top: 0;bottom: 0;left: 50%;z-index: 0;}#sk-container-id-14 div.sk-serial {display: flex;flex-direction: column;align-items: center;background-color: white;padding-right: 0.2em;padding-left: 0.2em;position: relative;}#sk-container-id-14 div.sk-item {position: relative;z-index: 1;}#sk-container-id-14 div.sk-parallel {display: flex;align-items: stretch;justify-content: center;background-color: white;position: relative;}#sk-container-id-14 div.sk-item::before, #sk-container-id-14 div.sk-parallel-item::before {content: \"\";position: absolute;border-left: 1px solid gray;box-sizing: border-box;top: 0;bottom: 0;left: 50%;z-index: -1;}#sk-container-id-14 div.sk-parallel-item {display: flex;flex-direction: column;z-index: 1;position: relative;background-color: white;}#sk-container-id-14 div.sk-parallel-item:first-child::after {align-self: flex-end;width: 50%;}#sk-container-id-14 div.sk-parallel-item:last-child::after {align-self: flex-start;width: 50%;}#sk-container-id-14 div.sk-parallel-item:only-child::after {width: 0;}#sk-container-id-14 div.sk-dashed-wrapped {border: 1px dashed gray;margin: 0 0.4em 0.5em 0.4em;box-sizing: border-box;padding-bottom: 0.4em;background-color: white;}#sk-container-id-14 div.sk-label label {font-family: monospace;font-weight: bold;display: inline-block;line-height: 1.2em;}#sk-container-id-14 div.sk-label-container {text-align: center;}#sk-container-id-14 div.sk-container {/* jupyter's `normalize.less` sets `[hidden] { display: none; }` but bootstrap.min.css set `[hidden] { display: none !important; }` so we also need the `!important` here to be able to override the default hidden behavior on the sphinx rendered scikit-learn.org. See: https://github.com/scikit-learn/scikit-learn/issues/21755 */display: inline-block !important;position: relative;}#sk-container-id-14 div.sk-text-repr-fallback {display: none;}</style><div id=\"sk-container-id-14\" class=\"sk-top-container\"><div class=\"sk-text-repr-fallback\"><pre>DecisionTreeClassifier()</pre><b>In a Jupyter environment, please rerun this cell to show the HTML representation or trust the notebook. <br />On GitHub, the HTML representation is unable to render, please try loading this page with nbviewer.org.</b></div><div class=\"sk-container\" hidden><div class=\"sk-item\"><div class=\"sk-estimator sk-toggleable\"><input class=\"sk-toggleable__control sk-hidden--visually\" id=\"sk-estimator-id-16\" type=\"checkbox\" checked><label for=\"sk-estimator-id-16\" class=\"sk-toggleable__label sk-toggleable__label-arrow\">DecisionTreeClassifier</label><div class=\"sk-toggleable__content\"><pre>DecisionTreeClassifier()</pre></div></div></div></div></div>"
      ],
      "text/plain": [
       "DecisionTreeClassifier()"
      ]
     },
     "execution_count": 232,
     "metadata": {},
     "output_type": "execute_result"
    }
   ],
   "source": [
    "dt.fit(x3_tr,y3_tr)"
   ]
  },
  {
   "cell_type": "code",
   "execution_count": 233,
   "id": "f1abe478-e779-44a2-a0a7-82b8f491d0e8",
   "metadata": {},
   "outputs": [],
   "source": [
    "dt_p1=dt.predict(x3_te)"
   ]
  },
  {
   "cell_type": "code",
   "execution_count": 234,
   "id": "91208fbf-9ff8-43aa-8ef1-46dfc520cceb",
   "metadata": {},
   "outputs": [
    {
     "data": {
      "text/plain": [
       "array([[18289,   141],\n",
       "       [  881, 18975]], dtype=int64)"
      ]
     },
     "execution_count": 234,
     "metadata": {},
     "output_type": "execute_result"
    }
   ],
   "source": [
    "dt_m11=confusion_matrix(dt_p1,y3_te)\n",
    "dt_m11"
   ]
  },
  {
   "cell_type": "code",
   "execution_count": 235,
   "id": "8edfe2d3-e0dc-4b0a-a59d-0c7e564179e8",
   "metadata": {},
   "outputs": [],
   "source": [
    "TN,FP,FN,TP =dt_m11.ravel()"
   ]
  },
  {
   "cell_type": "code",
   "execution_count": 236,
   "id": "f0995b56-3cd4-4633-944e-dbcd59305f9c",
   "metadata": {},
   "outputs": [
    {
     "data": {
      "text/plain": [
       "0.9926239799121155"
      ]
     },
     "execution_count": 236,
     "metadata": {},
     "output_type": "execute_result"
    }
   ],
   "source": [
    "u_dp= TP/ (TP + FP)\n",
    "u_dp"
   ]
  },
  {
   "cell_type": "code",
   "execution_count": 237,
   "id": "fd633d03-18b2-4a64-aa79-7d09e94128f5",
   "metadata": {},
   "outputs": [
    {
     "data": {
      "text/plain": [
       "0.9556305398871877"
      ]
     },
     "execution_count": 237,
     "metadata": {},
     "output_type": "execute_result"
    }
   ],
   "source": [
    "u_dr= TP / (TP + FN)\n",
    "u_dr"
   ]
  },
  {
   "cell_type": "code",
   "execution_count": 238,
   "id": "61de762c-1d3f-4ca7-9fc4-1b4920af541b",
   "metadata": {},
   "outputs": [
    {
     "data": {
      "text/plain": [
       "0.9737760443395259"
      ]
     },
     "execution_count": 238,
     "metadata": {},
     "output_type": "execute_result"
    }
   ],
   "source": [
    "u_df1= 2* (u_dp * u_dr) / (u_dp + u_dr)\n",
    "u_df1"
   ]
  },
  {
   "cell_type": "code",
   "execution_count": 239,
   "id": "88484b30-88f4-447d-b52b-f0693e227168",
   "metadata": {},
   "outputs": [
    {
     "data": {
      "text/plain": [
       "97.33061693569451"
      ]
     },
     "execution_count": 239,
     "metadata": {},
     "output_type": "execute_result"
    }
   ],
   "source": [
    "dt_ac1=dt_m11.diagonal().sum()/dt_m11.sum()*100\n",
    "dt_ac1 "
   ]
  },
  {
   "cell_type": "code",
   "execution_count": 240,
   "id": "52438a6f-32ea-4901-8726-611246f88b21",
   "metadata": {},
   "outputs": [
    {
     "name": "stdout",
     "output_type": "stream",
     "text": [
      "              precision    recall  f1-score   support\n",
      "\n",
      "           0       0.95      0.99      0.97     18430\n",
      "           1       0.99      0.96      0.97     19856\n",
      "\n",
      "    accuracy                           0.97     38286\n",
      "   macro avg       0.97      0.97      0.97     38286\n",
      "weighted avg       0.97      0.97      0.97     38286\n",
      "\n"
     ]
    }
   ],
   "source": [
    "print(classification_report(dt_p1,y3_te))"
   ]
  },
  {
   "cell_type": "markdown",
   "id": "0b565c23-a96e-4ba6-ae72-396b9b27e8c0",
   "metadata": {},
   "source": [
    "# RANDOM FOREST"
   ]
  },
  {
   "cell_type": "code",
   "execution_count": 241,
   "id": "6cab7095-22fa-4094-8818-870e4473aead",
   "metadata": {},
   "outputs": [],
   "source": [
    "from sklearn.ensemble import RandomForestClassifier\n",
    "rf=RandomForestClassifier()"
   ]
  },
  {
   "cell_type": "code",
   "execution_count": 242,
   "id": "911c7d5b-5f52-4df1-b432-a0d13a360027",
   "metadata": {},
   "outputs": [
    {
     "data": {
      "text/html": [
       "<style>#sk-container-id-15 {color: black;background-color: white;}#sk-container-id-15 pre{padding: 0;}#sk-container-id-15 div.sk-toggleable {background-color: white;}#sk-container-id-15 label.sk-toggleable__label {cursor: pointer;display: block;width: 100%;margin-bottom: 0;padding: 0.3em;box-sizing: border-box;text-align: center;}#sk-container-id-15 label.sk-toggleable__label-arrow:before {content: \"▸\";float: left;margin-right: 0.25em;color: #696969;}#sk-container-id-15 label.sk-toggleable__label-arrow:hover:before {color: black;}#sk-container-id-15 div.sk-estimator:hover label.sk-toggleable__label-arrow:before {color: black;}#sk-container-id-15 div.sk-toggleable__content {max-height: 0;max-width: 0;overflow: hidden;text-align: left;background-color: #f0f8ff;}#sk-container-id-15 div.sk-toggleable__content pre {margin: 0.2em;color: black;border-radius: 0.25em;background-color: #f0f8ff;}#sk-container-id-15 input.sk-toggleable__control:checked~div.sk-toggleable__content {max-height: 200px;max-width: 100%;overflow: auto;}#sk-container-id-15 input.sk-toggleable__control:checked~label.sk-toggleable__label-arrow:before {content: \"▾\";}#sk-container-id-15 div.sk-estimator input.sk-toggleable__control:checked~label.sk-toggleable__label {background-color: #d4ebff;}#sk-container-id-15 div.sk-label input.sk-toggleable__control:checked~label.sk-toggleable__label {background-color: #d4ebff;}#sk-container-id-15 input.sk-hidden--visually {border: 0;clip: rect(1px 1px 1px 1px);clip: rect(1px, 1px, 1px, 1px);height: 1px;margin: -1px;overflow: hidden;padding: 0;position: absolute;width: 1px;}#sk-container-id-15 div.sk-estimator {font-family: monospace;background-color: #f0f8ff;border: 1px dotted black;border-radius: 0.25em;box-sizing: border-box;margin-bottom: 0.5em;}#sk-container-id-15 div.sk-estimator:hover {background-color: #d4ebff;}#sk-container-id-15 div.sk-parallel-item::after {content: \"\";width: 100%;border-bottom: 1px solid gray;flex-grow: 1;}#sk-container-id-15 div.sk-label:hover label.sk-toggleable__label {background-color: #d4ebff;}#sk-container-id-15 div.sk-serial::before {content: \"\";position: absolute;border-left: 1px solid gray;box-sizing: border-box;top: 0;bottom: 0;left: 50%;z-index: 0;}#sk-container-id-15 div.sk-serial {display: flex;flex-direction: column;align-items: center;background-color: white;padding-right: 0.2em;padding-left: 0.2em;position: relative;}#sk-container-id-15 div.sk-item {position: relative;z-index: 1;}#sk-container-id-15 div.sk-parallel {display: flex;align-items: stretch;justify-content: center;background-color: white;position: relative;}#sk-container-id-15 div.sk-item::before, #sk-container-id-15 div.sk-parallel-item::before {content: \"\";position: absolute;border-left: 1px solid gray;box-sizing: border-box;top: 0;bottom: 0;left: 50%;z-index: -1;}#sk-container-id-15 div.sk-parallel-item {display: flex;flex-direction: column;z-index: 1;position: relative;background-color: white;}#sk-container-id-15 div.sk-parallel-item:first-child::after {align-self: flex-end;width: 50%;}#sk-container-id-15 div.sk-parallel-item:last-child::after {align-self: flex-start;width: 50%;}#sk-container-id-15 div.sk-parallel-item:only-child::after {width: 0;}#sk-container-id-15 div.sk-dashed-wrapped {border: 1px dashed gray;margin: 0 0.4em 0.5em 0.4em;box-sizing: border-box;padding-bottom: 0.4em;background-color: white;}#sk-container-id-15 div.sk-label label {font-family: monospace;font-weight: bold;display: inline-block;line-height: 1.2em;}#sk-container-id-15 div.sk-label-container {text-align: center;}#sk-container-id-15 div.sk-container {/* jupyter's `normalize.less` sets `[hidden] { display: none; }` but bootstrap.min.css set `[hidden] { display: none !important; }` so we also need the `!important` here to be able to override the default hidden behavior on the sphinx rendered scikit-learn.org. See: https://github.com/scikit-learn/scikit-learn/issues/21755 */display: inline-block !important;position: relative;}#sk-container-id-15 div.sk-text-repr-fallback {display: none;}</style><div id=\"sk-container-id-15\" class=\"sk-top-container\"><div class=\"sk-text-repr-fallback\"><pre>RandomForestClassifier()</pre><b>In a Jupyter environment, please rerun this cell to show the HTML representation or trust the notebook. <br />On GitHub, the HTML representation is unable to render, please try loading this page with nbviewer.org.</b></div><div class=\"sk-container\" hidden><div class=\"sk-item\"><div class=\"sk-estimator sk-toggleable\"><input class=\"sk-toggleable__control sk-hidden--visually\" id=\"sk-estimator-id-17\" type=\"checkbox\" checked><label for=\"sk-estimator-id-17\" class=\"sk-toggleable__label sk-toggleable__label-arrow\">RandomForestClassifier</label><div class=\"sk-toggleable__content\"><pre>RandomForestClassifier()</pre></div></div></div></div></div>"
      ],
      "text/plain": [
       "RandomForestClassifier()"
      ]
     },
     "execution_count": 242,
     "metadata": {},
     "output_type": "execute_result"
    }
   ],
   "source": [
    "rf.fit(x3_tr,y3_tr)"
   ]
  },
  {
   "cell_type": "code",
   "execution_count": 243,
   "id": "617289da-2d9f-45e1-9526-c595cc076227",
   "metadata": {},
   "outputs": [],
   "source": [
    "rf_p1=rf.predict(x3_te)"
   ]
  },
  {
   "cell_type": "code",
   "execution_count": 244,
   "id": "300fea9c-8f66-48d8-ba54-22be8801d210",
   "metadata": {},
   "outputs": [
    {
     "data": {
      "text/plain": [
       "array([[18264,   112],\n",
       "       [  906, 19004]], dtype=int64)"
      ]
     },
     "execution_count": 244,
     "metadata": {},
     "output_type": "execute_result"
    }
   ],
   "source": [
    "rf_m=confusion_matrix(rf_p1,y3_te)\n",
    "rf_m"
   ]
  },
  {
   "cell_type": "code",
   "execution_count": 245,
   "id": "defe6f04-c1dd-499e-a0ef-2fa6d85e0829",
   "metadata": {},
   "outputs": [],
   "source": [
    "TN,FP,FN,TP =rf_m.ravel()"
   ]
  },
  {
   "cell_type": "code",
   "execution_count": 246,
   "id": "7c3ab42d-90d8-4e97-9647-70f8e626626f",
   "metadata": {},
   "outputs": [
    {
     "data": {
      "text/plain": [
       "0.9941410336890563"
      ]
     },
     "execution_count": 246,
     "metadata": {},
     "output_type": "execute_result"
    }
   ],
   "source": [
    "efp= TP/ (TP + FP)\n",
    "efp"
   ]
  },
  {
   "cell_type": "code",
   "execution_count": 247,
   "id": "a566e2ea-b3ee-4853-9f5f-17fd444eb4fa",
   "metadata": {},
   "outputs": [
    {
     "data": {
      "text/plain": [
       "0.9544952285283776"
      ]
     },
     "execution_count": 247,
     "metadata": {},
     "output_type": "execute_result"
    }
   ],
   "source": [
    "efr= TP / (TP + FN)\n",
    "efr"
   ]
  },
  {
   "cell_type": "code",
   "execution_count": 248,
   "id": "ebabd518-a2b4-4080-a225-328d35aa32ac",
   "metadata": {},
   "outputs": [
    {
     "data": {
      "text/plain": [
       "0.9739148260134269"
      ]
     },
     "execution_count": 248,
     "metadata": {},
     "output_type": "execute_result"
    }
   ],
   "source": [
    "ef1= 2* (efp * efr) / (efp + efr)\n",
    "ef1"
   ]
  },
  {
   "cell_type": "code",
   "execution_count": 249,
   "id": "a03170ef-8e95-47cb-91e6-ace34beaacb6",
   "metadata": {},
   "outputs": [
    {
     "data": {
      "text/plain": [
       "98.78284490414251"
      ]
     },
     "execution_count": 249,
     "metadata": {},
     "output_type": "execute_result"
    }
   ],
   "source": [
    "r_acc1=r_m1.diagonal().sum()/r_m1.sum()*100\n",
    "r_acc1"
   ]
  },
  {
   "cell_type": "code",
   "execution_count": 250,
   "id": "499956c2-df69-457f-b313-418ea0aa70f7",
   "metadata": {},
   "outputs": [
    {
     "name": "stdout",
     "output_type": "stream",
     "text": [
      "              precision    recall  f1-score   support\n",
      "\n",
      "           0       0.95      0.99      0.97     18376\n",
      "           1       0.99      0.95      0.97     19910\n",
      "\n",
      "    accuracy                           0.97     38286\n",
      "   macro avg       0.97      0.97      0.97     38286\n",
      "weighted avg       0.97      0.97      0.97     38286\n",
      "\n"
     ]
    }
   ],
   "source": [
    "print(classification_report(rf_p1,y3_te))"
   ]
  },
  {
   "cell_type": "markdown",
   "id": "957ea551-8b28-4354-a157-a400f71b8c51",
   "metadata": {},
   "source": [
    "# Xgboost"
   ]
  },
  {
   "cell_type": "code",
   "execution_count": 251,
   "id": "77374ac2-ed06-4b31-bf3e-7c93d5eb8b6f",
   "metadata": {},
   "outputs": [],
   "source": [
    "from xgboost import XGBClassifier\n",
    "xgb=XGBClassifier()"
   ]
  },
  {
   "cell_type": "code",
   "execution_count": 252,
   "id": "421f9235-868a-445b-a723-2ca3dfb25120",
   "metadata": {},
   "outputs": [
    {
     "data": {
      "text/html": [
       "<style>#sk-container-id-16 {color: black;background-color: white;}#sk-container-id-16 pre{padding: 0;}#sk-container-id-16 div.sk-toggleable {background-color: white;}#sk-container-id-16 label.sk-toggleable__label {cursor: pointer;display: block;width: 100%;margin-bottom: 0;padding: 0.3em;box-sizing: border-box;text-align: center;}#sk-container-id-16 label.sk-toggleable__label-arrow:before {content: \"▸\";float: left;margin-right: 0.25em;color: #696969;}#sk-container-id-16 label.sk-toggleable__label-arrow:hover:before {color: black;}#sk-container-id-16 div.sk-estimator:hover label.sk-toggleable__label-arrow:before {color: black;}#sk-container-id-16 div.sk-toggleable__content {max-height: 0;max-width: 0;overflow: hidden;text-align: left;background-color: #f0f8ff;}#sk-container-id-16 div.sk-toggleable__content pre {margin: 0.2em;color: black;border-radius: 0.25em;background-color: #f0f8ff;}#sk-container-id-16 input.sk-toggleable__control:checked~div.sk-toggleable__content {max-height: 200px;max-width: 100%;overflow: auto;}#sk-container-id-16 input.sk-toggleable__control:checked~label.sk-toggleable__label-arrow:before {content: \"▾\";}#sk-container-id-16 div.sk-estimator input.sk-toggleable__control:checked~label.sk-toggleable__label {background-color: #d4ebff;}#sk-container-id-16 div.sk-label input.sk-toggleable__control:checked~label.sk-toggleable__label {background-color: #d4ebff;}#sk-container-id-16 input.sk-hidden--visually {border: 0;clip: rect(1px 1px 1px 1px);clip: rect(1px, 1px, 1px, 1px);height: 1px;margin: -1px;overflow: hidden;padding: 0;position: absolute;width: 1px;}#sk-container-id-16 div.sk-estimator {font-family: monospace;background-color: #f0f8ff;border: 1px dotted black;border-radius: 0.25em;box-sizing: border-box;margin-bottom: 0.5em;}#sk-container-id-16 div.sk-estimator:hover {background-color: #d4ebff;}#sk-container-id-16 div.sk-parallel-item::after {content: \"\";width: 100%;border-bottom: 1px solid gray;flex-grow: 1;}#sk-container-id-16 div.sk-label:hover label.sk-toggleable__label {background-color: #d4ebff;}#sk-container-id-16 div.sk-serial::before {content: \"\";position: absolute;border-left: 1px solid gray;box-sizing: border-box;top: 0;bottom: 0;left: 50%;z-index: 0;}#sk-container-id-16 div.sk-serial {display: flex;flex-direction: column;align-items: center;background-color: white;padding-right: 0.2em;padding-left: 0.2em;position: relative;}#sk-container-id-16 div.sk-item {position: relative;z-index: 1;}#sk-container-id-16 div.sk-parallel {display: flex;align-items: stretch;justify-content: center;background-color: white;position: relative;}#sk-container-id-16 div.sk-item::before, #sk-container-id-16 div.sk-parallel-item::before {content: \"\";position: absolute;border-left: 1px solid gray;box-sizing: border-box;top: 0;bottom: 0;left: 50%;z-index: -1;}#sk-container-id-16 div.sk-parallel-item {display: flex;flex-direction: column;z-index: 1;position: relative;background-color: white;}#sk-container-id-16 div.sk-parallel-item:first-child::after {align-self: flex-end;width: 50%;}#sk-container-id-16 div.sk-parallel-item:last-child::after {align-self: flex-start;width: 50%;}#sk-container-id-16 div.sk-parallel-item:only-child::after {width: 0;}#sk-container-id-16 div.sk-dashed-wrapped {border: 1px dashed gray;margin: 0 0.4em 0.5em 0.4em;box-sizing: border-box;padding-bottom: 0.4em;background-color: white;}#sk-container-id-16 div.sk-label label {font-family: monospace;font-weight: bold;display: inline-block;line-height: 1.2em;}#sk-container-id-16 div.sk-label-container {text-align: center;}#sk-container-id-16 div.sk-container {/* jupyter's `normalize.less` sets `[hidden] { display: none; }` but bootstrap.min.css set `[hidden] { display: none !important; }` so we also need the `!important` here to be able to override the default hidden behavior on the sphinx rendered scikit-learn.org. See: https://github.com/scikit-learn/scikit-learn/issues/21755 */display: inline-block !important;position: relative;}#sk-container-id-16 div.sk-text-repr-fallback {display: none;}</style><div id=\"sk-container-id-16\" class=\"sk-top-container\"><div class=\"sk-text-repr-fallback\"><pre>XGBClassifier(base_score=None, booster=None, callbacks=None,\n",
       "              colsample_bylevel=None, colsample_bynode=None,\n",
       "              colsample_bytree=None, device=None, early_stopping_rounds=None,\n",
       "              enable_categorical=False, eval_metric=None, feature_types=None,\n",
       "              gamma=None, grow_policy=None, importance_type=None,\n",
       "              interaction_constraints=None, learning_rate=None, max_bin=None,\n",
       "              max_cat_threshold=None, max_cat_to_onehot=None,\n",
       "              max_delta_step=None, max_depth=None, max_leaves=None,\n",
       "              min_child_weight=None, missing=nan, monotone_constraints=None,\n",
       "              multi_strategy=None, n_estimators=None, n_jobs=None,\n",
       "              num_parallel_tree=None, random_state=None, ...)</pre><b>In a Jupyter environment, please rerun this cell to show the HTML representation or trust the notebook. <br />On GitHub, the HTML representation is unable to render, please try loading this page with nbviewer.org.</b></div><div class=\"sk-container\" hidden><div class=\"sk-item\"><div class=\"sk-estimator sk-toggleable\"><input class=\"sk-toggleable__control sk-hidden--visually\" id=\"sk-estimator-id-18\" type=\"checkbox\" checked><label for=\"sk-estimator-id-18\" class=\"sk-toggleable__label sk-toggleable__label-arrow\">XGBClassifier</label><div class=\"sk-toggleable__content\"><pre>XGBClassifier(base_score=None, booster=None, callbacks=None,\n",
       "              colsample_bylevel=None, colsample_bynode=None,\n",
       "              colsample_bytree=None, device=None, early_stopping_rounds=None,\n",
       "              enable_categorical=False, eval_metric=None, feature_types=None,\n",
       "              gamma=None, grow_policy=None, importance_type=None,\n",
       "              interaction_constraints=None, learning_rate=None, max_bin=None,\n",
       "              max_cat_threshold=None, max_cat_to_onehot=None,\n",
       "              max_delta_step=None, max_depth=None, max_leaves=None,\n",
       "              min_child_weight=None, missing=nan, monotone_constraints=None,\n",
       "              multi_strategy=None, n_estimators=None, n_jobs=None,\n",
       "              num_parallel_tree=None, random_state=None, ...)</pre></div></div></div></div></div>"
      ],
      "text/plain": [
       "XGBClassifier(base_score=None, booster=None, callbacks=None,\n",
       "              colsample_bylevel=None, colsample_bynode=None,\n",
       "              colsample_bytree=None, device=None, early_stopping_rounds=None,\n",
       "              enable_categorical=False, eval_metric=None, feature_types=None,\n",
       "              gamma=None, grow_policy=None, importance_type=None,\n",
       "              interaction_constraints=None, learning_rate=None, max_bin=None,\n",
       "              max_cat_threshold=None, max_cat_to_onehot=None,\n",
       "              max_delta_step=None, max_depth=None, max_leaves=None,\n",
       "              min_child_weight=None, missing=nan, monotone_constraints=None,\n",
       "              multi_strategy=None, n_estimators=None, n_jobs=None,\n",
       "              num_parallel_tree=None, random_state=None, ...)"
      ]
     },
     "execution_count": 252,
     "metadata": {},
     "output_type": "execute_result"
    }
   ],
   "source": [
    "xgb.fit(x3_tr,y3_tr)"
   ]
  },
  {
   "cell_type": "code",
   "execution_count": 253,
   "id": "764ff2ba-51bd-4f78-85e7-6060b5455304",
   "metadata": {},
   "outputs": [],
   "source": [
    "xbg_p=xgb.predict(x3_te)"
   ]
  },
  {
   "cell_type": "code",
   "execution_count": 254,
   "id": "9d95fa35-cb33-4a33-9380-341f88b3aaff",
   "metadata": {},
   "outputs": [],
   "source": [
    "xgb_m=confusion_matrix(xbg_p,y3_te)"
   ]
  },
  {
   "cell_type": "code",
   "execution_count": 255,
   "id": "728285ec-76ad-4063-bddd-778663ea4c96",
   "metadata": {},
   "outputs": [
    {
     "data": {
      "text/plain": [
       "array([[18138,    96],\n",
       "       [ 1032, 19020]], dtype=int64)"
      ]
     },
     "execution_count": 255,
     "metadata": {},
     "output_type": "execute_result"
    }
   ],
   "source": [
    "xgb_m"
   ]
  },
  {
   "cell_type": "code",
   "execution_count": 256,
   "id": "c6b23e97-87f6-485e-91d2-5a39c7a4e4f9",
   "metadata": {},
   "outputs": [],
   "source": [
    "TN,FP,FN,TP =xgb_m.ravel()"
   ]
  },
  {
   "cell_type": "code",
   "execution_count": 257,
   "id": "160a8f5d-6771-4ae4-816c-920424248eb3",
   "metadata": {},
   "outputs": [
    {
     "data": {
      "text/plain": [
       "0.9949780288763339"
      ]
     },
     "execution_count": 257,
     "metadata": {},
     "output_type": "execute_result"
    }
   ],
   "source": [
    "xg_p= TP/ (TP + FP)\n",
    "xg_p"
   ]
  },
  {
   "cell_type": "code",
   "execution_count": 258,
   "id": "32dceb7c-d93a-4169-8d75-eb5b53f8aaa2",
   "metadata": {},
   "outputs": [
    {
     "data": {
      "text/plain": [
       "0.9485338120885697"
      ]
     },
     "execution_count": 258,
     "metadata": {},
     "output_type": "execute_result"
    }
   ],
   "source": [
    "xg_r= TP / (TP + FN)\n",
    "xg_r"
   ]
  },
  {
   "cell_type": "code",
   "execution_count": 259,
   "id": "67e028b5-1848-4d43-98fe-95130000e670",
   "metadata": {},
   "outputs": [
    {
     "data": {
      "text/plain": [
       "0.9712009803921569"
      ]
     },
     "execution_count": 259,
     "metadata": {},
     "output_type": "execute_result"
    }
   ],
   "source": [
    "xg_f1= 2* (xg_p * xg_r) / (xg_p + xg_r)\n",
    "xg_f1"
   ]
  },
  {
   "cell_type": "code",
   "execution_count": 260,
   "id": "4d34dc98-94e6-48c8-b92b-bfd9a5428d3f",
   "metadata": {},
   "outputs": [
    {
     "data": {
      "text/plain": [
       "97.05375333019903"
      ]
     },
     "execution_count": 260,
     "metadata": {},
     "output_type": "execute_result"
    }
   ],
   "source": [
    "xgb_acc=xgb_m.diagonal().sum()/xgb_m.sum()*100\n",
    "xgb_acc"
   ]
  },
  {
   "cell_type": "code",
   "execution_count": 261,
   "id": "3e1b1df8-3f89-4e57-ac30-bc3d8c9ea804",
   "metadata": {},
   "outputs": [
    {
     "name": "stdout",
     "output_type": "stream",
     "text": [
      "              precision    recall  f1-score   support\n",
      "\n",
      "           0       0.95      0.99      0.97     18234\n",
      "           1       0.99      0.95      0.97     20052\n",
      "\n",
      "    accuracy                           0.97     38286\n",
      "   macro avg       0.97      0.97      0.97     38286\n",
      "weighted avg       0.97      0.97      0.97     38286\n",
      "\n"
     ]
    }
   ],
   "source": [
    "print(classification_report(xbg_p,y3_te))"
   ]
  },
  {
   "cell_type": "markdown",
   "id": "4d58efb4-8e14-411b-9ed8-e3ed66326adf",
   "metadata": {},
   "source": [
    "# REPORT"
   ]
  },
  {
   "cell_type": "code",
   "execution_count": 262,
   "id": "b39d9229-970e-4e0d-a63b-bfb2e83031e0",
   "metadata": {},
   "outputs": [],
   "source": [
    "list1=[\"LOGISTIC REGRESSION\",\"DECISION TREE\",\"RANDOM FOREST\",\"XG-BOOST\",]\n",
    "list2=[u_ac1,dt_ac1,r_acc1,xgb_acc]\n",
    "list3=[u_lp,u_dp,efp,xg_p]\n",
    "list4=[u_lr,u_dr,efr,xg_r]\n",
    "list5=[ul_f1,u_df1,ef1,xg_f1]"
   ]
  },
  {
   "cell_type": "code",
   "execution_count": 263,
   "id": "76724931-54e3-4c0a-aa2d-3f79cf69993a",
   "metadata": {},
   "outputs": [
    {
     "data": {
      "text/html": [
       "<div>\n",
       "<style scoped>\n",
       "    .dataframe tbody tr th:only-of-type {\n",
       "        vertical-align: middle;\n",
       "    }\n",
       "\n",
       "    .dataframe tbody tr th {\n",
       "        vertical-align: top;\n",
       "    }\n",
       "\n",
       "    .dataframe thead th {\n",
       "        text-align: right;\n",
       "    }\n",
       "</style>\n",
       "<table border=\"1\" class=\"dataframe\">\n",
       "  <thead>\n",
       "    <tr style=\"text-align: right;\">\n",
       "      <th></th>\n",
       "      <th>MODEL NAME</th>\n",
       "      <th>ACCURACY</th>\n",
       "      <th>PRECISION</th>\n",
       "      <th>RECALL</th>\n",
       "      <th>F-1 SCORE</th>\n",
       "    </tr>\n",
       "  </thead>\n",
       "  <tbody>\n",
       "    <tr>\n",
       "      <th>0</th>\n",
       "      <td>LOGISTIC REGRESSION</td>\n",
       "      <td>89.518362</td>\n",
       "      <td>0.938585</td>\n",
       "      <td>0.863385</td>\n",
       "      <td>0.899416</td>\n",
       "    </tr>\n",
       "    <tr>\n",
       "      <th>1</th>\n",
       "      <td>DECISION TREE</td>\n",
       "      <td>97.330617</td>\n",
       "      <td>0.992624</td>\n",
       "      <td>0.955631</td>\n",
       "      <td>0.973776</td>\n",
       "    </tr>\n",
       "    <tr>\n",
       "      <th>2</th>\n",
       "      <td>RANDOM FOREST</td>\n",
       "      <td>98.782845</td>\n",
       "      <td>0.994141</td>\n",
       "      <td>0.954495</td>\n",
       "      <td>0.973915</td>\n",
       "    </tr>\n",
       "    <tr>\n",
       "      <th>3</th>\n",
       "      <td>XG-BOOST</td>\n",
       "      <td>97.053753</td>\n",
       "      <td>0.994978</td>\n",
       "      <td>0.948534</td>\n",
       "      <td>0.971201</td>\n",
       "    </tr>\n",
       "  </tbody>\n",
       "</table>\n",
       "</div>"
      ],
      "text/plain": [
       "            MODEL NAME   ACCURACY  PRECISION    RECALL  F-1 SCORE\n",
       "0  LOGISTIC REGRESSION  89.518362   0.938585  0.863385   0.899416\n",
       "1        DECISION TREE  97.330617   0.992624  0.955631   0.973776\n",
       "2        RANDOM FOREST  98.782845   0.994141  0.954495   0.973915\n",
       "3             XG-BOOST  97.053753   0.994978  0.948534   0.971201"
      ]
     },
     "execution_count": 263,
     "metadata": {},
     "output_type": "execute_result"
    }
   ],
   "source": [
    "result2=pd.DataFrame({\"MODEL NAME\":list1,\"ACCURACY\":list2,\"PRECISION\":list3,\"RECALL\":list4,\"F-1 SCORE\":list5})\n",
    "result2"
   ]
  },
  {
   "cell_type": "markdown",
   "id": "27b4163a-3860-4051-b4ef-88cdf2860405",
   "metadata": {},
   "source": [
    "FROM ABOVE DATAFRAME LOGISTIC REGRESSION ARE BEST SUITED MODEL THAN OTHERS.OTHER SOME MODELS ARE OVERFITTED."
   ]
  },
  {
   "cell_type": "markdown",
   "id": "45d6ccd5-c8e0-437a-b4f2-0a2841f990d8",
   "metadata": {},
   "source": [
    "# VALIDATION"
   ]
  },
  {
   "cell_type": "code",
   "execution_count": 264,
   "id": "2e23b2f6-b050-43db-9008-7518a8ceba45",
   "metadata": {},
   "outputs": [],
   "source": [
    "from sklearn.model_selection import cross_val_score"
   ]
  },
  {
   "cell_type": "code",
   "execution_count": 265,
   "id": "26475fbb-9ff2-4d8d-b3c0-f7bc3203c9ac",
   "metadata": {},
   "outputs": [],
   "source": [
    "score1 = cross_val_score(lg, x3, y3, cv=5)"
   ]
  },
  {
   "cell_type": "code",
   "execution_count": 266,
   "id": "d512c090-fced-473e-a5c2-6c4b5a05e07e",
   "metadata": {},
   "outputs": [
    {
     "name": "stdout",
     "output_type": "stream",
     "text": [
      "Cross-validation scores: [0.89181424 0.89737763 0.8963851  0.89722092 0.89581048]\n",
      "Mean CV accuracy: 0.90\n"
     ]
    }
   ],
   "source": [
    "print(f\"Cross-validation scores: {score1}\")\n",
    "print(f\"Mean CV accuracy: {score1.mean():.2f}\")"
   ]
  },
  {
   "cell_type": "markdown",
   "id": "9cda34ff-cb51-4ba7-b21f-6f9a0402958c",
   "metadata": {},
   "source": [
    "# StratifiedKFold"
   ]
  },
  {
   "cell_type": "code",
   "execution_count": 267,
   "id": "895675f2-1d8f-43d8-af0d-df1039bb8d07",
   "metadata": {},
   "outputs": [],
   "source": [
    "from sklearn.model_selection import StratifiedKFold"
   ]
  },
  {
   "cell_type": "code",
   "execution_count": 268,
   "id": "a4813357-f881-45c9-a434-b0833ce63191",
   "metadata": {},
   "outputs": [],
   "source": [
    "skf = StratifiedKFold(n_splits=5)"
   ]
  },
  {
   "cell_type": "code",
   "execution_count": 269,
   "id": "bb3aaf60-9141-4d65-ad71-103520eae6e6",
   "metadata": {},
   "outputs": [],
   "source": [
    "score2 = cross_val_score(lg,x3,y3, cv=skf)"
   ]
  },
  {
   "cell_type": "code",
   "execution_count": 270,
   "id": "a809001d-a6e5-454b-abd2-821561b3060e",
   "metadata": {},
   "outputs": [
    {
     "name": "stdout",
     "output_type": "stream",
     "text": [
      "Stratified CV accuracy: 0.90\n"
     ]
    }
   ],
   "source": [
    "print(f\"Stratified CV accuracy: {score2.mean():.2f}\")"
   ]
  },
  {
   "cell_type": "code",
   "execution_count": 271,
   "id": "dc9809a1-0752-4b64-a100-5c006b21257c",
   "metadata": {},
   "outputs": [
    {
     "name": "stdout",
     "output_type": "stream",
     "text": [
      "Standard deviation of CV scores: 0.00\n"
     ]
    }
   ],
   "source": [
    "print(f\"Standard deviation of CV scores: {score2.std():.2f}\")"
   ]
  },
  {
   "cell_type": "raw",
   "id": "96223cbc-e4ea-4e7a-bbee-f2749deb3e12",
   "metadata": {},
   "source": [
    "CONCLUSION - A 89% accuracy indicates that logistic regression model performs well on the data, consistently classifying instances correctly across the folds of StratifiedKFold cross-validation. The standard deviation of 0 suggests that the model's performance is highly stable and consistent across different subsets of the data."
   ]
  },
  {
   "cell_type": "code",
   "execution_count": null,
   "id": "f6267958-c84d-41fb-8e41-5d9af100dfa2",
   "metadata": {},
   "outputs": [],
   "source": []
  },
  {
   "cell_type": "code",
   "execution_count": null,
   "id": "21e368a5-0ddd-427d-8250-b00bbdc8a02c",
   "metadata": {},
   "outputs": [],
   "source": []
  },
  {
   "cell_type": "code",
   "execution_count": null,
   "id": "022cd8cb-4fdb-4a37-9b47-d1362659ad8f",
   "metadata": {},
   "outputs": [],
   "source": []
  },
  {
   "cell_type": "code",
   "execution_count": null,
   "id": "d29775e6-474c-4da1-ba5d-8e3cffc16da9",
   "metadata": {},
   "outputs": [],
   "source": []
  },
  {
   "cell_type": "markdown",
   "id": "55be232e-95a6-4f95-9993-e2a3a39bb50d",
   "metadata": {},
   "source": [
    "#### "
   ]
  },
  {
   "cell_type": "code",
   "execution_count": null,
   "id": "cbaf9fb7-cf35-4288-8652-e03b526401c3",
   "metadata": {},
   "outputs": [],
   "source": []
  }
 ],
 "metadata": {
  "kernelspec": {
   "display_name": "Python 3 (ipykernel)",
   "language": "python",
   "name": "python3"
  },
  "language_info": {
   "codemirror_mode": {
    "name": "ipython",
    "version": 3
   },
   "file_extension": ".py",
   "mimetype": "text/x-python",
   "name": "python",
   "nbconvert_exporter": "python",
   "pygments_lexer": "ipython3",
   "version": "3.11.7"
  }
 },
 "nbformat": 4,
 "nbformat_minor": 5
}
